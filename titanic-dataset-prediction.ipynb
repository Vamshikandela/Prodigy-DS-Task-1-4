{
 "cells": [
  {
   "cell_type": "markdown",
   "id": "0829379c",
   "metadata": {
    "papermill": {
     "duration": 0.011168,
     "end_time": "2022-07-15T07:31:51.744499",
     "exception": false,
     "start_time": "2022-07-15T07:31:51.733331",
     "status": "completed"
    },
    "tags": []
   },
   "source": [
    "> # **MACHINE LEARNING FROM DISASTER**"
   ]
  },
  {
   "cell_type": "markdown",
   "id": "cd627af7",
   "metadata": {
    "papermill": {
     "duration": 0.009835,
     "end_time": "2022-07-15T07:31:51.764588",
     "exception": false,
     "start_time": "2022-07-15T07:31:51.754753",
     "status": "completed"
    },
    "tags": []
   },
   "source": [
    "**Let's make survival prediction from the titanic dataset.**"
   ]
  },
  {
   "cell_type": "code",
   "execution_count": 1,
   "id": "a8d27a1c",
   "metadata": {
    "execution": {
     "iopub.execute_input": "2022-07-15T07:31:51.787326Z",
     "iopub.status.busy": "2022-07-15T07:31:51.786308Z",
     "iopub.status.idle": "2022-07-15T07:31:52.894258Z",
     "shell.execute_reply": "2022-07-15T07:31:52.893169Z"
    },
    "papermill": {
     "duration": 1.122466,
     "end_time": "2022-07-15T07:31:52.897011",
     "exception": false,
     "start_time": "2022-07-15T07:31:51.774545",
     "status": "completed"
    },
    "tags": []
   },
   "outputs": [],
   "source": [
    "#Importing required libraries\n",
    "import pandas as pd\n",
    "import numpy as np\n",
    "import matplotlib.pyplot as plt\n",
    "import seaborn as sns"
   ]
  },
  {
   "cell_type": "code",
   "execution_count": 2,
   "id": "826f5644",
   "metadata": {
    "execution": {
     "iopub.execute_input": "2022-07-15T07:31:52.919680Z",
     "iopub.status.busy": "2022-07-15T07:31:52.918476Z",
     "iopub.status.idle": "2022-07-15T07:31:52.945468Z",
     "shell.execute_reply": "2022-07-15T07:31:52.944423Z"
    },
    "papermill": {
     "duration": 0.040833,
     "end_time": "2022-07-15T07:31:52.948133",
     "exception": false,
     "start_time": "2022-07-15T07:31:52.907300",
     "status": "completed"
    },
    "tags": []
   },
   "outputs": [],
   "source": [
    "#Reading datasets\n",
    "#train data and test data\n",
    "train=pd.read_csv('../input/titanic/train.csv')\n",
    "test=pd.read_csv('../input/titanic/test.csv')"
   ]
  },
  {
   "cell_type": "code",
   "execution_count": 3,
   "id": "1fb5230e",
   "metadata": {
    "execution": {
     "iopub.execute_input": "2022-07-15T07:31:52.969671Z",
     "iopub.status.busy": "2022-07-15T07:31:52.969068Z",
     "iopub.status.idle": "2022-07-15T07:31:52.993939Z",
     "shell.execute_reply": "2022-07-15T07:31:52.992907Z"
    },
    "papermill": {
     "duration": 0.039225,
     "end_time": "2022-07-15T07:31:52.997384",
     "exception": false,
     "start_time": "2022-07-15T07:31:52.958159",
     "status": "completed"
    },
    "tags": []
   },
   "outputs": [
    {
     "data": {
      "text/html": [
       "<div>\n",
       "<style scoped>\n",
       "    .dataframe tbody tr th:only-of-type {\n",
       "        vertical-align: middle;\n",
       "    }\n",
       "\n",
       "    .dataframe tbody tr th {\n",
       "        vertical-align: top;\n",
       "    }\n",
       "\n",
       "    .dataframe thead th {\n",
       "        text-align: right;\n",
       "    }\n",
       "</style>\n",
       "<table border=\"1\" class=\"dataframe\">\n",
       "  <thead>\n",
       "    <tr style=\"text-align: right;\">\n",
       "      <th></th>\n",
       "      <th>PassengerId</th>\n",
       "      <th>Survived</th>\n",
       "      <th>Pclass</th>\n",
       "      <th>Name</th>\n",
       "      <th>Sex</th>\n",
       "      <th>Age</th>\n",
       "      <th>SibSp</th>\n",
       "      <th>Parch</th>\n",
       "      <th>Ticket</th>\n",
       "      <th>Fare</th>\n",
       "      <th>Cabin</th>\n",
       "      <th>Embarked</th>\n",
       "    </tr>\n",
       "  </thead>\n",
       "  <tbody>\n",
       "    <tr>\n",
       "      <th>0</th>\n",
       "      <td>1</td>\n",
       "      <td>0</td>\n",
       "      <td>3</td>\n",
       "      <td>Braund, Mr. Owen Harris</td>\n",
       "      <td>male</td>\n",
       "      <td>22.0</td>\n",
       "      <td>1</td>\n",
       "      <td>0</td>\n",
       "      <td>A/5 21171</td>\n",
       "      <td>7.2500</td>\n",
       "      <td>NaN</td>\n",
       "      <td>S</td>\n",
       "    </tr>\n",
       "    <tr>\n",
       "      <th>1</th>\n",
       "      <td>2</td>\n",
       "      <td>1</td>\n",
       "      <td>1</td>\n",
       "      <td>Cumings, Mrs. John Bradley (Florence Briggs Th...</td>\n",
       "      <td>female</td>\n",
       "      <td>38.0</td>\n",
       "      <td>1</td>\n",
       "      <td>0</td>\n",
       "      <td>PC 17599</td>\n",
       "      <td>71.2833</td>\n",
       "      <td>C85</td>\n",
       "      <td>C</td>\n",
       "    </tr>\n",
       "    <tr>\n",
       "      <th>2</th>\n",
       "      <td>3</td>\n",
       "      <td>1</td>\n",
       "      <td>3</td>\n",
       "      <td>Heikkinen, Miss. Laina</td>\n",
       "      <td>female</td>\n",
       "      <td>26.0</td>\n",
       "      <td>0</td>\n",
       "      <td>0</td>\n",
       "      <td>STON/O2. 3101282</td>\n",
       "      <td>7.9250</td>\n",
       "      <td>NaN</td>\n",
       "      <td>S</td>\n",
       "    </tr>\n",
       "    <tr>\n",
       "      <th>3</th>\n",
       "      <td>4</td>\n",
       "      <td>1</td>\n",
       "      <td>1</td>\n",
       "      <td>Futrelle, Mrs. Jacques Heath (Lily May Peel)</td>\n",
       "      <td>female</td>\n",
       "      <td>35.0</td>\n",
       "      <td>1</td>\n",
       "      <td>0</td>\n",
       "      <td>113803</td>\n",
       "      <td>53.1000</td>\n",
       "      <td>C123</td>\n",
       "      <td>S</td>\n",
       "    </tr>\n",
       "    <tr>\n",
       "      <th>4</th>\n",
       "      <td>5</td>\n",
       "      <td>0</td>\n",
       "      <td>3</td>\n",
       "      <td>Allen, Mr. William Henry</td>\n",
       "      <td>male</td>\n",
       "      <td>35.0</td>\n",
       "      <td>0</td>\n",
       "      <td>0</td>\n",
       "      <td>373450</td>\n",
       "      <td>8.0500</td>\n",
       "      <td>NaN</td>\n",
       "      <td>S</td>\n",
       "    </tr>\n",
       "  </tbody>\n",
       "</table>\n",
       "</div>"
      ],
      "text/plain": [
       "   PassengerId  Survived  Pclass  \\\n",
       "0            1         0       3   \n",
       "1            2         1       1   \n",
       "2            3         1       3   \n",
       "3            4         1       1   \n",
       "4            5         0       3   \n",
       "\n",
       "                                                Name     Sex   Age  SibSp  \\\n",
       "0                            Braund, Mr. Owen Harris    male  22.0      1   \n",
       "1  Cumings, Mrs. John Bradley (Florence Briggs Th...  female  38.0      1   \n",
       "2                             Heikkinen, Miss. Laina  female  26.0      0   \n",
       "3       Futrelle, Mrs. Jacques Heath (Lily May Peel)  female  35.0      1   \n",
       "4                           Allen, Mr. William Henry    male  35.0      0   \n",
       "\n",
       "   Parch            Ticket     Fare Cabin Embarked  \n",
       "0      0         A/5 21171   7.2500   NaN        S  \n",
       "1      0          PC 17599  71.2833   C85        C  \n",
       "2      0  STON/O2. 3101282   7.9250   NaN        S  \n",
       "3      0            113803  53.1000  C123        S  \n",
       "4      0            373450   8.0500   NaN        S  "
      ]
     },
     "execution_count": 3,
     "metadata": {},
     "output_type": "execute_result"
    }
   ],
   "source": [
    "#Viewing data and different features\n",
    "train.head()"
   ]
  },
  {
   "cell_type": "code",
   "execution_count": 4,
   "id": "345dcf50",
   "metadata": {
    "execution": {
     "iopub.execute_input": "2022-07-15T07:31:53.020521Z",
     "iopub.status.busy": "2022-07-15T07:31:53.020125Z",
     "iopub.status.idle": "2022-07-15T07:31:53.026860Z",
     "shell.execute_reply": "2022-07-15T07:31:53.025829Z"
    },
    "papermill": {
     "duration": 0.021243,
     "end_time": "2022-07-15T07:31:53.029112",
     "exception": false,
     "start_time": "2022-07-15T07:31:53.007869",
     "status": "completed"
    },
    "tags": []
   },
   "outputs": [
    {
     "data": {
      "text/plain": [
       "(891, 12)"
      ]
     },
     "execution_count": 4,
     "metadata": {},
     "output_type": "execute_result"
    }
   ],
   "source": [
    "train.shape "
   ]
  },
  {
   "cell_type": "code",
   "execution_count": 5,
   "id": "75f9f829",
   "metadata": {
    "execution": {
     "iopub.execute_input": "2022-07-15T07:31:53.051686Z",
     "iopub.status.busy": "2022-07-15T07:31:53.051315Z",
     "iopub.status.idle": "2022-07-15T07:31:53.058563Z",
     "shell.execute_reply": "2022-07-15T07:31:53.057449Z"
    },
    "papermill": {
     "duration": 0.021444,
     "end_time": "2022-07-15T07:31:53.060923",
     "exception": false,
     "start_time": "2022-07-15T07:31:53.039479",
     "status": "completed"
    },
    "tags": []
   },
   "outputs": [
    {
     "data": {
      "text/plain": [
       "Index(['PassengerId', 'Survived', 'Pclass', 'Name', 'Sex', 'Age', 'SibSp',\n",
       "       'Parch', 'Ticket', 'Fare', 'Cabin', 'Embarked'],\n",
       "      dtype='object')"
      ]
     },
     "execution_count": 5,
     "metadata": {},
     "output_type": "execute_result"
    }
   ],
   "source": [
    "train.columns "
   ]
  },
  {
   "cell_type": "code",
   "execution_count": 6,
   "id": "50c0a3be",
   "metadata": {
    "execution": {
     "iopub.execute_input": "2022-07-15T07:31:53.084449Z",
     "iopub.status.busy": "2022-07-15T07:31:53.083389Z",
     "iopub.status.idle": "2022-07-15T07:31:53.096481Z",
     "shell.execute_reply": "2022-07-15T07:31:53.095740Z"
    },
    "papermill": {
     "duration": 0.027023,
     "end_time": "2022-07-15T07:31:53.098531",
     "exception": false,
     "start_time": "2022-07-15T07:31:53.071508",
     "status": "completed"
    },
    "tags": []
   },
   "outputs": [
    {
     "data": {
      "text/plain": [
       "male      577\n",
       "female    314\n",
       "Name: Sex, dtype: int64"
      ]
     },
     "execution_count": 6,
     "metadata": {},
     "output_type": "execute_result"
    }
   ],
   "source": [
    "train['Sex'].value_counts()"
   ]
  },
  {
   "cell_type": "markdown",
   "id": "080c7dff",
   "metadata": {
    "papermill": {
     "duration": 0.010331,
     "end_time": "2022-07-15T07:31:53.119506",
     "exception": false,
     "start_time": "2022-07-15T07:31:53.109175",
     "status": "completed"
    },
    "tags": []
   },
   "source": [
    "# Data Visualization"
   ]
  },
  {
   "cell_type": "code",
   "execution_count": 7,
   "id": "145d0ac8",
   "metadata": {
    "execution": {
     "iopub.execute_input": "2022-07-15T07:31:53.143257Z",
     "iopub.status.busy": "2022-07-15T07:31:53.142577Z",
     "iopub.status.idle": "2022-07-15T07:31:53.401212Z",
     "shell.execute_reply": "2022-07-15T07:31:53.400106Z"
    },
    "papermill": {
     "duration": 0.272733,
     "end_time": "2022-07-15T07:31:53.403411",
     "exception": false,
     "start_time": "2022-07-15T07:31:53.130678",
     "status": "completed"
    },
    "tags": []
   },
   "outputs": [
    {
     "data": {
      "text/plain": [
       "<AxesSubplot:xlabel='Sex'>"
      ]
     },
     "execution_count": 7,
     "metadata": {},
     "output_type": "execute_result"
    },
    {
     "data": {
      "image/png": "[encoded data removed]",
      "text/plain": [
       "<Figure size 720x360 with 1 Axes>"
      ]
     },
     "metadata": {
      "needs_background": "light"
     },
     "output_type": "display_data"
    }
   ],
   "source": [
    "#Visualizing survivals based on gender\n",
    "train['Died'] = 1 - train['Survived']\n",
    "train.groupby('Sex').agg('sum')[['Survived', 'Died']].plot(kind='bar',\n",
    "                                                           figsize=(10, 5),\n",
    "                                                           stacked=True)"
   ]
  },
  {
   "cell_type": "code",
   "execution_count": 8,
   "id": "2d457a94",
   "metadata": {
    "execution": {
     "iopub.execute_input": "2022-07-15T07:31:53.427180Z",
     "iopub.status.busy": "2022-07-15T07:31:53.426797Z",
     "iopub.status.idle": "2022-07-15T07:31:53.863060Z",
     "shell.execute_reply": "2022-07-15T07:31:53.861974Z"
    },
    "papermill": {
     "duration": 0.45122,
     "end_time": "2022-07-15T07:31:53.865638",
     "exception": false,
     "start_time": "2022-07-15T07:31:53.414418",
     "status": "completed"
    },
    "tags": []
   },
   "outputs": [
    {
     "data": {
      "text/plain": [
       "<matplotlib.legend.Legend at 0x7ffa0422cb50>"
      ]
     },
     "execution_count": 8,
     "metadata": {},
     "output_type": "execute_result"
    },
    {
     "data": {
      "image/png": "[encoded data removed]",
      "text/plain": [
       "<Figure size 1152x504 with 1 Axes>"
      ]
     },
     "metadata": {
      "needs_background": "light"
     },
     "output_type": "display_data"
    }
   ],
   "source": [
    "##Visualizing survivals based on fare\n",
    "figure = plt.figure(figsize=(16, 7))\n",
    "plt.hist([train[train['Survived'] == 1]['Fare'], train[train['Survived'] == 0]['Fare']], \n",
    "         stacked=True, bins = 50, label = ['Survived','Dead'])\n",
    "plt.xlabel('Fare')\n",
    "plt.ylabel('Number of passengers')\n",
    "plt.legend()"
   ]
  },
  {
   "cell_type": "markdown",
   "id": "fad646f8",
   "metadata": {
    "papermill": {
     "duration": 0.011575,
     "end_time": "2022-07-15T07:31:53.889001",
     "exception": false,
     "start_time": "2022-07-15T07:31:53.877426",
     "status": "completed"
    },
    "tags": []
   },
   "source": [
    "# Processing training data"
   ]
  },
  {
   "cell_type": "code",
   "execution_count": 9,
   "id": "fdc88195",
   "metadata": {
    "execution": {
     "iopub.execute_input": "2022-07-15T07:31:53.914296Z",
     "iopub.status.busy": "2022-07-15T07:31:53.913583Z",
     "iopub.status.idle": "2022-07-15T07:31:53.931335Z",
     "shell.execute_reply": "2022-07-15T07:31:53.930030Z"
    },
    "papermill": {
     "duration": 0.033014,
     "end_time": "2022-07-15T07:31:53.933684",
     "exception": false,
     "start_time": "2022-07-15T07:31:53.900670",
     "status": "completed"
    },
    "tags": []
   },
   "outputs": [
    {
     "data": {
      "text/html": [
       "<div>\n",
       "<style scoped>\n",
       "    .dataframe tbody tr th:only-of-type {\n",
       "        vertical-align: middle;\n",
       "    }\n",
       "\n",
       "    .dataframe tbody tr th {\n",
       "        vertical-align: top;\n",
       "    }\n",
       "\n",
       "    .dataframe thead th {\n",
       "        text-align: right;\n",
       "    }\n",
       "</style>\n",
       "<table border=\"1\" class=\"dataframe\">\n",
       "  <thead>\n",
       "    <tr style=\"text-align: right;\">\n",
       "      <th></th>\n",
       "      <th>Survived</th>\n",
       "      <th>Pclass</th>\n",
       "      <th>Sex</th>\n",
       "      <th>Age</th>\n",
       "      <th>SibSp</th>\n",
       "      <th>Parch</th>\n",
       "      <th>Fare</th>\n",
       "      <th>Embarked</th>\n",
       "    </tr>\n",
       "  </thead>\n",
       "  <tbody>\n",
       "    <tr>\n",
       "      <th>0</th>\n",
       "      <td>0</td>\n",
       "      <td>3</td>\n",
       "      <td>male</td>\n",
       "      <td>22.0</td>\n",
       "      <td>1</td>\n",
       "      <td>0</td>\n",
       "      <td>7.2500</td>\n",
       "      <td>S</td>\n",
       "    </tr>\n",
       "    <tr>\n",
       "      <th>1</th>\n",
       "      <td>1</td>\n",
       "      <td>1</td>\n",
       "      <td>female</td>\n",
       "      <td>38.0</td>\n",
       "      <td>1</td>\n",
       "      <td>0</td>\n",
       "      <td>71.2833</td>\n",
       "      <td>C</td>\n",
       "    </tr>\n",
       "    <tr>\n",
       "      <th>2</th>\n",
       "      <td>1</td>\n",
       "      <td>3</td>\n",
       "      <td>female</td>\n",
       "      <td>26.0</td>\n",
       "      <td>0</td>\n",
       "      <td>0</td>\n",
       "      <td>7.9250</td>\n",
       "      <td>S</td>\n",
       "    </tr>\n",
       "    <tr>\n",
       "      <th>3</th>\n",
       "      <td>1</td>\n",
       "      <td>1</td>\n",
       "      <td>female</td>\n",
       "      <td>35.0</td>\n",
       "      <td>1</td>\n",
       "      <td>0</td>\n",
       "      <td>53.1000</td>\n",
       "      <td>S</td>\n",
       "    </tr>\n",
       "    <tr>\n",
       "      <th>4</th>\n",
       "      <td>0</td>\n",
       "      <td>3</td>\n",
       "      <td>male</td>\n",
       "      <td>35.0</td>\n",
       "      <td>0</td>\n",
       "      <td>0</td>\n",
       "      <td>8.0500</td>\n",
       "      <td>S</td>\n",
       "    </tr>\n",
       "    <tr>\n",
       "      <th>5</th>\n",
       "      <td>0</td>\n",
       "      <td>3</td>\n",
       "      <td>male</td>\n",
       "      <td>NaN</td>\n",
       "      <td>0</td>\n",
       "      <td>0</td>\n",
       "      <td>8.4583</td>\n",
       "      <td>Q</td>\n",
       "    </tr>\n",
       "    <tr>\n",
       "      <th>6</th>\n",
       "      <td>0</td>\n",
       "      <td>1</td>\n",
       "      <td>male</td>\n",
       "      <td>54.0</td>\n",
       "      <td>0</td>\n",
       "      <td>0</td>\n",
       "      <td>51.8625</td>\n",
       "      <td>S</td>\n",
       "    </tr>\n",
       "    <tr>\n",
       "      <th>7</th>\n",
       "      <td>0</td>\n",
       "      <td>3</td>\n",
       "      <td>male</td>\n",
       "      <td>2.0</td>\n",
       "      <td>3</td>\n",
       "      <td>1</td>\n",
       "      <td>21.0750</td>\n",
       "      <td>S</td>\n",
       "    </tr>\n",
       "    <tr>\n",
       "      <th>8</th>\n",
       "      <td>1</td>\n",
       "      <td>3</td>\n",
       "      <td>female</td>\n",
       "      <td>27.0</td>\n",
       "      <td>0</td>\n",
       "      <td>2</td>\n",
       "      <td>11.1333</td>\n",
       "      <td>S</td>\n",
       "    </tr>\n",
       "    <tr>\n",
       "      <th>9</th>\n",
       "      <td>1</td>\n",
       "      <td>2</td>\n",
       "      <td>female</td>\n",
       "      <td>14.0</td>\n",
       "      <td>1</td>\n",
       "      <td>0</td>\n",
       "      <td>30.0708</td>\n",
       "      <td>C</td>\n",
       "    </tr>\n",
       "  </tbody>\n",
       "</table>\n",
       "</div>"
      ],
      "text/plain": [
       "   Survived  Pclass     Sex   Age  SibSp  Parch     Fare Embarked\n",
       "0         0       3    male  22.0      1      0   7.2500        S\n",
       "1         1       1  female  38.0      1      0  71.2833        C\n",
       "2         1       3  female  26.0      0      0   7.9250        S\n",
       "3         1       1  female  35.0      1      0  53.1000        S\n",
       "4         0       3    male  35.0      0      0   8.0500        S\n",
       "5         0       3    male   NaN      0      0   8.4583        Q\n",
       "6         0       1    male  54.0      0      0  51.8625        S\n",
       "7         0       3    male   2.0      3      1  21.0750        S\n",
       "8         1       3  female  27.0      0      2  11.1333        S\n",
       "9         1       2  female  14.0      1      0  30.0708        C"
      ]
     },
     "execution_count": 9,
     "metadata": {},
     "output_type": "execute_result"
    }
   ],
   "source": [
    "#Cleaning the data by removing irrelevant columns\n",
    "df1=train.drop(['Name','Ticket','Cabin','PassengerId','Died'], axis=1)\n",
    "df1.head(10)"
   ]
  },
  {
   "cell_type": "code",
   "execution_count": 10,
   "id": "bad5e87e",
   "metadata": {
    "execution": {
     "iopub.execute_input": "2022-07-15T07:31:53.959746Z",
     "iopub.status.busy": "2022-07-15T07:31:53.959335Z",
     "iopub.status.idle": "2022-07-15T07:31:53.968159Z",
     "shell.execute_reply": "2022-07-15T07:31:53.967417Z"
    },
    "papermill": {
     "duration": 0.02398,
     "end_time": "2022-07-15T07:31:53.970069",
     "exception": false,
     "start_time": "2022-07-15T07:31:53.946089",
     "status": "completed"
    },
    "tags": []
   },
   "outputs": [
    {
     "data": {
      "text/plain": [
       "Survived      0\n",
       "Pclass        0\n",
       "Sex           0\n",
       "Age         177\n",
       "SibSp         0\n",
       "Parch         0\n",
       "Fare          0\n",
       "Embarked      2\n",
       "dtype: int64"
      ]
     },
     "execution_count": 10,
     "metadata": {},
     "output_type": "execute_result"
    }
   ],
   "source": [
    "df1.isnull().sum() "
   ]
  },
  {
   "cell_type": "code",
   "execution_count": 11,
   "id": "e655c756",
   "metadata": {
    "execution": {
     "iopub.execute_input": "2022-07-15T07:31:53.995918Z",
     "iopub.status.busy": "2022-07-15T07:31:53.995498Z",
     "iopub.status.idle": "2022-07-15T07:31:54.012595Z",
     "shell.execute_reply": "2022-07-15T07:31:54.011778Z"
    },
    "papermill": {
     "duration": 0.032603,
     "end_time": "2022-07-15T07:31:54.014636",
     "exception": false,
     "start_time": "2022-07-15T07:31:53.982033",
     "status": "completed"
    },
    "tags": []
   },
   "outputs": [
    {
     "data": {
      "text/html": [
       "<div>\n",
       "<style scoped>\n",
       "    .dataframe tbody tr th:only-of-type {\n",
       "        vertical-align: middle;\n",
       "    }\n",
       "\n",
       "    .dataframe tbody tr th {\n",
       "        vertical-align: top;\n",
       "    }\n",
       "\n",
       "    .dataframe thead th {\n",
       "        text-align: right;\n",
       "    }\n",
       "</style>\n",
       "<table border=\"1\" class=\"dataframe\">\n",
       "  <thead>\n",
       "    <tr style=\"text-align: right;\">\n",
       "      <th></th>\n",
       "      <th>Survived</th>\n",
       "      <th>Pclass</th>\n",
       "      <th>Sex</th>\n",
       "      <th>Age</th>\n",
       "      <th>SibSp</th>\n",
       "      <th>Parch</th>\n",
       "      <th>Fare</th>\n",
       "      <th>Embarked</th>\n",
       "    </tr>\n",
       "  </thead>\n",
       "  <tbody>\n",
       "    <tr>\n",
       "      <th>0</th>\n",
       "      <td>0</td>\n",
       "      <td>3</td>\n",
       "      <td>1</td>\n",
       "      <td>22.0</td>\n",
       "      <td>1</td>\n",
       "      <td>0</td>\n",
       "      <td>7.2500</td>\n",
       "      <td>0</td>\n",
       "    </tr>\n",
       "    <tr>\n",
       "      <th>1</th>\n",
       "      <td>1</td>\n",
       "      <td>1</td>\n",
       "      <td>0</td>\n",
       "      <td>38.0</td>\n",
       "      <td>1</td>\n",
       "      <td>0</td>\n",
       "      <td>71.2833</td>\n",
       "      <td>1</td>\n",
       "    </tr>\n",
       "    <tr>\n",
       "      <th>2</th>\n",
       "      <td>1</td>\n",
       "      <td>3</td>\n",
       "      <td>0</td>\n",
       "      <td>26.0</td>\n",
       "      <td>0</td>\n",
       "      <td>0</td>\n",
       "      <td>7.9250</td>\n",
       "      <td>0</td>\n",
       "    </tr>\n",
       "    <tr>\n",
       "      <th>3</th>\n",
       "      <td>1</td>\n",
       "      <td>1</td>\n",
       "      <td>0</td>\n",
       "      <td>35.0</td>\n",
       "      <td>1</td>\n",
       "      <td>0</td>\n",
       "      <td>53.1000</td>\n",
       "      <td>0</td>\n",
       "    </tr>\n",
       "    <tr>\n",
       "      <th>4</th>\n",
       "      <td>0</td>\n",
       "      <td>3</td>\n",
       "      <td>1</td>\n",
       "      <td>35.0</td>\n",
       "      <td>0</td>\n",
       "      <td>0</td>\n",
       "      <td>8.0500</td>\n",
       "      <td>0</td>\n",
       "    </tr>\n",
       "  </tbody>\n",
       "</table>\n",
       "</div>"
      ],
      "text/plain": [
       "   Survived  Pclass  Sex   Age  SibSp  Parch     Fare Embarked\n",
       "0         0       3    1  22.0      1      0   7.2500        0\n",
       "1         1       1    0  38.0      1      0  71.2833        1\n",
       "2         1       3    0  26.0      0      0   7.9250        0\n",
       "3         1       1    0  35.0      1      0  53.1000        0\n",
       "4         0       3    1  35.0      0      0   8.0500        0"
      ]
     },
     "execution_count": 11,
     "metadata": {},
     "output_type": "execute_result"
    }
   ],
   "source": [
    "#Converting the categorical features 'Sex' and 'Embarked' into numerical values 0 & 1\n",
    "df1.Sex=df1.Sex.map({'female':0, 'male':1})\n",
    "df1.Embarked=df1.Embarked.map({'S':0, 'C':1, 'Q':2,'nan':'NaN'})\n",
    "df1.head()"
   ]
  },
  {
   "cell_type": "code",
   "execution_count": 12,
   "id": "910cdd20",
   "metadata": {
    "execution": {
     "iopub.execute_input": "2022-07-15T07:31:54.041761Z",
     "iopub.status.busy": "2022-07-15T07:31:54.041056Z",
     "iopub.status.idle": "2022-07-15T07:31:54.048103Z",
     "shell.execute_reply": "2022-07-15T07:31:54.047257Z"
    },
    "papermill": {
     "duration": 0.023406,
     "end_time": "2022-07-15T07:31:54.050324",
     "exception": false,
     "start_time": "2022-07-15T07:31:54.026918",
     "status": "completed"
    },
    "tags": []
   },
   "outputs": [],
   "source": [
    "#Mean age of each sex\n",
    "mean_age_men=df1[df1['Sex']==1]['Age'].mean()\n",
    "mean_age_women=df1[df1['Sex']==0]['Age'].mean()"
   ]
  },
  {
   "cell_type": "code",
   "execution_count": 13,
   "id": "15258879",
   "metadata": {
    "execution": {
     "iopub.execute_input": "2022-07-15T07:31:54.077039Z",
     "iopub.status.busy": "2022-07-15T07:31:54.076331Z",
     "iopub.status.idle": "2022-07-15T07:31:54.083469Z",
     "shell.execute_reply": "2022-07-15T07:31:54.082683Z"
    },
    "papermill": {
     "duration": 0.022779,
     "end_time": "2022-07-15T07:31:54.085516",
     "exception": false,
     "start_time": "2022-07-15T07:31:54.062737",
     "status": "completed"
    },
    "tags": []
   },
   "outputs": [],
   "source": [
    "#Filling all the null values in 'Age' with respective mean age\n",
    "df1.loc[(df1.Age.isnull()) & (df1['Sex']==0),'Age']=mean_age_women\n",
    "df1.loc[(df1.Age.isnull()) & (df1['Sex']==1),'Age']=mean_age_men"
   ]
  },
  {
   "cell_type": "code",
   "execution_count": 14,
   "id": "a926e3d3",
   "metadata": {
    "execution": {
     "iopub.execute_input": "2022-07-15T07:31:54.111676Z",
     "iopub.status.busy": "2022-07-15T07:31:54.111273Z",
     "iopub.status.idle": "2022-07-15T07:31:54.120214Z",
     "shell.execute_reply": "2022-07-15T07:31:54.119355Z"
    },
    "papermill": {
     "duration": 0.024364,
     "end_time": "2022-07-15T07:31:54.122203",
     "exception": false,
     "start_time": "2022-07-15T07:31:54.097839",
     "status": "completed"
    },
    "tags": []
   },
   "outputs": [
    {
     "data": {
      "text/plain": [
       "Survived    0\n",
       "Pclass      0\n",
       "Sex         0\n",
       "Age         0\n",
       "SibSp       0\n",
       "Parch       0\n",
       "Fare        0\n",
       "Embarked    2\n",
       "dtype: int64"
      ]
     },
     "execution_count": 14,
     "metadata": {},
     "output_type": "execute_result"
    }
   ],
   "source": [
    "#Let's check for the null values again now\n",
    "df1.isnull().sum()"
   ]
  },
  {
   "cell_type": "code",
   "execution_count": 15,
   "id": "edd3670e",
   "metadata": {
    "execution": {
     "iopub.execute_input": "2022-07-15T07:31:54.149017Z",
     "iopub.status.busy": "2022-07-15T07:31:54.148625Z",
     "iopub.status.idle": "2022-07-15T07:31:54.155524Z",
     "shell.execute_reply": "2022-07-15T07:31:54.154343Z"
    },
    "papermill": {
     "duration": 0.023509,
     "end_time": "2022-07-15T07:31:54.158072",
     "exception": false,
     "start_time": "2022-07-15T07:31:54.134563",
     "status": "completed"
    },
    "tags": []
   },
   "outputs": [],
   "source": [
    "#Since there exist 2 null values in the Embarked column, let's drop those rows containing null values\n",
    "df1.dropna(inplace=True)"
   ]
  },
  {
   "cell_type": "code",
   "execution_count": 16,
   "id": "96fe8847",
   "metadata": {
    "execution": {
     "iopub.execute_input": "2022-07-15T07:31:54.184820Z",
     "iopub.status.busy": "2022-07-15T07:31:54.184401Z",
     "iopub.status.idle": "2022-07-15T07:31:54.194251Z",
     "shell.execute_reply": "2022-07-15T07:31:54.193183Z"
    },
    "papermill": {
     "duration": 0.025667,
     "end_time": "2022-07-15T07:31:54.196426",
     "exception": false,
     "start_time": "2022-07-15T07:31:54.170759",
     "status": "completed"
    },
    "tags": []
   },
   "outputs": [
    {
     "data": {
      "text/plain": [
       "Survived    0\n",
       "Pclass      0\n",
       "Sex         0\n",
       "Age         0\n",
       "SibSp       0\n",
       "Parch       0\n",
       "Fare        0\n",
       "Embarked    0\n",
       "dtype: int64"
      ]
     },
     "execution_count": 16,
     "metadata": {},
     "output_type": "execute_result"
    }
   ],
   "source": [
    "df1.isnull().sum()"
   ]
  },
  {
   "cell_type": "code",
   "execution_count": 17,
   "id": "b164a97b",
   "metadata": {
    "execution": {
     "iopub.execute_input": "2022-07-15T07:31:54.223524Z",
     "iopub.status.busy": "2022-07-15T07:31:54.223085Z",
     "iopub.status.idle": "2022-07-15T07:31:54.262151Z",
     "shell.execute_reply": "2022-07-15T07:31:54.260922Z"
    },
    "papermill": {
     "duration": 0.05557,
     "end_time": "2022-07-15T07:31:54.264640",
     "exception": false,
     "start_time": "2022-07-15T07:31:54.209070",
     "status": "completed"
    },
    "tags": []
   },
   "outputs": [
    {
     "data": {
      "text/html": [
       "<div>\n",
       "<style scoped>\n",
       "    .dataframe tbody tr th:only-of-type {\n",
       "        vertical-align: middle;\n",
       "    }\n",
       "\n",
       "    .dataframe tbody tr th {\n",
       "        vertical-align: top;\n",
       "    }\n",
       "\n",
       "    .dataframe thead th {\n",
       "        text-align: right;\n",
       "    }\n",
       "</style>\n",
       "<table border=\"1\" class=\"dataframe\">\n",
       "  <thead>\n",
       "    <tr style=\"text-align: right;\">\n",
       "      <th></th>\n",
       "      <th>Survived</th>\n",
       "      <th>Pclass</th>\n",
       "      <th>Sex</th>\n",
       "      <th>Age</th>\n",
       "      <th>SibSp</th>\n",
       "      <th>Parch</th>\n",
       "      <th>Fare</th>\n",
       "    </tr>\n",
       "  </thead>\n",
       "  <tbody>\n",
       "    <tr>\n",
       "      <th>count</th>\n",
       "      <td>889.000000</td>\n",
       "      <td>889.000000</td>\n",
       "      <td>889.000000</td>\n",
       "      <td>889.000000</td>\n",
       "      <td>889.000000</td>\n",
       "      <td>889.000000</td>\n",
       "      <td>889.000000</td>\n",
       "    </tr>\n",
       "    <tr>\n",
       "      <th>mean</th>\n",
       "      <td>0.382452</td>\n",
       "      <td>2.311586</td>\n",
       "      <td>0.649044</td>\n",
       "      <td>0.367812</td>\n",
       "      <td>0.524184</td>\n",
       "      <td>0.382452</td>\n",
       "      <td>0.062649</td>\n",
       "    </tr>\n",
       "    <tr>\n",
       "      <th>std</th>\n",
       "      <td>0.486260</td>\n",
       "      <td>0.834700</td>\n",
       "      <td>0.477538</td>\n",
       "      <td>0.163124</td>\n",
       "      <td>1.103705</td>\n",
       "      <td>0.806761</td>\n",
       "      <td>0.097003</td>\n",
       "    </tr>\n",
       "    <tr>\n",
       "      <th>min</th>\n",
       "      <td>0.000000</td>\n",
       "      <td>1.000000</td>\n",
       "      <td>0.000000</td>\n",
       "      <td>0.000000</td>\n",
       "      <td>0.000000</td>\n",
       "      <td>0.000000</td>\n",
       "      <td>0.000000</td>\n",
       "    </tr>\n",
       "    <tr>\n",
       "      <th>25%</th>\n",
       "      <td>0.000000</td>\n",
       "      <td>2.000000</td>\n",
       "      <td>0.000000</td>\n",
       "      <td>0.271174</td>\n",
       "      <td>0.000000</td>\n",
       "      <td>0.000000</td>\n",
       "      <td>0.015412</td>\n",
       "    </tr>\n",
       "    <tr>\n",
       "      <th>50%</th>\n",
       "      <td>0.000000</td>\n",
       "      <td>3.000000</td>\n",
       "      <td>1.000000</td>\n",
       "      <td>0.371701</td>\n",
       "      <td>0.000000</td>\n",
       "      <td>0.000000</td>\n",
       "      <td>0.028213</td>\n",
       "    </tr>\n",
       "    <tr>\n",
       "      <th>75%</th>\n",
       "      <td>1.000000</td>\n",
       "      <td>3.000000</td>\n",
       "      <td>1.000000</td>\n",
       "      <td>0.434531</td>\n",
       "      <td>1.000000</td>\n",
       "      <td>0.000000</td>\n",
       "      <td>0.060508</td>\n",
       "    </tr>\n",
       "    <tr>\n",
       "      <th>max</th>\n",
       "      <td>1.000000</td>\n",
       "      <td>3.000000</td>\n",
       "      <td>1.000000</td>\n",
       "      <td>1.000000</td>\n",
       "      <td>8.000000</td>\n",
       "      <td>6.000000</td>\n",
       "      <td>1.000000</td>\n",
       "    </tr>\n",
       "  </tbody>\n",
       "</table>\n",
       "</div>"
      ],
      "text/plain": [
       "         Survived      Pclass         Sex         Age       SibSp       Parch  \\\n",
       "count  889.000000  889.000000  889.000000  889.000000  889.000000  889.000000   \n",
       "mean     0.382452    2.311586    0.649044    0.367812    0.524184    0.382452   \n",
       "std      0.486260    0.834700    0.477538    0.163124    1.103705    0.806761   \n",
       "min      0.000000    1.000000    0.000000    0.000000    0.000000    0.000000   \n",
       "25%      0.000000    2.000000    0.000000    0.271174    0.000000    0.000000   \n",
       "50%      0.000000    3.000000    1.000000    0.371701    0.000000    0.000000   \n",
       "75%      1.000000    3.000000    1.000000    0.434531    1.000000    0.000000   \n",
       "max      1.000000    3.000000    1.000000    1.000000    8.000000    6.000000   \n",
       "\n",
       "             Fare  \n",
       "count  889.000000  \n",
       "mean     0.062649  \n",
       "std      0.097003  \n",
       "min      0.000000  \n",
       "25%      0.015412  \n",
       "50%      0.028213  \n",
       "75%      0.060508  \n",
       "max      1.000000  "
      ]
     },
     "execution_count": 17,
     "metadata": {},
     "output_type": "execute_result"
    }
   ],
   "source": [
    "#Doing Feature Scaling to standardize the independent features present in the data in a fixed range\n",
    "df1.Age = (df1.Age-min(df1.Age))/(max(df1.Age)-min(df1.Age))\n",
    "df1.Fare = (df1.Fare-min(df1.Fare))/(max(df1.Fare)-min(df1.Fare))\n",
    "df1.describe()"
   ]
  },
  {
   "cell_type": "markdown",
   "id": "32af51f5",
   "metadata": {
    "papermill": {
     "duration": 0.012544,
     "end_time": "2022-07-15T07:31:54.289970",
     "exception": false,
     "start_time": "2022-07-15T07:31:54.277426",
     "status": "completed"
    },
    "tags": []
   },
   "source": [
    "# Creating model"
   ]
  },
  {
   "cell_type": "code",
   "execution_count": 18,
   "id": "828a4be4",
   "metadata": {
    "execution": {
     "iopub.execute_input": "2022-07-15T07:31:54.317461Z",
     "iopub.status.busy": "2022-07-15T07:31:54.316639Z",
     "iopub.status.idle": "2022-07-15T07:31:54.515895Z",
     "shell.execute_reply": "2022-07-15T07:31:54.514832Z"
    },
    "papermill": {
     "duration": 0.216123,
     "end_time": "2022-07-15T07:31:54.518733",
     "exception": false,
     "start_time": "2022-07-15T07:31:54.302610",
     "status": "completed"
    },
    "tags": []
   },
   "outputs": [],
   "source": [
    "#Splitting the data for training and testing\n",
    "from sklearn.model_selection import train_test_split\n",
    "X_train, X_test, y_train, y_test = train_test_split(\n",
    "    df1.drop(['Survived'], axis=1),\n",
    "    df1.Survived,\n",
    "    test_size= 0.2,\n",
    "    random_state=0,\n",
    "    stratify=df1.Survived)"
   ]
  },
  {
   "cell_type": "markdown",
   "id": "38c77330",
   "metadata": {
    "papermill": {
     "duration": 0.012351,
     "end_time": "2022-07-15T07:31:54.544324",
     "exception": false,
     "start_time": "2022-07-15T07:31:54.531973",
     "status": "completed"
    },
    "tags": []
   },
   "source": [
    "**Logistic Regression**"
   ]
  },
  {
   "cell_type": "code",
   "execution_count": 19,
   "id": "6d7317d8",
   "metadata": {
    "execution": {
     "iopub.execute_input": "2022-07-15T07:31:54.571998Z",
     "iopub.status.busy": "2022-07-15T07:31:54.571228Z",
     "iopub.status.idle": "2022-07-15T07:31:54.676271Z",
     "shell.execute_reply": "2022-07-15T07:31:54.674706Z"
    },
    "papermill": {
     "duration": 0.121949,
     "end_time": "2022-07-15T07:31:54.679019",
     "exception": false,
     "start_time": "2022-07-15T07:31:54.557070",
     "status": "completed"
    },
    "tags": []
   },
   "outputs": [
    {
     "data": {
      "text/plain": [
       "0.8426966292134831"
      ]
     },
     "execution_count": 19,
     "metadata": {},
     "output_type": "execute_result"
    }
   ],
   "source": [
    "from sklearn.linear_model import LogisticRegression\n",
    "lrmod = LogisticRegression()\n",
    "lrmod.fit(X_train, y_train)\n",
    "from sklearn.metrics import accuracy_score\n",
    "y_predict = lrmod.predict(X_test)\n",
    "accuracy_score(y_test, y_predict)"
   ]
  },
  {
   "cell_type": "code",
   "execution_count": 20,
   "id": "252da60f",
   "metadata": {
    "execution": {
     "iopub.execute_input": "2022-07-15T07:31:54.707379Z",
     "iopub.status.busy": "2022-07-15T07:31:54.706390Z",
     "iopub.status.idle": "2022-07-15T07:31:54.928408Z",
     "shell.execute_reply": "2022-07-15T07:31:54.927200Z"
    },
    "papermill": {
     "duration": 0.239185,
     "end_time": "2022-07-15T07:31:54.931115",
     "exception": false,
     "start_time": "2022-07-15T07:31:54.691930",
     "status": "completed"
    },
    "tags": []
   },
   "outputs": [
    {
     "data": {
      "text/plain": [
       "<AxesSubplot:>"
      ]
     },
     "execution_count": 20,
     "metadata": {},
     "output_type": "execute_result"
    },
    {
     "data": {
      "image/png": "[encoded data removed]",
      "text/plain": [
       "<Figure size 432x288 with 2 Axes>"
      ]
     },
     "metadata": {
      "needs_background": "light"
     },
     "output_type": "display_data"
    }
   ],
   "source": [
    "#Confusion Matrix\n",
    "from sklearn.metrics import confusion_matrix\n",
    "cma=confusion_matrix(y_test, y_predict)\n",
    "sns.heatmap(cma,annot=True)"
   ]
  },
  {
   "cell_type": "markdown",
   "id": "eaa1bb5a",
   "metadata": {
    "papermill": {
     "duration": 0.012863,
     "end_time": "2022-07-15T07:31:54.957303",
     "exception": false,
     "start_time": "2022-07-15T07:31:54.944440",
     "status": "completed"
    },
    "tags": []
   },
   "source": [
    "# Processing test data"
   ]
  },
  {
   "cell_type": "code",
   "execution_count": 21,
   "id": "643409c4",
   "metadata": {
    "execution": {
     "iopub.execute_input": "2022-07-15T07:31:54.986075Z",
     "iopub.status.busy": "2022-07-15T07:31:54.985277Z",
     "iopub.status.idle": "2022-07-15T07:31:55.001541Z",
     "shell.execute_reply": "2022-07-15T07:31:55.000358Z"
    },
    "papermill": {
     "duration": 0.033327,
     "end_time": "2022-07-15T07:31:55.003852",
     "exception": false,
     "start_time": "2022-07-15T07:31:54.970525",
     "status": "completed"
    },
    "tags": []
   },
   "outputs": [
    {
     "data": {
      "text/html": [
       "<div>\n",
       "<style scoped>\n",
       "    .dataframe tbody tr th:only-of-type {\n",
       "        vertical-align: middle;\n",
       "    }\n",
       "\n",
       "    .dataframe tbody tr th {\n",
       "        vertical-align: top;\n",
       "    }\n",
       "\n",
       "    .dataframe thead th {\n",
       "        text-align: right;\n",
       "    }\n",
       "</style>\n",
       "<table border=\"1\" class=\"dataframe\">\n",
       "  <thead>\n",
       "    <tr style=\"text-align: right;\">\n",
       "      <th></th>\n",
       "      <th>PassengerId</th>\n",
       "      <th>Pclass</th>\n",
       "      <th>Name</th>\n",
       "      <th>Sex</th>\n",
       "      <th>Age</th>\n",
       "      <th>SibSp</th>\n",
       "      <th>Parch</th>\n",
       "      <th>Ticket</th>\n",
       "      <th>Fare</th>\n",
       "      <th>Cabin</th>\n",
       "      <th>Embarked</th>\n",
       "    </tr>\n",
       "  </thead>\n",
       "  <tbody>\n",
       "    <tr>\n",
       "      <th>0</th>\n",
       "      <td>892</td>\n",
       "      <td>3</td>\n",
       "      <td>Kelly, Mr. James</td>\n",
       "      <td>male</td>\n",
       "      <td>34.5</td>\n",
       "      <td>0</td>\n",
       "      <td>0</td>\n",
       "      <td>330911</td>\n",
       "      <td>7.8292</td>\n",
       "      <td>NaN</td>\n",
       "      <td>Q</td>\n",
       "    </tr>\n",
       "    <tr>\n",
       "      <th>1</th>\n",
       "      <td>893</td>\n",
       "      <td>3</td>\n",
       "      <td>Wilkes, Mrs. James (Ellen Needs)</td>\n",
       "      <td>female</td>\n",
       "      <td>47.0</td>\n",
       "      <td>1</td>\n",
       "      <td>0</td>\n",
       "      <td>363272</td>\n",
       "      <td>7.0000</td>\n",
       "      <td>NaN</td>\n",
       "      <td>S</td>\n",
       "    </tr>\n",
       "    <tr>\n",
       "      <th>2</th>\n",
       "      <td>894</td>\n",
       "      <td>2</td>\n",
       "      <td>Myles, Mr. Thomas Francis</td>\n",
       "      <td>male</td>\n",
       "      <td>62.0</td>\n",
       "      <td>0</td>\n",
       "      <td>0</td>\n",
       "      <td>240276</td>\n",
       "      <td>9.6875</td>\n",
       "      <td>NaN</td>\n",
       "      <td>Q</td>\n",
       "    </tr>\n",
       "    <tr>\n",
       "      <th>3</th>\n",
       "      <td>895</td>\n",
       "      <td>3</td>\n",
       "      <td>Wirz, Mr. Albert</td>\n",
       "      <td>male</td>\n",
       "      <td>27.0</td>\n",
       "      <td>0</td>\n",
       "      <td>0</td>\n",
       "      <td>315154</td>\n",
       "      <td>8.6625</td>\n",
       "      <td>NaN</td>\n",
       "      <td>S</td>\n",
       "    </tr>\n",
       "    <tr>\n",
       "      <th>4</th>\n",
       "      <td>896</td>\n",
       "      <td>3</td>\n",
       "      <td>Hirvonen, Mrs. Alexander (Helga E Lindqvist)</td>\n",
       "      <td>female</td>\n",
       "      <td>22.0</td>\n",
       "      <td>1</td>\n",
       "      <td>1</td>\n",
       "      <td>3101298</td>\n",
       "      <td>12.2875</td>\n",
       "      <td>NaN</td>\n",
       "      <td>S</td>\n",
       "    </tr>\n",
       "  </tbody>\n",
       "</table>\n",
       "</div>"
      ],
      "text/plain": [
       "   PassengerId  Pclass                                          Name     Sex  \\\n",
       "0          892       3                              Kelly, Mr. James    male   \n",
       "1          893       3              Wilkes, Mrs. James (Ellen Needs)  female   \n",
       "2          894       2                     Myles, Mr. Thomas Francis    male   \n",
       "3          895       3                              Wirz, Mr. Albert    male   \n",
       "4          896       3  Hirvonen, Mrs. Alexander (Helga E Lindqvist)  female   \n",
       "\n",
       "    Age  SibSp  Parch   Ticket     Fare Cabin Embarked  \n",
       "0  34.5      0      0   330911   7.8292   NaN        Q  \n",
       "1  47.0      1      0   363272   7.0000   NaN        S  \n",
       "2  62.0      0      0   240276   9.6875   NaN        Q  \n",
       "3  27.0      0      0   315154   8.6625   NaN        S  \n",
       "4  22.0      1      1  3101298  12.2875   NaN        S  "
      ]
     },
     "execution_count": 21,
     "metadata": {},
     "output_type": "execute_result"
    }
   ],
   "source": [
    "#Viewing test data\n",
    "test.head()"
   ]
  },
  {
   "cell_type": "code",
   "execution_count": 22,
   "id": "a2a74447",
   "metadata": {
    "execution": {
     "iopub.execute_input": "2022-07-15T07:31:55.032907Z",
     "iopub.status.busy": "2022-07-15T07:31:55.032140Z",
     "iopub.status.idle": "2022-07-15T07:31:55.052589Z",
     "shell.execute_reply": "2022-07-15T07:31:55.051478Z"
    },
    "papermill": {
     "duration": 0.038,
     "end_time": "2022-07-15T07:31:55.055178",
     "exception": false,
     "start_time": "2022-07-15T07:31:55.017178",
     "status": "completed"
    },
    "tags": []
   },
   "outputs": [
    {
     "data": {
      "text/html": [
       "<div>\n",
       "<style scoped>\n",
       "    .dataframe tbody tr th:only-of-type {\n",
       "        vertical-align: middle;\n",
       "    }\n",
       "\n",
       "    .dataframe tbody tr th {\n",
       "        vertical-align: top;\n",
       "    }\n",
       "\n",
       "    .dataframe thead th {\n",
       "        text-align: right;\n",
       "    }\n",
       "</style>\n",
       "<table border=\"1\" class=\"dataframe\">\n",
       "  <thead>\n",
       "    <tr style=\"text-align: right;\">\n",
       "      <th></th>\n",
       "      <th>Pclass</th>\n",
       "      <th>Sex</th>\n",
       "      <th>Age</th>\n",
       "      <th>SibSp</th>\n",
       "      <th>Parch</th>\n",
       "      <th>Fare</th>\n",
       "      <th>Embarked</th>\n",
       "    </tr>\n",
       "  </thead>\n",
       "  <tbody>\n",
       "    <tr>\n",
       "      <th>0</th>\n",
       "      <td>3</td>\n",
       "      <td>male</td>\n",
       "      <td>34.5</td>\n",
       "      <td>0</td>\n",
       "      <td>0</td>\n",
       "      <td>7.8292</td>\n",
       "      <td>Q</td>\n",
       "    </tr>\n",
       "    <tr>\n",
       "      <th>1</th>\n",
       "      <td>3</td>\n",
       "      <td>female</td>\n",
       "      <td>47.0</td>\n",
       "      <td>1</td>\n",
       "      <td>0</td>\n",
       "      <td>7.0000</td>\n",
       "      <td>S</td>\n",
       "    </tr>\n",
       "    <tr>\n",
       "      <th>2</th>\n",
       "      <td>2</td>\n",
       "      <td>male</td>\n",
       "      <td>62.0</td>\n",
       "      <td>0</td>\n",
       "      <td>0</td>\n",
       "      <td>9.6875</td>\n",
       "      <td>Q</td>\n",
       "    </tr>\n",
       "    <tr>\n",
       "      <th>3</th>\n",
       "      <td>3</td>\n",
       "      <td>male</td>\n",
       "      <td>27.0</td>\n",
       "      <td>0</td>\n",
       "      <td>0</td>\n",
       "      <td>8.6625</td>\n",
       "      <td>S</td>\n",
       "    </tr>\n",
       "    <tr>\n",
       "      <th>4</th>\n",
       "      <td>3</td>\n",
       "      <td>female</td>\n",
       "      <td>22.0</td>\n",
       "      <td>1</td>\n",
       "      <td>1</td>\n",
       "      <td>12.2875</td>\n",
       "      <td>S</td>\n",
       "    </tr>\n",
       "    <tr>\n",
       "      <th>...</th>\n",
       "      <td>...</td>\n",
       "      <td>...</td>\n",
       "      <td>...</td>\n",
       "      <td>...</td>\n",
       "      <td>...</td>\n",
       "      <td>...</td>\n",
       "      <td>...</td>\n",
       "    </tr>\n",
       "    <tr>\n",
       "      <th>413</th>\n",
       "      <td>3</td>\n",
       "      <td>male</td>\n",
       "      <td>NaN</td>\n",
       "      <td>0</td>\n",
       "      <td>0</td>\n",
       "      <td>8.0500</td>\n",
       "      <td>S</td>\n",
       "    </tr>\n",
       "    <tr>\n",
       "      <th>414</th>\n",
       "      <td>1</td>\n",
       "      <td>female</td>\n",
       "      <td>39.0</td>\n",
       "      <td>0</td>\n",
       "      <td>0</td>\n",
       "      <td>108.9000</td>\n",
       "      <td>C</td>\n",
       "    </tr>\n",
       "    <tr>\n",
       "      <th>415</th>\n",
       "      <td>3</td>\n",
       "      <td>male</td>\n",
       "      <td>38.5</td>\n",
       "      <td>0</td>\n",
       "      <td>0</td>\n",
       "      <td>7.2500</td>\n",
       "      <td>S</td>\n",
       "    </tr>\n",
       "    <tr>\n",
       "      <th>416</th>\n",
       "      <td>3</td>\n",
       "      <td>male</td>\n",
       "      <td>NaN</td>\n",
       "      <td>0</td>\n",
       "      <td>0</td>\n",
       "      <td>8.0500</td>\n",
       "      <td>S</td>\n",
       "    </tr>\n",
       "    <tr>\n",
       "      <th>417</th>\n",
       "      <td>3</td>\n",
       "      <td>male</td>\n",
       "      <td>NaN</td>\n",
       "      <td>1</td>\n",
       "      <td>1</td>\n",
       "      <td>22.3583</td>\n",
       "      <td>C</td>\n",
       "    </tr>\n",
       "  </tbody>\n",
       "</table>\n",
       "<p>418 rows × 7 columns</p>\n",
       "</div>"
      ],
      "text/plain": [
       "     Pclass     Sex   Age  SibSp  Parch      Fare Embarked\n",
       "0         3    male  34.5      0      0    7.8292        Q\n",
       "1         3  female  47.0      1      0    7.0000        S\n",
       "2         2    male  62.0      0      0    9.6875        Q\n",
       "3         3    male  27.0      0      0    8.6625        S\n",
       "4         3  female  22.0      1      1   12.2875        S\n",
       "..      ...     ...   ...    ...    ...       ...      ...\n",
       "413       3    male   NaN      0      0    8.0500        S\n",
       "414       1  female  39.0      0      0  108.9000        C\n",
       "415       3    male  38.5      0      0    7.2500        S\n",
       "416       3    male   NaN      0      0    8.0500        S\n",
       "417       3    male   NaN      1      1   22.3583        C\n",
       "\n",
       "[418 rows x 7 columns]"
      ]
     },
     "execution_count": 22,
     "metadata": {},
     "output_type": "execute_result"
    }
   ],
   "source": [
    "#Cleaning the data by removing irrelevant columns\n",
    "df2=test.drop(['PassengerId','Name','Ticket','Cabin'], axis=1)\n",
    "df2"
   ]
  },
  {
   "cell_type": "code",
   "execution_count": 23,
   "id": "078507eb",
   "metadata": {
    "execution": {
     "iopub.execute_input": "2022-07-15T07:31:55.085409Z",
     "iopub.status.busy": "2022-07-15T07:31:55.085024Z",
     "iopub.status.idle": "2022-07-15T07:31:55.101478Z",
     "shell.execute_reply": "2022-07-15T07:31:55.100415Z"
    },
    "papermill": {
     "duration": 0.034502,
     "end_time": "2022-07-15T07:31:55.104006",
     "exception": false,
     "start_time": "2022-07-15T07:31:55.069504",
     "status": "completed"
    },
    "tags": []
   },
   "outputs": [
    {
     "data": {
      "text/html": [
       "<div>\n",
       "<style scoped>\n",
       "    .dataframe tbody tr th:only-of-type {\n",
       "        vertical-align: middle;\n",
       "    }\n",
       "\n",
       "    .dataframe tbody tr th {\n",
       "        vertical-align: top;\n",
       "    }\n",
       "\n",
       "    .dataframe thead th {\n",
       "        text-align: right;\n",
       "    }\n",
       "</style>\n",
       "<table border=\"1\" class=\"dataframe\">\n",
       "  <thead>\n",
       "    <tr style=\"text-align: right;\">\n",
       "      <th></th>\n",
       "      <th>Pclass</th>\n",
       "      <th>Sex</th>\n",
       "      <th>Age</th>\n",
       "      <th>SibSp</th>\n",
       "      <th>Parch</th>\n",
       "      <th>Fare</th>\n",
       "      <th>Embarked</th>\n",
       "    </tr>\n",
       "  </thead>\n",
       "  <tbody>\n",
       "    <tr>\n",
       "      <th>0</th>\n",
       "      <td>3</td>\n",
       "      <td>1</td>\n",
       "      <td>34.5</td>\n",
       "      <td>0</td>\n",
       "      <td>0</td>\n",
       "      <td>7.8292</td>\n",
       "      <td>2</td>\n",
       "    </tr>\n",
       "    <tr>\n",
       "      <th>1</th>\n",
       "      <td>3</td>\n",
       "      <td>0</td>\n",
       "      <td>47.0</td>\n",
       "      <td>1</td>\n",
       "      <td>0</td>\n",
       "      <td>7.0000</td>\n",
       "      <td>0</td>\n",
       "    </tr>\n",
       "    <tr>\n",
       "      <th>2</th>\n",
       "      <td>2</td>\n",
       "      <td>1</td>\n",
       "      <td>62.0</td>\n",
       "      <td>0</td>\n",
       "      <td>0</td>\n",
       "      <td>9.6875</td>\n",
       "      <td>2</td>\n",
       "    </tr>\n",
       "    <tr>\n",
       "      <th>3</th>\n",
       "      <td>3</td>\n",
       "      <td>1</td>\n",
       "      <td>27.0</td>\n",
       "      <td>0</td>\n",
       "      <td>0</td>\n",
       "      <td>8.6625</td>\n",
       "      <td>0</td>\n",
       "    </tr>\n",
       "    <tr>\n",
       "      <th>4</th>\n",
       "      <td>3</td>\n",
       "      <td>0</td>\n",
       "      <td>22.0</td>\n",
       "      <td>1</td>\n",
       "      <td>1</td>\n",
       "      <td>12.2875</td>\n",
       "      <td>0</td>\n",
       "    </tr>\n",
       "  </tbody>\n",
       "</table>\n",
       "</div>"
      ],
      "text/plain": [
       "   Pclass  Sex   Age  SibSp  Parch     Fare Embarked\n",
       "0       3    1  34.5      0      0   7.8292        2\n",
       "1       3    0  47.0      1      0   7.0000        0\n",
       "2       2    1  62.0      0      0   9.6875        2\n",
       "3       3    1  27.0      0      0   8.6625        0\n",
       "4       3    0  22.0      1      1  12.2875        0"
      ]
     },
     "execution_count": 23,
     "metadata": {},
     "output_type": "execute_result"
    }
   ],
   "source": [
    "#Converting the categorical features 'Sex' and 'Embarked' into numerical values 0 & 1\n",
    "df2.Sex=df2.Sex.map({'female':0, 'male':1})\n",
    "df2.Embarked=df2.Embarked.map({'S':0, 'C':1, 'Q':2,'nan':'NaN'})\n",
    "df2.head()"
   ]
  },
  {
   "cell_type": "code",
   "execution_count": 24,
   "id": "22b5315f",
   "metadata": {
    "execution": {
     "iopub.execute_input": "2022-07-15T07:31:55.134034Z",
     "iopub.status.busy": "2022-07-15T07:31:55.133356Z",
     "iopub.status.idle": "2022-07-15T07:31:55.143347Z",
     "shell.execute_reply": "2022-07-15T07:31:55.142291Z"
    },
    "papermill": {
     "duration": 0.027325,
     "end_time": "2022-07-15T07:31:55.145540",
     "exception": false,
     "start_time": "2022-07-15T07:31:55.118215",
     "status": "completed"
    },
    "tags": []
   },
   "outputs": [
    {
     "data": {
      "text/plain": [
       "Pclass       0\n",
       "Sex          0\n",
       "Age         86\n",
       "SibSp        0\n",
       "Parch        0\n",
       "Fare         1\n",
       "Embarked     0\n",
       "dtype: int64"
      ]
     },
     "execution_count": 24,
     "metadata": {},
     "output_type": "execute_result"
    }
   ],
   "source": [
    "#Let's check for the null values\n",
    "df2.isnull().sum()"
   ]
  },
  {
   "cell_type": "code",
   "execution_count": 25,
   "id": "7268a33a",
   "metadata": {
    "execution": {
     "iopub.execute_input": "2022-07-15T07:31:55.175569Z",
     "iopub.status.busy": "2022-07-15T07:31:55.175170Z",
     "iopub.status.idle": "2022-07-15T07:31:55.183048Z",
     "shell.execute_reply": "2022-07-15T07:31:55.182088Z"
    },
    "papermill": {
     "duration": 0.025619,
     "end_time": "2022-07-15T07:31:55.185373",
     "exception": false,
     "start_time": "2022-07-15T07:31:55.159754",
     "status": "completed"
    },
    "tags": []
   },
   "outputs": [],
   "source": [
    "#Finding mean age\n",
    "mean_age_men2=df2[df2['Sex']==1]['Age'].mean()\n",
    "mean_age_women2=df2[df2['Sex']==0]['Age'].mean()"
   ]
  },
  {
   "cell_type": "code",
   "execution_count": 26,
   "id": "b8a62191",
   "metadata": {
    "execution": {
     "iopub.execute_input": "2022-07-15T07:31:55.215756Z",
     "iopub.status.busy": "2022-07-15T07:31:55.215343Z",
     "iopub.status.idle": "2022-07-15T07:31:55.224988Z",
     "shell.execute_reply": "2022-07-15T07:31:55.224098Z"
    },
    "papermill": {
     "duration": 0.026735,
     "end_time": "2022-07-15T07:31:55.226865",
     "exception": false,
     "start_time": "2022-07-15T07:31:55.200130",
     "status": "completed"
    },
    "tags": []
   },
   "outputs": [],
   "source": [
    "#Filling all the null values in 'Age' and 'Fare' with respective mean age and mean fare\n",
    "df2.loc[(df2.Age.isnull()) & (df2['Sex']==0),'Age']=mean_age_women2\n",
    "df2.loc[(df2.Age.isnull()) & (df2['Sex']==1),'Age']=mean_age_men2\n",
    "df2['Fare']=df2['Fare'].fillna(df2['Fare'].mean())"
   ]
  },
  {
   "cell_type": "code",
   "execution_count": 27,
   "id": "bc9ed8d8",
   "metadata": {
    "execution": {
     "iopub.execute_input": "2022-07-15T07:31:55.256535Z",
     "iopub.status.busy": "2022-07-15T07:31:55.256137Z",
     "iopub.status.idle": "2022-07-15T07:31:55.265477Z",
     "shell.execute_reply": "2022-07-15T07:31:55.264431Z"
    },
    "papermill": {
     "duration": 0.026759,
     "end_time": "2022-07-15T07:31:55.267661",
     "exception": false,
     "start_time": "2022-07-15T07:31:55.240902",
     "status": "completed"
    },
    "tags": []
   },
   "outputs": [
    {
     "data": {
      "text/plain": [
       "Pclass      0\n",
       "Sex         0\n",
       "Age         0\n",
       "SibSp       0\n",
       "Parch       0\n",
       "Fare        0\n",
       "Embarked    0\n",
       "dtype: int64"
      ]
     },
     "execution_count": 27,
     "metadata": {},
     "output_type": "execute_result"
    }
   ],
   "source": [
    "df2.isnull().sum()"
   ]
  },
  {
   "cell_type": "code",
   "execution_count": 28,
   "id": "c4780af2",
   "metadata": {
    "execution": {
     "iopub.execute_input": "2022-07-15T07:31:55.297932Z",
     "iopub.status.busy": "2022-07-15T07:31:55.297120Z",
     "iopub.status.idle": "2022-07-15T07:31:55.329372Z",
     "shell.execute_reply": "2022-07-15T07:31:55.328325Z"
    },
    "papermill": {
     "duration": 0.050265,
     "end_time": "2022-07-15T07:31:55.331913",
     "exception": false,
     "start_time": "2022-07-15T07:31:55.281648",
     "status": "completed"
    },
    "tags": []
   },
   "outputs": [
    {
     "data": {
      "text/html": [
       "<div>\n",
       "<style scoped>\n",
       "    .dataframe tbody tr th:only-of-type {\n",
       "        vertical-align: middle;\n",
       "    }\n",
       "\n",
       "    .dataframe tbody tr th {\n",
       "        vertical-align: top;\n",
       "    }\n",
       "\n",
       "    .dataframe thead th {\n",
       "        text-align: right;\n",
       "    }\n",
       "</style>\n",
       "<table border=\"1\" class=\"dataframe\">\n",
       "  <thead>\n",
       "    <tr style=\"text-align: right;\">\n",
       "      <th></th>\n",
       "      <th>Pclass</th>\n",
       "      <th>Sex</th>\n",
       "      <th>Age</th>\n",
       "      <th>SibSp</th>\n",
       "      <th>Parch</th>\n",
       "      <th>Fare</th>\n",
       "    </tr>\n",
       "  </thead>\n",
       "  <tbody>\n",
       "    <tr>\n",
       "      <th>count</th>\n",
       "      <td>418.000000</td>\n",
       "      <td>418.000000</td>\n",
       "      <td>418.000000</td>\n",
       "      <td>418.000000</td>\n",
       "      <td>418.000000</td>\n",
       "      <td>418.000000</td>\n",
       "    </tr>\n",
       "    <tr>\n",
       "      <th>mean</th>\n",
       "      <td>2.265550</td>\n",
       "      <td>0.636364</td>\n",
       "      <td>0.396975</td>\n",
       "      <td>0.447368</td>\n",
       "      <td>0.392344</td>\n",
       "      <td>0.069540</td>\n",
       "    </tr>\n",
       "    <tr>\n",
       "      <th>std</th>\n",
       "      <td>0.841838</td>\n",
       "      <td>0.481622</td>\n",
       "      <td>0.166617</td>\n",
       "      <td>0.896760</td>\n",
       "      <td>0.981429</td>\n",
       "      <td>0.108993</td>\n",
       "    </tr>\n",
       "    <tr>\n",
       "      <th>min</th>\n",
       "      <td>1.000000</td>\n",
       "      <td>0.000000</td>\n",
       "      <td>0.000000</td>\n",
       "      <td>0.000000</td>\n",
       "      <td>0.000000</td>\n",
       "      <td>0.000000</td>\n",
       "    </tr>\n",
       "    <tr>\n",
       "      <th>25%</th>\n",
       "      <td>1.000000</td>\n",
       "      <td>0.000000</td>\n",
       "      <td>0.301068</td>\n",
       "      <td>0.000000</td>\n",
       "      <td>0.000000</td>\n",
       "      <td>0.015412</td>\n",
       "    </tr>\n",
       "    <tr>\n",
       "      <th>50%</th>\n",
       "      <td>3.000000</td>\n",
       "      <td>1.000000</td>\n",
       "      <td>0.396972</td>\n",
       "      <td>0.000000</td>\n",
       "      <td>0.000000</td>\n",
       "      <td>0.028213</td>\n",
       "    </tr>\n",
       "    <tr>\n",
       "      <th>75%</th>\n",
       "      <td>3.000000</td>\n",
       "      <td>1.000000</td>\n",
       "      <td>0.469207</td>\n",
       "      <td>1.000000</td>\n",
       "      <td>0.000000</td>\n",
       "      <td>0.061484</td>\n",
       "    </tr>\n",
       "    <tr>\n",
       "      <th>max</th>\n",
       "      <td>3.000000</td>\n",
       "      <td>1.000000</td>\n",
       "      <td>1.000000</td>\n",
       "      <td>8.000000</td>\n",
       "      <td>9.000000</td>\n",
       "      <td>1.000000</td>\n",
       "    </tr>\n",
       "  </tbody>\n",
       "</table>\n",
       "</div>"
      ],
      "text/plain": [
       "           Pclass         Sex         Age       SibSp       Parch        Fare\n",
       "count  418.000000  418.000000  418.000000  418.000000  418.000000  418.000000\n",
       "mean     2.265550    0.636364    0.396975    0.447368    0.392344    0.069540\n",
       "std      0.841838    0.481622    0.166617    0.896760    0.981429    0.108993\n",
       "min      1.000000    0.000000    0.000000    0.000000    0.000000    0.000000\n",
       "25%      1.000000    0.000000    0.301068    0.000000    0.000000    0.015412\n",
       "50%      3.000000    1.000000    0.396972    0.000000    0.000000    0.028213\n",
       "75%      3.000000    1.000000    0.469207    1.000000    0.000000    0.061484\n",
       "max      3.000000    1.000000    1.000000    8.000000    9.000000    1.000000"
      ]
     },
     "execution_count": 28,
     "metadata": {},
     "output_type": "execute_result"
    }
   ],
   "source": [
    "#Doing Feature Scaling to standardize the independent features present in the data in a fixed range\n",
    "df2.Age = (df2.Age-min(df2.Age))/(max(df2.Age)-min(df2.Age))\n",
    "df2.Fare = (df2.Fare-min(df2.Fare))/(max(df2.Fare)-min(df2.Fare))\n",
    "df2.describe()"
   ]
  },
  {
   "cell_type": "markdown",
   "id": "204f1784",
   "metadata": {
    "papermill": {
     "duration": 0.014128,
     "end_time": "2022-07-15T07:31:55.361276",
     "exception": false,
     "start_time": "2022-07-15T07:31:55.347148",
     "status": "completed"
    },
    "tags": []
   },
   "source": [
    "# **Prediction**"
   ]
  },
  {
   "cell_type": "code",
   "execution_count": 29,
   "id": "e8afdee6",
   "metadata": {
    "execution": {
     "iopub.execute_input": "2022-07-15T07:31:55.392848Z",
     "iopub.status.busy": "2022-07-15T07:31:55.392434Z",
     "iopub.status.idle": "2022-07-15T07:31:55.403789Z",
     "shell.execute_reply": "2022-07-15T07:31:55.402656Z"
    },
    "papermill": {
     "duration": 0.029652,
     "end_time": "2022-07-15T07:31:55.406052",
     "exception": false,
     "start_time": "2022-07-15T07:31:55.376400",
     "status": "completed"
    },
    "tags": []
   },
   "outputs": [
    {
     "data": {
      "text/plain": [
       "array([0, 0, 0, 0, 1, 0, 1, 0, 1, 0, 0, 0, 1, 0, 1, 1, 0, 0, 1, 0, 0, 0,\n",
       "       1, 1, 1, 0, 1, 0, 0, 0, 0, 0, 0, 1, 0, 0, 1, 1, 0, 0, 0, 0, 0, 1,\n",
       "       1, 0, 0, 0, 1, 1, 0, 0, 1, 1, 0, 0, 0, 0, 0, 1, 0, 0, 0, 1, 1, 1,\n",
       "       1, 0, 1, 1, 1, 0, 1, 1, 1, 1, 0, 1, 0, 1, 0, 0, 0, 0, 0, 0, 1, 1,\n",
       "       1, 0, 1, 0, 1, 0, 1, 0, 1, 0, 1, 0, 1, 0, 0, 0, 1, 0, 0, 0, 0, 0,\n",
       "       0, 1, 1, 1, 1, 0, 0, 1, 0, 1, 1, 0, 1, 0, 0, 1, 0, 1, 0, 0, 0, 0,\n",
       "       1, 0, 0, 0, 0, 0, 1, 0, 0, 1, 0, 0, 0, 0, 0, 0, 0, 0, 1, 0, 0, 1,\n",
       "       0, 0, 1, 1, 0, 1, 1, 0, 1, 0, 0, 1, 0, 0, 1, 1, 0, 0, 0, 0, 0, 1,\n",
       "       1, 0, 1, 1, 0, 0, 1, 0, 1, 0, 1, 0, 0, 0, 0, 0, 0, 0, 0, 0, 1, 1,\n",
       "       0, 1, 1, 0, 0, 1, 0, 1, 1, 0, 1, 0, 0, 0, 0, 0, 0, 0, 1, 0, 1, 0,\n",
       "       1, 0, 1, 0, 1, 1, 0, 1, 0, 0, 0, 1, 0, 0, 0, 0, 0, 0, 1, 1, 1, 1,\n",
       "       0, 0, 0, 0, 1, 0, 1, 1, 1, 0, 1, 0, 0, 0, 0, 0, 1, 0, 0, 0, 1, 1,\n",
       "       0, 0, 0, 0, 1, 0, 0, 0, 1, 1, 0, 1, 0, 0, 0, 0, 1, 0, 1, 1, 1, 0,\n",
       "       0, 0, 0, 0, 0, 1, 0, 0, 0, 0, 1, 0, 0, 0, 0, 0, 0, 0, 1, 1, 0, 0,\n",
       "       0, 0, 0, 0, 0, 1, 1, 1, 0, 0, 0, 0, 0, 0, 0, 0, 1, 0, 1, 0, 0, 0,\n",
       "       1, 0, 0, 1, 0, 0, 0, 0, 0, 0, 0, 0, 0, 1, 0, 1, 0, 1, 0, 1, 1, 0,\n",
       "       0, 0, 1, 0, 1, 0, 0, 0, 0, 1, 1, 0, 1, 1, 0, 1, 1, 0, 0, 1, 0, 0,\n",
       "       1, 1, 0, 0, 0, 0, 0, 0, 1, 1, 0, 1, 0, 0, 0, 0, 1, 1, 0, 0, 0, 1,\n",
       "       0, 1, 0, 0, 1, 0, 1, 1, 0, 0, 0, 0, 1, 1, 1, 1, 1, 0, 1, 0, 0, 0])"
      ]
     },
     "execution_count": 29,
     "metadata": {},
     "output_type": "execute_result"
    }
   ],
   "source": [
    "prediction = lrmod.predict(df2)\n",
    "prediction"
   ]
  },
  {
   "cell_type": "code",
   "execution_count": 30,
   "id": "ad14bf99",
   "metadata": {
    "execution": {
     "iopub.execute_input": "2022-07-15T07:31:55.437560Z",
     "iopub.status.busy": "2022-07-15T07:31:55.436742Z",
     "iopub.status.idle": "2022-07-15T07:31:55.446413Z",
     "shell.execute_reply": "2022-07-15T07:31:55.445583Z"
    },
    "papermill": {
     "duration": 0.028024,
     "end_time": "2022-07-15T07:31:55.448695",
     "exception": false,
     "start_time": "2022-07-15T07:31:55.420671",
     "status": "completed"
    },
    "tags": []
   },
   "outputs": [],
   "source": [
    "submission = pd.DataFrame({\"PassengerId\": test[\"PassengerId\"],\n",
    "                            \"Survived\": prediction})\n",
    "submission.to_csv('submission.csv', index=False)"
   ]
  },
  {
   "cell_type": "code",
   "execution_count": 31,
   "id": "1e426932",
   "metadata": {
    "execution": {
     "iopub.execute_input": "2022-07-15T07:31:55.480473Z",
     "iopub.status.busy": "2022-07-15T07:31:55.479359Z",
     "iopub.status.idle": "2022-07-15T07:31:55.486557Z",
     "shell.execute_reply": "2022-07-15T07:31:55.485787Z"
    },
    "papermill": {
     "duration": 0.025467,
     "end_time": "2022-07-15T07:31:55.488721",
     "exception": false,
     "start_time": "2022-07-15T07:31:55.463254",
     "status": "completed"
    },
    "tags": []
   },
   "outputs": [],
   "source": [
    "prediction_df = pd.read_csv('submission.csv')"
   ]
  },
  {
   "cell_type": "code",
   "execution_count": 32,
   "id": "a077440a",
   "metadata": {
    "execution": {
     "iopub.execute_input": "2022-07-15T07:31:55.520479Z",
     "iopub.status.busy": "2022-07-15T07:31:55.519674Z",
     "iopub.status.idle": "2022-07-15T07:31:55.674577Z",
     "shell.execute_reply": "2022-07-15T07:31:55.673516Z"
    },
    "papermill": {
     "duration": 0.173057,
     "end_time": "2022-07-15T07:31:55.676662",
     "exception": false,
     "start_time": "2022-07-15T07:31:55.503605",
     "status": "completed"
    },
    "tags": []
   },
   "outputs": [
    {
     "data": {
      "text/plain": [
       "<AxesSubplot:xlabel='Survived', ylabel='count'>"
      ]
     },
     "execution_count": 32,
     "metadata": {},
     "output_type": "execute_result"
    },
    {
     "data": {
      "image/png": "[encoded data removed]",
      "text/plain": [
       "<Figure size 432x288 with 1 Axes>"
      ]
     },
     "metadata": {
      "needs_background": "light"
     },
     "output_type": "display_data"
    }
   ],
   "source": [
    "#Visualizing predicted values\n",
    "sns.countplot(x='Survived', data=prediction_df)"
   ]
  }
 ],
 "metadata": {
  "kernelspec": {
   "display_name": "Python 3",
   "language": "python",
   "name": "python3"
  },
  "language_info": {
   "codemirror_mode": {
    "name": "ipython",
    "version": 3
   },
   "file_extension": ".py",
   "mimetype": "text/x-python",
   "name": "python",
   "nbconvert_exporter": "python",
   "pygments_lexer": "ipython3",
   "version": "3.7.12"
  },
  "papermill": {
   "default_parameters": {},
   "duration": 14.700894,
   "end_time": "2022-07-15T07:31:56.412929",
   "environment_variables": {},
   "exception": null,
   "input_path": "__notebook__.ipynb",
   "output_path": "__notebook__.ipynb",
   "parameters": {},
   "start_time": "2022-07-15T07:31:41.712035",
   "version": "2.3.4"
  }
 },
 "nbformat": 4,
 "nbformat_minor": 5
}
