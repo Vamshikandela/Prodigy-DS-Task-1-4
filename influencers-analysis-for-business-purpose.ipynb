{
 "cells": [
  {
   "cell_type": "code",
   "execution_count": 1,
   "id": "b723f513",
   "metadata": {
    "execution": {
     "iopub.execute_input": "2022-04-23T06:31:00.701951Z",
     "iopub.status.busy": "2022-04-23T06:31:00.701233Z",
     "iopub.status.idle": "2022-04-23T06:31:00.721288Z",
     "shell.execute_reply": "2022-04-23T06:31:00.720456Z"
    },
    "papermill": {
     "duration": 0.09182,
     "end_time": "2022-04-23T06:31:00.723463",
     "exception": false,
     "start_time": "2022-04-23T06:31:00.631643",
     "status": "completed"
    },
    "tags": []
   },
   "outputs": [
    {
     "name": "stdout",
     "output_type": "stream",
     "text": [
      "/kaggle/input/top-1000-social-media-channels/social media influencers - tiktok.csv\n",
      "/kaggle/input/top-1000-social-media-channels/social media influencers - instagram.csv\n",
      "/kaggle/input/top-1000-social-media-channels/social media influencers - youtube.csv\n"
     ]
    }
   ],
   "source": [
    "# This Python 3 environment comes with many helpful analytics libraries installed\n",
    "# It is defined by the kaggle/python Docker image: https://github.com/kaggle/docker-python\n",
    "# For example, here's several helpful packages to load\n",
    "\n",
    "import numpy as np # linear algebra\n",
    "import pandas as pd # data processing, CSV file I/O (e.g. pd.read_csv)\n",
    "\n",
    "# Input data files are available in the read-only \"../input/\" directory\n",
    "# For example, running this (by clicking run or pressing Shift+Enter) will list all files under the input directory\n",
    "\n",
    "import os\n",
    "for dirname, _, filenames in os.walk('/kaggle/input'):\n",
    "    for filename in filenames:\n",
    "        print(os.path.join(dirname, filename))\n",
    "\n",
    "# You can write up to 20GB to the current directory (/kaggle/working/) that gets preserved as output when you create a version using \"Save & Run All\" \n",
    "# You can also write temporary files to /kaggle/temp/, but they won't be saved outside of the current session"
   ]
  },
  {
   "cell_type": "code",
   "execution_count": 2,
   "id": "86545df6",
   "metadata": {
    "execution": {
     "iopub.execute_input": "2022-04-23T06:31:00.861990Z",
     "iopub.status.busy": "2022-04-23T06:31:00.861503Z",
     "iopub.status.idle": "2022-04-23T06:31:01.899641Z",
     "shell.execute_reply": "2022-04-23T06:31:01.898823Z"
    },
    "papermill": {
     "duration": 1.109133,
     "end_time": "2022-04-23T06:31:01.901898",
     "exception": false,
     "start_time": "2022-04-23T06:31:00.792765",
     "status": "completed"
    },
    "tags": []
   },
   "outputs": [],
   "source": [
    "import matplotlib.pyplot as plt\n",
    "import seaborn as sns"
   ]
  },
  {
   "cell_type": "markdown",
   "id": "9c2d9701",
   "metadata": {
    "execution": {
     "iopub.execute_input": "2022-04-23T06:12:57.249588Z",
     "iopub.status.busy": "2022-04-23T06:12:57.249301Z",
     "iopub.status.idle": "2022-04-23T06:12:57.255746Z",
     "shell.execute_reply": "2022-04-23T06:12:57.254984Z",
     "shell.execute_reply.started": "2022-04-23T06:12:57.249557Z"
    },
    "papermill": {
     "duration": 0.067799,
     "end_time": "2022-04-23T06:31:02.036477",
     "exception": false,
     "start_time": "2022-04-23T06:31:01.968678",
     "status": "completed"
    },
    "tags": []
   },
   "source": [
    "Top 1000 Influencers include celebrities with large followings to niche content creators with a loyal following on YouTube, Instagram, Facebook, and Twitter.They are categorized in tiers (mini,mega), based on their number of followers.\n",
    "\n",
    "Businesses pursue people who aim to lessen their consumption of advertisements, and are willing to pay their influencers more.\n",
    "\n",
    "Market Researchers find that influencer selection extends into product personality. This product and benefit matching is key. For a shampoo, it should use an influencer with good hair."
   ]
  },
  {
   "cell_type": "code",
   "execution_count": 3,
   "id": "e55695e6",
   "metadata": {
    "execution": {
     "iopub.execute_input": "2022-04-23T06:31:02.172263Z",
     "iopub.status.busy": "2022-04-23T06:31:02.171953Z",
     "iopub.status.idle": "2022-04-23T06:31:02.204863Z",
     "shell.execute_reply": "2022-04-23T06:31:02.204207Z"
    },
    "papermill": {
     "duration": 0.103067,
     "end_time": "2022-04-23T06:31:02.206935",
     "exception": false,
     "start_time": "2022-04-23T06:31:02.103868",
     "status": "completed"
    },
    "tags": []
   },
   "outputs": [],
   "source": [
    "df_t=pd.read_csv('../input/top-1000-social-media-channels/social media influencers - tiktok.csv')\n",
    "df_i=pd.read_csv('../input/top-1000-social-media-channels/social media influencers - instagram.csv')\n",
    "df_y=pd.read_csv('../input/top-1000-social-media-channels/social media influencers - youtube.csv')"
   ]
  },
  {
   "cell_type": "markdown",
   "id": "0e8691a7",
   "metadata": {
    "papermill": {
     "duration": 0.06647,
     "end_time": "2022-04-23T06:31:02.341369",
     "exception": false,
     "start_time": "2022-04-23T06:31:02.274899",
     "status": "completed"
    },
    "tags": []
   },
   "source": [
    "# tiktok data set analysis"
   ]
  },
  {
   "cell_type": "code",
   "execution_count": 4,
   "id": "7d5a197f",
   "metadata": {
    "execution": {
     "iopub.execute_input": "2022-04-23T06:31:02.480449Z",
     "iopub.status.busy": "2022-04-23T06:31:02.479930Z",
     "iopub.status.idle": "2022-04-23T06:31:02.499493Z",
     "shell.execute_reply": "2022-04-23T06:31:02.498896Z"
    },
    "papermill": {
     "duration": 0.092273,
     "end_time": "2022-04-23T06:31:02.501117",
     "exception": false,
     "start_time": "2022-04-23T06:31:02.408844",
     "status": "completed"
    },
    "tags": []
   },
   "outputs": [
    {
     "data": {
      "text/html": [
       "<div>\n",
       "<style scoped>\n",
       "    .dataframe tbody tr th:only-of-type {\n",
       "        vertical-align: middle;\n",
       "    }\n",
       "\n",
       "    .dataframe tbody tr th {\n",
       "        vertical-align: top;\n",
       "    }\n",
       "\n",
       "    .dataframe thead th {\n",
       "        text-align: right;\n",
       "    }\n",
       "</style>\n",
       "<table border=\"1\" class=\"dataframe\">\n",
       "  <thead>\n",
       "    <tr style=\"text-align: right;\">\n",
       "      <th></th>\n",
       "      <th>Tiktoker name</th>\n",
       "      <th>Tiktok name</th>\n",
       "      <th>Subscribers count</th>\n",
       "      <th>Views avg.</th>\n",
       "      <th>Likes avg</th>\n",
       "      <th>Comments avg.</th>\n",
       "      <th>Shares avg</th>\n",
       "    </tr>\n",
       "  </thead>\n",
       "  <tbody>\n",
       "    <tr>\n",
       "      <th>0</th>\n",
       "      <td>ekin.721</td>\n",
       "      <td>MOMO’s</td>\n",
       "      <td>221.7K</td>\n",
       "      <td>26M</td>\n",
       "      <td>2.8M</td>\n",
       "      <td>29.4K</td>\n",
       "      <td>116.4K</td>\n",
       "    </tr>\n",
       "    <tr>\n",
       "      <th>1</th>\n",
       "      <td>dojacat</td>\n",
       "      <td>Doja Cat</td>\n",
       "      <td>22.2M</td>\n",
       "      <td>25.4M</td>\n",
       "      <td>5M</td>\n",
       "      <td>36.7K</td>\n",
       "      <td>46.8K</td>\n",
       "    </tr>\n",
       "    <tr>\n",
       "      <th>2</th>\n",
       "      <td>kiet.ac.quy</td>\n",
       "      <td>Kiệt Ắk Wỷ</td>\n",
       "      <td>2.1M</td>\n",
       "      <td>20.7M</td>\n",
       "      <td>3.5M</td>\n",
       "      <td>38.8K</td>\n",
       "      <td>33.9K</td>\n",
       "    </tr>\n",
       "  </tbody>\n",
       "</table>\n",
       "</div>"
      ],
      "text/plain": [
       "  Tiktoker name Tiktok name Subscribers count Views avg. Likes avg  \\\n",
       "0      ekin.721      MOMO’s            221.7K        26M      2.8M   \n",
       "1       dojacat    Doja Cat             22.2M      25.4M        5M   \n",
       "2   kiet.ac.quy  Kiệt Ắk Wỷ              2.1M      20.7M      3.5M   \n",
       "\n",
       "  Comments avg. Shares avg  \n",
       "0         29.4K     116.4K  \n",
       "1         36.7K      46.8K  \n",
       "2         38.8K      33.9K  "
      ]
     },
     "execution_count": 4,
     "metadata": {},
     "output_type": "execute_result"
    }
   ],
   "source": [
    "df_t.head(3)"
   ]
  },
  {
   "cell_type": "markdown",
   "id": "deb77998",
   "metadata": {
    "papermill": {
     "duration": 0.067206,
     "end_time": "2022-04-23T06:31:02.636115",
     "exception": false,
     "start_time": "2022-04-23T06:31:02.568909",
     "status": "completed"
    },
    "tags": []
   },
   "source": [
    "## In tiktok dataset there is not category and audience country data  so I didn't find it useful to tell a buisnessmen that which influencer must be approached by them categorywise"
   ]
  },
  {
   "cell_type": "markdown",
   "id": "7a8b6d63",
   "metadata": {
    "papermill": {
     "duration": 0.070009,
     "end_time": "2022-04-23T06:31:02.774061",
     "exception": false,
     "start_time": "2022-04-23T06:31:02.704052",
     "status": "completed"
    },
    "tags": []
   },
   "source": [
    "# other conclusions:"
   ]
  },
  {
   "cell_type": "code",
   "execution_count": 5,
   "id": "eb46c5f7",
   "metadata": {
    "execution": {
     "iopub.execute_input": "2022-04-23T06:31:02.911601Z",
     "iopub.status.busy": "2022-04-23T06:31:02.911044Z",
     "iopub.status.idle": "2022-04-23T06:31:02.917914Z",
     "shell.execute_reply": "2022-04-23T06:31:02.917338Z"
    },
    "papermill": {
     "duration": 0.077124,
     "end_time": "2022-04-23T06:31:02.919558",
     "exception": false,
     "start_time": "2022-04-23T06:31:02.842434",
     "status": "completed"
    },
    "tags": []
   },
   "outputs": [
    {
     "data": {
      "text/plain": [
       "Tiktoker name        0\n",
       "Tiktok name          2\n",
       "Subscribers count    0\n",
       "Views avg.           0\n",
       "Likes avg            0\n",
       "Comments avg.        0\n",
       "Shares avg           0\n",
       "dtype: int64"
      ]
     },
     "execution_count": 5,
     "metadata": {},
     "output_type": "execute_result"
    }
   ],
   "source": [
    "df_t.isnull().sum()"
   ]
  },
  {
   "cell_type": "code",
   "execution_count": 6,
   "id": "2a0fbf5f",
   "metadata": {
    "execution": {
     "iopub.execute_input": "2022-04-23T06:31:03.057042Z",
     "iopub.status.busy": "2022-04-23T06:31:03.056552Z",
     "iopub.status.idle": "2022-04-23T06:31:03.069894Z",
     "shell.execute_reply": "2022-04-23T06:31:03.069150Z"
    },
    "papermill": {
     "duration": 0.084281,
     "end_time": "2022-04-23T06:31:03.071824",
     "exception": false,
     "start_time": "2022-04-23T06:31:02.987543",
     "status": "completed"
    },
    "tags": []
   },
   "outputs": [
    {
     "data": {
      "text/plain": [
       "M    797\n",
       "K    203\n",
       "Name: Subscribers count, dtype: int64"
      ]
     },
     "execution_count": 6,
     "metadata": {},
     "output_type": "execute_result"
    }
   ],
   "source": [
    "df_t['Subscribers count'].str[-1].value_counts()"
   ]
  },
  {
   "cell_type": "code",
   "execution_count": 7,
   "id": "f322e354",
   "metadata": {
    "execution": {
     "iopub.execute_input": "2022-04-23T06:31:03.210864Z",
     "iopub.status.busy": "2022-04-23T06:31:03.210372Z",
     "iopub.status.idle": "2022-04-23T06:31:03.213887Z",
     "shell.execute_reply": "2022-04-23T06:31:03.213316Z"
    },
    "papermill": {
     "duration": 0.074253,
     "end_time": "2022-04-23T06:31:03.215549",
     "exception": false,
     "start_time": "2022-04-23T06:31:03.141296",
     "status": "completed"
    },
    "tags": []
   },
   "outputs": [],
   "source": [
    "import re\n",
    "def convert(x):\n",
    "    return re.findall('\\d+\\.?\\d*',x)"
   ]
  },
  {
   "cell_type": "code",
   "execution_count": 8,
   "id": "dbfe4f83",
   "metadata": {
    "execution": {
     "iopub.execute_input": "2022-04-23T06:31:03.353478Z",
     "iopub.status.busy": "2022-04-23T06:31:03.352928Z",
     "iopub.status.idle": "2022-04-23T06:31:03.358786Z",
     "shell.execute_reply": "2022-04-23T06:31:03.358175Z"
    },
    "papermill": {
     "duration": 0.076638,
     "end_time": "2022-04-23T06:31:03.360652",
     "exception": false,
     "start_time": "2022-04-23T06:31:03.284014",
     "status": "completed"
    },
    "tags": []
   },
   "outputs": [],
   "source": [
    "def change(df,list1):\n",
    "    for i in list1:\n",
    "        df['new'+i]=df[i].apply(convert)\n",
    "        df['new'+i]=df['new'+i].apply(lambda x: \"\".join(x))\n",
    "        df['new'+i]=pd.to_numeric(df['new'+i])\n",
    "        df['new'+i]=np.where(['M' in j for j in df[i]],df['new'+i]*1000000,\n",
    "                             np.where(['K' in j1 for j1 in df[i]],df['new'+i]*1000,df['new'+i]))\n",
    "    return df\n",
    "    "
   ]
  },
  {
   "cell_type": "code",
   "execution_count": 9,
   "id": "102d3c15",
   "metadata": {
    "execution": {
     "iopub.execute_input": "2022-04-23T06:31:03.501437Z",
     "iopub.status.busy": "2022-04-23T06:31:03.500860Z",
     "iopub.status.idle": "2022-04-23T06:31:03.521271Z",
     "shell.execute_reply": "2022-04-23T06:31:03.520637Z"
    },
    "papermill": {
     "duration": 0.091999,
     "end_time": "2022-04-23T06:31:03.523024",
     "exception": false,
     "start_time": "2022-04-23T06:31:03.431025",
     "status": "completed"
    },
    "tags": []
   },
   "outputs": [
    {
     "data": {
      "text/html": [
       "<div>\n",
       "<style scoped>\n",
       "    .dataframe tbody tr th:only-of-type {\n",
       "        vertical-align: middle;\n",
       "    }\n",
       "\n",
       "    .dataframe tbody tr th {\n",
       "        vertical-align: top;\n",
       "    }\n",
       "\n",
       "    .dataframe thead th {\n",
       "        text-align: right;\n",
       "    }\n",
       "</style>\n",
       "<table border=\"1\" class=\"dataframe\">\n",
       "  <thead>\n",
       "    <tr style=\"text-align: right;\">\n",
       "      <th></th>\n",
       "      <th>Tiktoker name</th>\n",
       "      <th>Tiktok name</th>\n",
       "      <th>Subscribers count</th>\n",
       "      <th>Views avg.</th>\n",
       "      <th>Likes avg</th>\n",
       "      <th>Comments avg.</th>\n",
       "      <th>Shares avg</th>\n",
       "      <th>newSubscribers count</th>\n",
       "    </tr>\n",
       "  </thead>\n",
       "  <tbody>\n",
       "    <tr>\n",
       "      <th>0</th>\n",
       "      <td>ekin.721</td>\n",
       "      <td>MOMO’s</td>\n",
       "      <td>221.7K</td>\n",
       "      <td>26M</td>\n",
       "      <td>2.8M</td>\n",
       "      <td>29.4K</td>\n",
       "      <td>116.4K</td>\n",
       "      <td>221700.0</td>\n",
       "    </tr>\n",
       "    <tr>\n",
       "      <th>1</th>\n",
       "      <td>dojacat</td>\n",
       "      <td>Doja Cat</td>\n",
       "      <td>22.2M</td>\n",
       "      <td>25.4M</td>\n",
       "      <td>5M</td>\n",
       "      <td>36.7K</td>\n",
       "      <td>46.8K</td>\n",
       "      <td>22200000.0</td>\n",
       "    </tr>\n",
       "    <tr>\n",
       "      <th>2</th>\n",
       "      <td>kiet.ac.quy</td>\n",
       "      <td>Kiệt Ắk Wỷ</td>\n",
       "      <td>2.1M</td>\n",
       "      <td>20.7M</td>\n",
       "      <td>3.5M</td>\n",
       "      <td>38.8K</td>\n",
       "      <td>33.9K</td>\n",
       "      <td>2100000.0</td>\n",
       "    </tr>\n",
       "    <tr>\n",
       "      <th>3</th>\n",
       "      <td>charlidamelio</td>\n",
       "      <td>charli d’amelio</td>\n",
       "      <td>135.4M</td>\n",
       "      <td>18.7M</td>\n",
       "      <td>2.6M</td>\n",
       "      <td>54.7K</td>\n",
       "      <td>35.2K</td>\n",
       "      <td>135400000.0</td>\n",
       "    </tr>\n",
       "    <tr>\n",
       "      <th>4</th>\n",
       "      <td>luvadepedreiro</td>\n",
       "      <td>Iran Ferreira (Lai)</td>\n",
       "      <td>11.4M</td>\n",
       "      <td>24.8M</td>\n",
       "      <td>2.6M</td>\n",
       "      <td>32.7K</td>\n",
       "      <td>26.8K</td>\n",
       "      <td>11400000.0</td>\n",
       "    </tr>\n",
       "    <tr>\n",
       "      <th>...</th>\n",
       "      <td>...</td>\n",
       "      <td>...</td>\n",
       "      <td>...</td>\n",
       "      <td>...</td>\n",
       "      <td>...</td>\n",
       "      <td>...</td>\n",
       "      <td>...</td>\n",
       "      <td>...</td>\n",
       "    </tr>\n",
       "    <tr>\n",
       "      <th>995</th>\n",
       "      <td>nicolebernaal</td>\n",
       "      <td>nicolebernaal</td>\n",
       "      <td>4M</td>\n",
       "      <td>2.2M</td>\n",
       "      <td>351.3K</td>\n",
       "      <td>957</td>\n",
       "      <td>195</td>\n",
       "      <td>4000000.0</td>\n",
       "    </tr>\n",
       "    <tr>\n",
       "      <th>996</th>\n",
       "      <td>bellaretamosa</td>\n",
       "      <td>bella</td>\n",
       "      <td>5.1M</td>\n",
       "      <td>2.5M</td>\n",
       "      <td>340.4K</td>\n",
       "      <td>901</td>\n",
       "      <td>145</td>\n",
       "      <td>5100000.0</td>\n",
       "    </tr>\n",
       "    <tr>\n",
       "      <th>997</th>\n",
       "      <td>tunico80</td>\n",
       "      <td>🌠Antonio Tonon🌠</td>\n",
       "      <td>5.8M</td>\n",
       "      <td>1M</td>\n",
       "      <td>206.8K</td>\n",
       "      <td>2K</td>\n",
       "      <td>2.1K</td>\n",
       "      <td>5800000.0</td>\n",
       "    </tr>\n",
       "    <tr>\n",
       "      <th>998</th>\n",
       "      <td>armon.warren</td>\n",
       "      <td>Armoney</td>\n",
       "      <td>1.2M</td>\n",
       "      <td>1.9M</td>\n",
       "      <td>300.8K</td>\n",
       "      <td>904</td>\n",
       "      <td>630</td>\n",
       "      <td>1200000.0</td>\n",
       "    </tr>\n",
       "    <tr>\n",
       "      <th>999</th>\n",
       "      <td>soanhvadiephihi</td>\n",
       "      <td>Soanh x Diệp 💎</td>\n",
       "      <td>1.6M</td>\n",
       "      <td>2.6M</td>\n",
       "      <td>273.2K</td>\n",
       "      <td>720</td>\n",
       "      <td>530</td>\n",
       "      <td>1600000.0</td>\n",
       "    </tr>\n",
       "  </tbody>\n",
       "</table>\n",
       "<p>1000 rows × 8 columns</p>\n",
       "</div>"
      ],
      "text/plain": [
       "       Tiktoker name          Tiktok name Subscribers count Views avg.  \\\n",
       "0           ekin.721               MOMO’s            221.7K        26M   \n",
       "1            dojacat             Doja Cat             22.2M      25.4M   \n",
       "2        kiet.ac.quy           Kiệt Ắk Wỷ              2.1M      20.7M   \n",
       "3      charlidamelio      charli d’amelio            135.4M      18.7M   \n",
       "4     luvadepedreiro  Iran Ferreira (Lai)             11.4M      24.8M   \n",
       "..               ...                  ...               ...        ...   \n",
       "995    nicolebernaal        nicolebernaal                4M       2.2M   \n",
       "996    bellaretamosa                bella              5.1M       2.5M   \n",
       "997         tunico80      🌠Antonio Tonon🌠              5.8M         1M   \n",
       "998     armon.warren              Armoney              1.2M       1.9M   \n",
       "999  soanhvadiephihi       Soanh x Diệp 💎              1.6M       2.6M   \n",
       "\n",
       "    Likes avg Comments avg. Shares avg  newSubscribers count  \n",
       "0        2.8M         29.4K     116.4K              221700.0  \n",
       "1          5M         36.7K      46.8K            22200000.0  \n",
       "2        3.5M         38.8K      33.9K             2100000.0  \n",
       "3        2.6M         54.7K      35.2K           135400000.0  \n",
       "4        2.6M         32.7K      26.8K            11400000.0  \n",
       "..        ...           ...        ...                   ...  \n",
       "995    351.3K           957        195             4000000.0  \n",
       "996    340.4K           901        145             5100000.0  \n",
       "997    206.8K            2K       2.1K             5800000.0  \n",
       "998    300.8K           904        630             1200000.0  \n",
       "999    273.2K           720        530             1600000.0  \n",
       "\n",
       "[1000 rows x 8 columns]"
      ]
     },
     "execution_count": 9,
     "metadata": {},
     "output_type": "execute_result"
    }
   ],
   "source": [
    "change(df_t,['Subscribers count'])"
   ]
  },
  {
   "cell_type": "markdown",
   "id": "646033f9",
   "metadata": {
    "papermill": {
     "duration": 0.070683,
     "end_time": "2022-04-23T06:31:03.664312",
     "exception": false,
     "start_time": "2022-04-23T06:31:03.593629",
     "status": "completed"
    },
    "tags": []
   },
   "source": [
    "# TOP 10 most followed celebrity on Tiktok"
   ]
  },
  {
   "cell_type": "code",
   "execution_count": 10,
   "id": "eb624309",
   "metadata": {
    "execution": {
     "iopub.execute_input": "2022-04-23T06:31:03.806208Z",
     "iopub.status.busy": "2022-04-23T06:31:03.805643Z",
     "iopub.status.idle": "2022-04-23T06:31:03.818941Z",
     "shell.execute_reply": "2022-04-23T06:31:03.818081Z"
    },
    "papermill": {
     "duration": 0.086755,
     "end_time": "2022-04-23T06:31:03.820815",
     "exception": false,
     "start_time": "2022-04-23T06:31:03.734060",
     "status": "completed"
    },
    "tags": []
   },
   "outputs": [
    {
     "data": {
      "text/html": [
       "<div>\n",
       "<style scoped>\n",
       "    .dataframe tbody tr th:only-of-type {\n",
       "        vertical-align: middle;\n",
       "    }\n",
       "\n",
       "    .dataframe tbody tr th {\n",
       "        vertical-align: top;\n",
       "    }\n",
       "\n",
       "    .dataframe thead th {\n",
       "        text-align: right;\n",
       "    }\n",
       "</style>\n",
       "<table border=\"1\" class=\"dataframe\">\n",
       "  <thead>\n",
       "    <tr style=\"text-align: right;\">\n",
       "      <th></th>\n",
       "      <th>Tiktok name</th>\n",
       "      <th>Subscribers count</th>\n",
       "    </tr>\n",
       "  </thead>\n",
       "  <tbody>\n",
       "    <tr>\n",
       "      <th>0</th>\n",
       "      <td>charli d’amelio</td>\n",
       "      <td>135.4M</td>\n",
       "    </tr>\n",
       "    <tr>\n",
       "      <th>1</th>\n",
       "      <td>Khabane lame</td>\n",
       "      <td>135.2M</td>\n",
       "    </tr>\n",
       "    <tr>\n",
       "      <th>2</th>\n",
       "      <td>Bella Poarch</td>\n",
       "      <td>88.5M</td>\n",
       "    </tr>\n",
       "    <tr>\n",
       "      <th>3</th>\n",
       "      <td>Addison Rae</td>\n",
       "      <td>87.3M</td>\n",
       "    </tr>\n",
       "    <tr>\n",
       "      <th>4</th>\n",
       "      <td>Will Smith</td>\n",
       "      <td>67.4M</td>\n",
       "    </tr>\n",
       "    <tr>\n",
       "      <th>5</th>\n",
       "      <td>Kimberly Loaiza</td>\n",
       "      <td>61M</td>\n",
       "    </tr>\n",
       "    <tr>\n",
       "      <th>6</th>\n",
       "      <td>dixie</td>\n",
       "      <td>57.2M</td>\n",
       "    </tr>\n",
       "    <tr>\n",
       "      <th>7</th>\n",
       "      <td>Loren Gray</td>\n",
       "      <td>54.3M</td>\n",
       "    </tr>\n",
       "    <tr>\n",
       "      <th>8</th>\n",
       "      <td>Dominik</td>\n",
       "      <td>50.7M</td>\n",
       "    </tr>\n",
       "    <tr>\n",
       "      <th>9</th>\n",
       "      <td>Kris HC</td>\n",
       "      <td>43.3M</td>\n",
       "    </tr>\n",
       "  </tbody>\n",
       "</table>\n",
       "</div>"
      ],
      "text/plain": [
       "       Tiktok name Subscribers count\n",
       "0  charli d’amelio            135.4M\n",
       "1     Khabane lame            135.2M\n",
       "2     Bella Poarch             88.5M\n",
       "3      Addison Rae             87.3M\n",
       "4       Will Smith             67.4M\n",
       "5  Kimberly Loaiza               61M\n",
       "6            dixie             57.2M\n",
       "7       Loren Gray             54.3M\n",
       "8          Dominik             50.7M\n",
       "9          Kris HC             43.3M"
      ]
     },
     "execution_count": 10,
     "metadata": {},
     "output_type": "execute_result"
    }
   ],
   "source": [
    "df_t.sort_values(by='newSubscribers count',ascending=False,ignore_index=True).iloc[0:10,[1,2]]"
   ]
  },
  {
   "cell_type": "markdown",
   "id": "4f41e865",
   "metadata": {
    "papermill": {
     "duration": 0.071796,
     "end_time": "2022-04-23T06:31:03.963911",
     "exception": false,
     "start_time": "2022-04-23T06:31:03.892115",
     "status": "completed"
    },
    "tags": []
   },
   "source": [
    "# now analyse instagram and youtube data set"
   ]
  },
  {
   "cell_type": "code",
   "execution_count": 11,
   "id": "4b24e6c5",
   "metadata": {
    "execution": {
     "iopub.execute_input": "2022-04-23T06:31:04.106626Z",
     "iopub.status.busy": "2022-04-23T06:31:04.105910Z",
     "iopub.status.idle": "2022-04-23T06:31:04.117100Z",
     "shell.execute_reply": "2022-04-23T06:31:04.116260Z"
    },
    "papermill": {
     "duration": 0.085485,
     "end_time": "2022-04-23T06:31:04.119001",
     "exception": false,
     "start_time": "2022-04-23T06:31:04.033516",
     "status": "completed"
    },
    "tags": []
   },
   "outputs": [
    {
     "data": {
      "text/html": [
       "<div>\n",
       "<style scoped>\n",
       "    .dataframe tbody tr th:only-of-type {\n",
       "        vertical-align: middle;\n",
       "    }\n",
       "\n",
       "    .dataframe tbody tr th {\n",
       "        vertical-align: top;\n",
       "    }\n",
       "\n",
       "    .dataframe thead th {\n",
       "        text-align: right;\n",
       "    }\n",
       "</style>\n",
       "<table border=\"1\" class=\"dataframe\">\n",
       "  <thead>\n",
       "    <tr style=\"text-align: right;\">\n",
       "      <th></th>\n",
       "      <th>Influencer insta name</th>\n",
       "      <th>instagram name</th>\n",
       "      <th>category_1</th>\n",
       "      <th>category_2</th>\n",
       "      <th>Followers</th>\n",
       "      <th>Audience country(mostly)</th>\n",
       "      <th>Authentic engagement\\r\\n</th>\n",
       "      <th>Engagement avg\\r\\n</th>\n",
       "    </tr>\n",
       "  </thead>\n",
       "  <tbody>\n",
       "    <tr>\n",
       "      <th>0</th>\n",
       "      <td>433</td>\n",
       "      <td>433</td>\n",
       "      <td>Sports with a ball</td>\n",
       "      <td>NaN</td>\n",
       "      <td>48.5M</td>\n",
       "      <td>Spain</td>\n",
       "      <td>383.1K</td>\n",
       "      <td>637K</td>\n",
       "    </tr>\n",
       "    <tr>\n",
       "      <th>1</th>\n",
       "      <td>__youngbae__</td>\n",
       "      <td>TAEYANG</td>\n",
       "      <td>Music</td>\n",
       "      <td>NaN</td>\n",
       "      <td>12.7M</td>\n",
       "      <td>Indonesia</td>\n",
       "      <td>478K</td>\n",
       "      <td>542.3K</td>\n",
       "    </tr>\n",
       "  </tbody>\n",
       "</table>\n",
       "</div>"
      ],
      "text/plain": [
       "  Influencer insta name instagram name          category_1 category_2  \\\n",
       "0                   433            433  Sports with a ball        NaN   \n",
       "1          __youngbae__        TAEYANG               Music        NaN   \n",
       "\n",
       "  Followers Audience country(mostly) Authentic engagement\\r\\n  \\\n",
       "0     48.5M                    Spain                   383.1K   \n",
       "1     12.7M                Indonesia                     478K   \n",
       "\n",
       "  Engagement avg\\r\\n  \n",
       "0               637K  \n",
       "1             542.3K  "
      ]
     },
     "execution_count": 11,
     "metadata": {},
     "output_type": "execute_result"
    }
   ],
   "source": [
    "df_i.head(2)\n",
    "# instagram dataset"
   ]
  },
  {
   "cell_type": "code",
   "execution_count": 12,
   "id": "df9a529d",
   "metadata": {
    "execution": {
     "iopub.execute_input": "2022-04-23T06:31:04.262211Z",
     "iopub.status.busy": "2022-04-23T06:31:04.261530Z",
     "iopub.status.idle": "2022-04-23T06:31:04.274048Z",
     "shell.execute_reply": "2022-04-23T06:31:04.273247Z"
    },
    "papermill": {
     "duration": 0.085868,
     "end_time": "2022-04-23T06:31:04.276006",
     "exception": false,
     "start_time": "2022-04-23T06:31:04.190138",
     "status": "completed"
    },
    "tags": []
   },
   "outputs": [
    {
     "data": {
      "text/html": [
       "<div>\n",
       "<style scoped>\n",
       "    .dataframe tbody tr th:only-of-type {\n",
       "        vertical-align: middle;\n",
       "    }\n",
       "\n",
       "    .dataframe tbody tr th {\n",
       "        vertical-align: top;\n",
       "    }\n",
       "\n",
       "    .dataframe thead th {\n",
       "        text-align: right;\n",
       "    }\n",
       "</style>\n",
       "<table border=\"1\" class=\"dataframe\">\n",
       "  <thead>\n",
       "    <tr style=\"text-align: right;\">\n",
       "      <th></th>\n",
       "      <th>youtuber name</th>\n",
       "      <th>channel name</th>\n",
       "      <th>Category</th>\n",
       "      <th>Subscribers</th>\n",
       "      <th>Audience Country</th>\n",
       "      <th>avg views</th>\n",
       "      <th>avg likes</th>\n",
       "      <th>avg comments</th>\n",
       "    </tr>\n",
       "  </thead>\n",
       "  <tbody>\n",
       "    <tr>\n",
       "      <th>0</th>\n",
       "      <td>tseries</td>\n",
       "      <td>T-Series</td>\n",
       "      <td>Music &amp; Dance</td>\n",
       "      <td>212.1M</td>\n",
       "      <td>India</td>\n",
       "      <td>323.7K</td>\n",
       "      <td>9.8K</td>\n",
       "      <td>290</td>\n",
       "    </tr>\n",
       "    <tr>\n",
       "      <th>1</th>\n",
       "      <td>checkgate</td>\n",
       "      <td>Cocomelon - Nursery Rhymes</td>\n",
       "      <td>Education</td>\n",
       "      <td>132.1M</td>\n",
       "      <td>NaN</td>\n",
       "      <td>13.8M</td>\n",
       "      <td>80.9K</td>\n",
       "      <td>NaN</td>\n",
       "    </tr>\n",
       "  </tbody>\n",
       "</table>\n",
       "</div>"
      ],
      "text/plain": [
       "  youtuber name                channel name       Category Subscribers  \\\n",
       "0       tseries                    T-Series  Music & Dance      212.1M   \n",
       "1     checkgate  Cocomelon - Nursery Rhymes      Education      132.1M   \n",
       "\n",
       "  Audience Country avg views avg likes avg comments  \n",
       "0            India    323.7K      9.8K          290  \n",
       "1              NaN     13.8M     80.9K          NaN  "
      ]
     },
     "execution_count": 12,
     "metadata": {},
     "output_type": "execute_result"
    }
   ],
   "source": [
    "df_y.head(2)\n",
    "# youtube dataset\n"
   ]
  },
  {
   "cell_type": "markdown",
   "id": "657680be",
   "metadata": {
    "papermill": {
     "duration": 0.072081,
     "end_time": "2022-04-23T06:31:04.420004",
     "exception": false,
     "start_time": "2022-04-23T06:31:04.347923",
     "status": "completed"
    },
    "tags": []
   },
   "source": [
    "# renaming some columns in instagram dataframe for convenience"
   ]
  },
  {
   "cell_type": "code",
   "execution_count": 13,
   "id": "b927faf0",
   "metadata": {
    "execution": {
     "iopub.execute_input": "2022-04-23T06:31:04.562554Z",
     "iopub.status.busy": "2022-04-23T06:31:04.562115Z",
     "iopub.status.idle": "2022-04-23T06:31:04.567671Z",
     "shell.execute_reply": "2022-04-23T06:31:04.567042Z"
    },
    "papermill": {
     "duration": 0.078859,
     "end_time": "2022-04-23T06:31:04.569468",
     "exception": false,
     "start_time": "2022-04-23T06:31:04.490609",
     "status": "completed"
    },
    "tags": []
   },
   "outputs": [],
   "source": [
    "df_i.rename({'category_1':'Category','Audience country(mostly)':'Audience Country'},axis=1,inplace=True)\n",
    "\n",
    "df_y.rename({'Subscribers':'Followers',},axis=1,inplace=True)"
   ]
  },
  {
   "cell_type": "code",
   "execution_count": 14,
   "id": "321dc0f0",
   "metadata": {
    "execution": {
     "iopub.execute_input": "2022-04-23T06:31:04.712916Z",
     "iopub.status.busy": "2022-04-23T06:31:04.712370Z",
     "iopub.status.idle": "2022-04-23T06:31:04.724183Z",
     "shell.execute_reply": "2022-04-23T06:31:04.723354Z"
    },
    "papermill": {
     "duration": 0.086349,
     "end_time": "2022-04-23T06:31:04.726093",
     "exception": false,
     "start_time": "2022-04-23T06:31:04.639744",
     "status": "completed"
    },
    "tags": []
   },
   "outputs": [
    {
     "data": {
      "text/html": [
       "<div>\n",
       "<style scoped>\n",
       "    .dataframe tbody tr th:only-of-type {\n",
       "        vertical-align: middle;\n",
       "    }\n",
       "\n",
       "    .dataframe tbody tr th {\n",
       "        vertical-align: top;\n",
       "    }\n",
       "\n",
       "    .dataframe thead th {\n",
       "        text-align: right;\n",
       "    }\n",
       "</style>\n",
       "<table border=\"1\" class=\"dataframe\">\n",
       "  <thead>\n",
       "    <tr style=\"text-align: right;\">\n",
       "      <th></th>\n",
       "      <th>Influencer insta name</th>\n",
       "      <th>instagram name</th>\n",
       "      <th>Category</th>\n",
       "      <th>category_2</th>\n",
       "      <th>Followers</th>\n",
       "      <th>Audience Country</th>\n",
       "      <th>Authentic engagement\\r\\n</th>\n",
       "      <th>Engagement avg\\r\\n</th>\n",
       "    </tr>\n",
       "  </thead>\n",
       "  <tbody>\n",
       "    <tr>\n",
       "      <th>0</th>\n",
       "      <td>433</td>\n",
       "      <td>433</td>\n",
       "      <td>Sports with a ball</td>\n",
       "      <td>NaN</td>\n",
       "      <td>48.5M</td>\n",
       "      <td>Spain</td>\n",
       "      <td>383.1K</td>\n",
       "      <td>637K</td>\n",
       "    </tr>\n",
       "    <tr>\n",
       "      <th>1</th>\n",
       "      <td>__youngbae__</td>\n",
       "      <td>TAEYANG</td>\n",
       "      <td>Music</td>\n",
       "      <td>NaN</td>\n",
       "      <td>12.7M</td>\n",
       "      <td>Indonesia</td>\n",
       "      <td>478K</td>\n",
       "      <td>542.3K</td>\n",
       "    </tr>\n",
       "  </tbody>\n",
       "</table>\n",
       "</div>"
      ],
      "text/plain": [
       "  Influencer insta name instagram name            Category category_2  \\\n",
       "0                   433            433  Sports with a ball        NaN   \n",
       "1          __youngbae__        TAEYANG               Music        NaN   \n",
       "\n",
       "  Followers Audience Country Authentic engagement\\r\\n Engagement avg\\r\\n  \n",
       "0     48.5M            Spain                   383.1K               637K  \n",
       "1     12.7M        Indonesia                     478K             542.3K  "
      ]
     },
     "execution_count": 14,
     "metadata": {},
     "output_type": "execute_result"
    }
   ],
   "source": [
    "df_i.head(2)"
   ]
  },
  {
   "cell_type": "code",
   "execution_count": 15,
   "id": "a2b5f7c5",
   "metadata": {
    "execution": {
     "iopub.execute_input": "2022-04-23T06:31:04.869740Z",
     "iopub.status.busy": "2022-04-23T06:31:04.869208Z",
     "iopub.status.idle": "2022-04-23T06:31:04.880832Z",
     "shell.execute_reply": "2022-04-23T06:31:04.880067Z"
    },
    "papermill": {
     "duration": 0.085863,
     "end_time": "2022-04-23T06:31:04.883369",
     "exception": false,
     "start_time": "2022-04-23T06:31:04.797506",
     "status": "completed"
    },
    "tags": []
   },
   "outputs": [
    {
     "data": {
      "text/html": [
       "<div>\n",
       "<style scoped>\n",
       "    .dataframe tbody tr th:only-of-type {\n",
       "        vertical-align: middle;\n",
       "    }\n",
       "\n",
       "    .dataframe tbody tr th {\n",
       "        vertical-align: top;\n",
       "    }\n",
       "\n",
       "    .dataframe thead th {\n",
       "        text-align: right;\n",
       "    }\n",
       "</style>\n",
       "<table border=\"1\" class=\"dataframe\">\n",
       "  <thead>\n",
       "    <tr style=\"text-align: right;\">\n",
       "      <th></th>\n",
       "      <th>youtuber name</th>\n",
       "      <th>channel name</th>\n",
       "      <th>Category</th>\n",
       "      <th>Followers</th>\n",
       "      <th>Audience Country</th>\n",
       "      <th>avg views</th>\n",
       "      <th>avg likes</th>\n",
       "      <th>avg comments</th>\n",
       "    </tr>\n",
       "  </thead>\n",
       "  <tbody>\n",
       "    <tr>\n",
       "      <th>0</th>\n",
       "      <td>tseries</td>\n",
       "      <td>T-Series</td>\n",
       "      <td>Music &amp; Dance</td>\n",
       "      <td>212.1M</td>\n",
       "      <td>India</td>\n",
       "      <td>323.7K</td>\n",
       "      <td>9.8K</td>\n",
       "      <td>290</td>\n",
       "    </tr>\n",
       "    <tr>\n",
       "      <th>1</th>\n",
       "      <td>checkgate</td>\n",
       "      <td>Cocomelon - Nursery Rhymes</td>\n",
       "      <td>Education</td>\n",
       "      <td>132.1M</td>\n",
       "      <td>NaN</td>\n",
       "      <td>13.8M</td>\n",
       "      <td>80.9K</td>\n",
       "      <td>NaN</td>\n",
       "    </tr>\n",
       "  </tbody>\n",
       "</table>\n",
       "</div>"
      ],
      "text/plain": [
       "  youtuber name                channel name       Category Followers  \\\n",
       "0       tseries                    T-Series  Music & Dance    212.1M   \n",
       "1     checkgate  Cocomelon - Nursery Rhymes      Education    132.1M   \n",
       "\n",
       "  Audience Country avg views avg likes avg comments  \n",
       "0            India    323.7K      9.8K          290  \n",
       "1              NaN     13.8M     80.9K          NaN  "
      ]
     },
     "execution_count": 15,
     "metadata": {},
     "output_type": "execute_result"
    }
   ],
   "source": [
    "df_y.head(2)"
   ]
  },
  {
   "cell_type": "code",
   "execution_count": 16,
   "id": "2f2859cc",
   "metadata": {
    "execution": {
     "iopub.execute_input": "2022-04-23T06:31:05.054359Z",
     "iopub.status.busy": "2022-04-23T06:31:05.053644Z",
     "iopub.status.idle": "2022-04-23T06:31:05.063108Z",
     "shell.execute_reply": "2022-04-23T06:31:05.062355Z"
    },
    "papermill": {
     "duration": 0.093343,
     "end_time": "2022-04-23T06:31:05.065129",
     "exception": false,
     "start_time": "2022-04-23T06:31:04.971786",
     "status": "completed"
    },
    "tags": []
   },
   "outputs": [
    {
     "data": {
      "text/plain": [
       "Influencer insta name         0\n",
       "instagram name               21\n",
       "Category                    108\n",
       "category_2                  713\n",
       "Followers                     0\n",
       "Audience Country             14\n",
       "Authentic engagement\\r\\n      0\n",
       "Engagement avg\\r\\n            0\n",
       "dtype: int64"
      ]
     },
     "execution_count": 16,
     "metadata": {},
     "output_type": "execute_result"
    }
   ],
   "source": [
    "df_i.isnull().sum()"
   ]
  },
  {
   "cell_type": "code",
   "execution_count": 17,
   "id": "07e226fc",
   "metadata": {
    "execution": {
     "iopub.execute_input": "2022-04-23T06:31:05.232302Z",
     "iopub.status.busy": "2022-04-23T06:31:05.231702Z",
     "iopub.status.idle": "2022-04-23T06:31:05.242460Z",
     "shell.execute_reply": "2022-04-23T06:31:05.241746Z"
    },
    "papermill": {
     "duration": 0.107442,
     "end_time": "2022-04-23T06:31:05.244803",
     "exception": false,
     "start_time": "2022-04-23T06:31:05.137361",
     "status": "completed"
    },
    "tags": []
   },
   "outputs": [
    {
     "data": {
      "text/plain": [
       "youtuber name         0\n",
       "channel name          0\n",
       "Category            277\n",
       "Followers             0\n",
       "Audience Country    161\n",
       "avg views             0\n",
       "avg likes            38\n",
       "avg comments        209\n",
       "dtype: int64"
      ]
     },
     "execution_count": 17,
     "metadata": {},
     "output_type": "execute_result"
    }
   ],
   "source": [
    "df_y.isnull().sum()"
   ]
  },
  {
   "cell_type": "code",
   "execution_count": 18,
   "id": "b9d7cbbb",
   "metadata": {
    "execution": {
     "iopub.execute_input": "2022-04-23T06:31:05.401492Z",
     "iopub.status.busy": "2022-04-23T06:31:05.400948Z",
     "iopub.status.idle": "2022-04-23T06:31:05.408889Z",
     "shell.execute_reply": "2022-04-23T06:31:05.408277Z"
    },
    "papermill": {
     "duration": 0.08733,
     "end_time": "2022-04-23T06:31:05.411429",
     "exception": false,
     "start_time": "2022-04-23T06:31:05.324099",
     "status": "completed"
    },
    "tags": []
   },
   "outputs": [],
   "source": [
    "df_i.drop_duplicates(subset=['Influencer insta name'],inplace=True)"
   ]
  },
  {
   "cell_type": "code",
   "execution_count": 19,
   "id": "ddd0f387",
   "metadata": {
    "execution": {
     "iopub.execute_input": "2022-04-23T06:31:05.567258Z",
     "iopub.status.busy": "2022-04-23T06:31:05.566625Z",
     "iopub.status.idle": "2022-04-23T06:31:05.572435Z",
     "shell.execute_reply": "2022-04-23T06:31:05.571572Z"
    },
    "papermill": {
     "duration": 0.082045,
     "end_time": "2022-04-23T06:31:05.574267",
     "exception": false,
     "start_time": "2022-04-23T06:31:05.492222",
     "status": "completed"
    },
    "tags": []
   },
   "outputs": [
    {
     "data": {
      "text/plain": [
       "(997, 8)"
      ]
     },
     "execution_count": 19,
     "metadata": {},
     "output_type": "execute_result"
    }
   ],
   "source": [
    "df_i.shape"
   ]
  },
  {
   "cell_type": "code",
   "execution_count": 20,
   "id": "0fc55e79",
   "metadata": {
    "execution": {
     "iopub.execute_input": "2022-04-23T06:31:05.722737Z",
     "iopub.status.busy": "2022-04-23T06:31:05.722039Z",
     "iopub.status.idle": "2022-04-23T06:31:05.728879Z",
     "shell.execute_reply": "2022-04-23T06:31:05.728116Z"
    },
    "papermill": {
     "duration": 0.083666,
     "end_time": "2022-04-23T06:31:05.731045",
     "exception": false,
     "start_time": "2022-04-23T06:31:05.647379",
     "status": "completed"
    },
    "tags": []
   },
   "outputs": [],
   "source": [
    "df_i.drop(labels=['Influencer insta name','Authentic engagement\\r\\n'],axis=1,inplace=True)"
   ]
  },
  {
   "cell_type": "code",
   "execution_count": 21,
   "id": "9480058a",
   "metadata": {
    "execution": {
     "iopub.execute_input": "2022-04-23T06:31:05.882578Z",
     "iopub.status.busy": "2022-04-23T06:31:05.882014Z",
     "iopub.status.idle": "2022-04-23T06:31:05.892108Z",
     "shell.execute_reply": "2022-04-23T06:31:05.891357Z"
    },
    "papermill": {
     "duration": 0.085008,
     "end_time": "2022-04-23T06:31:05.893844",
     "exception": false,
     "start_time": "2022-04-23T06:31:05.808836",
     "status": "completed"
    },
    "tags": []
   },
   "outputs": [
    {
     "data": {
      "text/html": [
       "<div>\n",
       "<style scoped>\n",
       "    .dataframe tbody tr th:only-of-type {\n",
       "        vertical-align: middle;\n",
       "    }\n",
       "\n",
       "    .dataframe tbody tr th {\n",
       "        vertical-align: top;\n",
       "    }\n",
       "\n",
       "    .dataframe thead th {\n",
       "        text-align: right;\n",
       "    }\n",
       "</style>\n",
       "<table border=\"1\" class=\"dataframe\">\n",
       "  <thead>\n",
       "    <tr style=\"text-align: right;\">\n",
       "      <th></th>\n",
       "      <th>instagram name</th>\n",
       "      <th>Category</th>\n",
       "      <th>category_2</th>\n",
       "      <th>Followers</th>\n",
       "      <th>Audience Country</th>\n",
       "      <th>Engagement avg\\r\\n</th>\n",
       "    </tr>\n",
       "  </thead>\n",
       "  <tbody>\n",
       "    <tr>\n",
       "      <th>0</th>\n",
       "      <td>433</td>\n",
       "      <td>Sports with a ball</td>\n",
       "      <td>NaN</td>\n",
       "      <td>48.5M</td>\n",
       "      <td>Spain</td>\n",
       "      <td>637K</td>\n",
       "    </tr>\n",
       "    <tr>\n",
       "      <th>1</th>\n",
       "      <td>TAEYANG</td>\n",
       "      <td>Music</td>\n",
       "      <td>NaN</td>\n",
       "      <td>12.7M</td>\n",
       "      <td>Indonesia</td>\n",
       "      <td>542.3K</td>\n",
       "    </tr>\n",
       "  </tbody>\n",
       "</table>\n",
       "</div>"
      ],
      "text/plain": [
       "  instagram name            Category category_2 Followers Audience Country  \\\n",
       "0            433  Sports with a ball        NaN     48.5M            Spain   \n",
       "1        TAEYANG               Music        NaN     12.7M        Indonesia   \n",
       "\n",
       "  Engagement avg\\r\\n  \n",
       "0               637K  \n",
       "1             542.3K  "
      ]
     },
     "execution_count": 21,
     "metadata": {},
     "output_type": "execute_result"
    }
   ],
   "source": [
    "df_i.head(2)"
   ]
  },
  {
   "cell_type": "code",
   "execution_count": 22,
   "id": "99694736",
   "metadata": {
    "execution": {
     "iopub.execute_input": "2022-04-23T06:31:06.040353Z",
     "iopub.status.busy": "2022-04-23T06:31:06.039870Z",
     "iopub.status.idle": "2022-04-23T06:31:06.043526Z",
     "shell.execute_reply": "2022-04-23T06:31:06.042724Z"
    },
    "papermill": {
     "duration": 0.079484,
     "end_time": "2022-04-23T06:31:06.045302",
     "exception": false,
     "start_time": "2022-04-23T06:31:05.965818",
     "status": "completed"
    },
    "tags": []
   },
   "outputs": [],
   "source": [
    "li=['Followers','Engagement avg\\r\\n']\n"
   ]
  },
  {
   "cell_type": "code",
   "execution_count": 23,
   "id": "191bff0b",
   "metadata": {
    "execution": {
     "iopub.execute_input": "2022-04-23T06:31:06.192363Z",
     "iopub.status.busy": "2022-04-23T06:31:06.191663Z",
     "iopub.status.idle": "2022-04-23T06:31:06.215016Z",
     "shell.execute_reply": "2022-04-23T06:31:06.214396Z"
    },
    "papermill": {
     "duration": 0.099099,
     "end_time": "2022-04-23T06:31:06.216823",
     "exception": false,
     "start_time": "2022-04-23T06:31:06.117724",
     "status": "completed"
    },
    "tags": []
   },
   "outputs": [
    {
     "data": {
      "text/html": [
       "<div>\n",
       "<style scoped>\n",
       "    .dataframe tbody tr th:only-of-type {\n",
       "        vertical-align: middle;\n",
       "    }\n",
       "\n",
       "    .dataframe tbody tr th {\n",
       "        vertical-align: top;\n",
       "    }\n",
       "\n",
       "    .dataframe thead th {\n",
       "        text-align: right;\n",
       "    }\n",
       "</style>\n",
       "<table border=\"1\" class=\"dataframe\">\n",
       "  <thead>\n",
       "    <tr style=\"text-align: right;\">\n",
       "      <th></th>\n",
       "      <th>instagram name</th>\n",
       "      <th>Category</th>\n",
       "      <th>category_2</th>\n",
       "      <th>Followers</th>\n",
       "      <th>Audience Country</th>\n",
       "      <th>Engagement avg\\r\\n</th>\n",
       "      <th>newFollowers</th>\n",
       "      <th>newEngagement avg\\r\\n</th>\n",
       "    </tr>\n",
       "  </thead>\n",
       "  <tbody>\n",
       "    <tr>\n",
       "      <th>0</th>\n",
       "      <td>433</td>\n",
       "      <td>Sports with a ball</td>\n",
       "      <td>NaN</td>\n",
       "      <td>48.5M</td>\n",
       "      <td>Spain</td>\n",
       "      <td>637K</td>\n",
       "      <td>48500000.0</td>\n",
       "      <td>637000.0</td>\n",
       "    </tr>\n",
       "    <tr>\n",
       "      <th>1</th>\n",
       "      <td>TAEYANG</td>\n",
       "      <td>Music</td>\n",
       "      <td>NaN</td>\n",
       "      <td>12.7M</td>\n",
       "      <td>Indonesia</td>\n",
       "      <td>542.3K</td>\n",
       "      <td>12700000.0</td>\n",
       "      <td>542300.0</td>\n",
       "    </tr>\n",
       "    <tr>\n",
       "      <th>2</th>\n",
       "      <td>НАСТЯ ИВЛЕЕВА</td>\n",
       "      <td>Shows</td>\n",
       "      <td>NaN</td>\n",
       "      <td>18.8M</td>\n",
       "      <td>Russia</td>\n",
       "      <td>377.9K</td>\n",
       "      <td>18800000.0</td>\n",
       "      <td>377900.0</td>\n",
       "    </tr>\n",
       "    <tr>\n",
       "      <th>3</th>\n",
       "      <td>Joy</td>\n",
       "      <td>Lifestyle</td>\n",
       "      <td>NaN</td>\n",
       "      <td>13.5M</td>\n",
       "      <td>Indonesia</td>\n",
       "      <td>1.4M</td>\n",
       "      <td>13500000.0</td>\n",
       "      <td>1400000.0</td>\n",
       "    </tr>\n",
       "    <tr>\n",
       "      <th>4</th>\n",
       "      <td>Jaehyun</td>\n",
       "      <td>NaN</td>\n",
       "      <td>NaN</td>\n",
       "      <td>11.1M</td>\n",
       "      <td>Indonesia</td>\n",
       "      <td>3.1M</td>\n",
       "      <td>11100000.0</td>\n",
       "      <td>3100000.0</td>\n",
       "    </tr>\n",
       "    <tr>\n",
       "      <th>...</th>\n",
       "      <td>...</td>\n",
       "      <td>...</td>\n",
       "      <td>...</td>\n",
       "      <td>...</td>\n",
       "      <td>...</td>\n",
       "      <td>...</td>\n",
       "      <td>...</td>\n",
       "      <td>...</td>\n",
       "    </tr>\n",
       "    <tr>\n",
       "      <th>995</th>\n",
       "      <td>Zendaya</td>\n",
       "      <td>Cinema &amp; Actors/actresses</td>\n",
       "      <td>Fashion</td>\n",
       "      <td>136.1M</td>\n",
       "      <td>United States</td>\n",
       "      <td>8.6M</td>\n",
       "      <td>136100000.0</td>\n",
       "      <td>8600000.0</td>\n",
       "    </tr>\n",
       "    <tr>\n",
       "      <th>996</th>\n",
       "      <td>zidane</td>\n",
       "      <td>Sports with a ball</td>\n",
       "      <td>NaN</td>\n",
       "      <td>31.2M</td>\n",
       "      <td>Spain</td>\n",
       "      <td>744.1K</td>\n",
       "      <td>31200000.0</td>\n",
       "      <td>744100.0</td>\n",
       "    </tr>\n",
       "    <tr>\n",
       "      <th>997</th>\n",
       "      <td>KAI</td>\n",
       "      <td>Music</td>\n",
       "      <td>NaN</td>\n",
       "      <td>13.9M</td>\n",
       "      <td>Indonesia</td>\n",
       "      <td>1.6M</td>\n",
       "      <td>13900000.0</td>\n",
       "      <td>1600000.0</td>\n",
       "    </tr>\n",
       "    <tr>\n",
       "      <th>998</th>\n",
       "      <td>Zoë Kravitz</td>\n",
       "      <td>Cinema &amp; Actors/actresses</td>\n",
       "      <td>NaN</td>\n",
       "      <td>8.2M</td>\n",
       "      <td>United States</td>\n",
       "      <td>885.5K</td>\n",
       "      <td>8200000.0</td>\n",
       "      <td>885500.0</td>\n",
       "    </tr>\n",
       "    <tr>\n",
       "      <th>999</th>\n",
       "      <td>Zoë Sugg</td>\n",
       "      <td>Lifestyle</td>\n",
       "      <td>Business &amp; Careers</td>\n",
       "      <td>9.4M</td>\n",
       "      <td>United Kingdom</td>\n",
       "      <td>289.3K</td>\n",
       "      <td>9400000.0</td>\n",
       "      <td>289300.0</td>\n",
       "    </tr>\n",
       "  </tbody>\n",
       "</table>\n",
       "<p>997 rows × 8 columns</p>\n",
       "</div>"
      ],
      "text/plain": [
       "    instagram name                   Category          category_2 Followers  \\\n",
       "0              433         Sports with a ball                 NaN     48.5M   \n",
       "1          TAEYANG                      Music                 NaN     12.7M   \n",
       "2    НАСТЯ ИВЛЕЕВА                      Shows                 NaN     18.8M   \n",
       "3              Joy                  Lifestyle                 NaN     13.5M   \n",
       "4          Jaehyun                        NaN                 NaN     11.1M   \n",
       "..             ...                        ...                 ...       ...   \n",
       "995        Zendaya  Cinema & Actors/actresses             Fashion    136.1M   \n",
       "996         zidane         Sports with a ball                 NaN     31.2M   \n",
       "997            KAI                      Music                 NaN     13.9M   \n",
       "998   Zoë Kravitz  Cinema & Actors/actresses                 NaN      8.2M   \n",
       "999      Zoë Sugg                  Lifestyle  Business & Careers      9.4M   \n",
       "\n",
       "    Audience Country Engagement avg\\r\\n  newFollowers  newEngagement avg\\r\\n  \n",
       "0              Spain               637K    48500000.0               637000.0  \n",
       "1          Indonesia             542.3K    12700000.0               542300.0  \n",
       "2             Russia             377.9K    18800000.0               377900.0  \n",
       "3          Indonesia               1.4M    13500000.0              1400000.0  \n",
       "4          Indonesia               3.1M    11100000.0              3100000.0  \n",
       "..               ...                ...           ...                    ...  \n",
       "995    United States               8.6M   136100000.0              8600000.0  \n",
       "996            Spain             744.1K    31200000.0               744100.0  \n",
       "997        Indonesia               1.6M    13900000.0              1600000.0  \n",
       "998    United States             885.5K     8200000.0               885500.0  \n",
       "999   United Kingdom             289.3K     9400000.0               289300.0  \n",
       "\n",
       "[997 rows x 8 columns]"
      ]
     },
     "execution_count": 23,
     "metadata": {},
     "output_type": "execute_result"
    }
   ],
   "source": [
    "change(df_i,li)"
   ]
  },
  {
   "cell_type": "markdown",
   "id": "570e546f",
   "metadata": {
    "papermill": {
     "duration": 0.073149,
     "end_time": "2022-04-23T06:31:06.364764",
     "exception": false,
     "start_time": "2022-04-23T06:31:06.291615",
     "status": "completed"
    },
    "tags": []
   },
   "source": [
    "## Engagement rate : the Percentage of Followers who really engages with the content posted by Influencers \n",
    "\n",
    "# Why ER  is so Important?\n",
    "## 1-good ER means your content is making an impact on audience(they really  like you)\n",
    "## 2- The higher the engagement ,the more likely it is that the content will be boosted in the newsfeed and attracting more eyes."
   ]
  },
  {
   "cell_type": "markdown",
   "id": "9615fa2a",
   "metadata": {
    "papermill": {
     "duration": 0.071849,
     "end_time": "2022-04-23T06:31:06.510432",
     "exception": false,
     "start_time": "2022-04-23T06:31:06.438583",
     "status": "completed"
    },
    "tags": []
   },
   "source": [
    "##### Engagement Rate formula:\n",
    "    ER=(Engagement Average/total Followers)*100"
   ]
  },
  {
   "cell_type": "code",
   "execution_count": 24,
   "id": "2c9925b3",
   "metadata": {
    "execution": {
     "iopub.execute_input": "2022-04-23T06:31:06.659150Z",
     "iopub.status.busy": "2022-04-23T06:31:06.658633Z",
     "iopub.status.idle": "2022-04-23T06:31:06.663501Z",
     "shell.execute_reply": "2022-04-23T06:31:06.662788Z"
    },
    "papermill": {
     "duration": 0.079876,
     "end_time": "2022-04-23T06:31:06.665267",
     "exception": false,
     "start_time": "2022-04-23T06:31:06.585391",
     "status": "completed"
    },
    "tags": []
   },
   "outputs": [],
   "source": [
    "df_i['Engagement Rate']=np.round((df_i['newEngagement avg\\r\\n']/df_i['newFollowers'])*100,3)"
   ]
  },
  {
   "cell_type": "code",
   "execution_count": 25,
   "id": "47dcdd8d",
   "metadata": {
    "execution": {
     "iopub.execute_input": "2022-04-23T06:31:06.813601Z",
     "iopub.status.busy": "2022-04-23T06:31:06.813039Z",
     "iopub.status.idle": "2022-04-23T06:31:06.819360Z",
     "shell.execute_reply": "2022-04-23T06:31:06.818257Z"
    },
    "papermill": {
     "duration": 0.083365,
     "end_time": "2022-04-23T06:31:06.821147",
     "exception": false,
     "start_time": "2022-04-23T06:31:06.737782",
     "status": "completed"
    },
    "tags": []
   },
   "outputs": [
    {
     "name": "stdout",
     "output_type": "stream",
     "text": [
      "['M']\n"
     ]
    }
   ],
   "source": [
    "print(df_i['Followers'].str[-1].unique())"
   ]
  },
  {
   "cell_type": "code",
   "execution_count": 26,
   "id": "afb2edda",
   "metadata": {
    "execution": {
     "iopub.execute_input": "2022-04-23T06:31:06.971606Z",
     "iopub.status.busy": "2022-04-23T06:31:06.970790Z",
     "iopub.status.idle": "2022-04-23T06:31:06.975655Z",
     "shell.execute_reply": "2022-04-23T06:31:06.975057Z"
    },
    "papermill": {
     "duration": 0.082387,
     "end_time": "2022-04-23T06:31:06.977423",
     "exception": false,
     "start_time": "2022-04-23T06:31:06.895036",
     "status": "completed"
    },
    "tags": []
   },
   "outputs": [],
   "source": [
    "# for convenice \n",
    "df_i['newFollowers']=df_i['newFollowers']/1000000"
   ]
  },
  {
   "cell_type": "code",
   "execution_count": 27,
   "id": "78e97038",
   "metadata": {
    "execution": {
     "iopub.execute_input": "2022-04-23T06:31:07.126394Z",
     "iopub.status.busy": "2022-04-23T06:31:07.125520Z",
     "iopub.status.idle": "2022-04-23T06:31:07.131232Z",
     "shell.execute_reply": "2022-04-23T06:31:07.130666Z"
    },
    "papermill": {
     "duration": 0.081847,
     "end_time": "2022-04-23T06:31:07.132961",
     "exception": false,
     "start_time": "2022-04-23T06:31:07.051114",
     "status": "completed"
    },
    "tags": []
   },
   "outputs": [],
   "source": [
    "df_i.drop(labels=['Engagement avg\\r\\n','newEngagement avg\\r\\n'],axis=1,inplace=True)"
   ]
  },
  {
   "cell_type": "code",
   "execution_count": 28,
   "id": "2889b7a9",
   "metadata": {
    "execution": {
     "iopub.execute_input": "2022-04-23T06:31:07.279557Z",
     "iopub.status.busy": "2022-04-23T06:31:07.278669Z",
     "iopub.status.idle": "2022-04-23T06:31:07.291399Z",
     "shell.execute_reply": "2022-04-23T06:31:07.290517Z"
    },
    "papermill": {
     "duration": 0.087939,
     "end_time": "2022-04-23T06:31:07.293251",
     "exception": false,
     "start_time": "2022-04-23T06:31:07.205312",
     "status": "completed"
    },
    "tags": []
   },
   "outputs": [
    {
     "data": {
      "text/html": [
       "<div>\n",
       "<style scoped>\n",
       "    .dataframe tbody tr th:only-of-type {\n",
       "        vertical-align: middle;\n",
       "    }\n",
       "\n",
       "    .dataframe tbody tr th {\n",
       "        vertical-align: top;\n",
       "    }\n",
       "\n",
       "    .dataframe thead th {\n",
       "        text-align: right;\n",
       "    }\n",
       "</style>\n",
       "<table border=\"1\" class=\"dataframe\">\n",
       "  <thead>\n",
       "    <tr style=\"text-align: right;\">\n",
       "      <th></th>\n",
       "      <th>instagram name</th>\n",
       "      <th>Category</th>\n",
       "      <th>category_2</th>\n",
       "      <th>Followers</th>\n",
       "      <th>Audience Country</th>\n",
       "      <th>newFollowers</th>\n",
       "      <th>Engagement Rate</th>\n",
       "    </tr>\n",
       "  </thead>\n",
       "  <tbody>\n",
       "    <tr>\n",
       "      <th>0</th>\n",
       "      <td>433</td>\n",
       "      <td>Sports with a ball</td>\n",
       "      <td>NaN</td>\n",
       "      <td>48.5M</td>\n",
       "      <td>Spain</td>\n",
       "      <td>48.5</td>\n",
       "      <td>1.313</td>\n",
       "    </tr>\n",
       "    <tr>\n",
       "      <th>1</th>\n",
       "      <td>TAEYANG</td>\n",
       "      <td>Music</td>\n",
       "      <td>NaN</td>\n",
       "      <td>12.7M</td>\n",
       "      <td>Indonesia</td>\n",
       "      <td>12.7</td>\n",
       "      <td>4.270</td>\n",
       "    </tr>\n",
       "    <tr>\n",
       "      <th>2</th>\n",
       "      <td>НАСТЯ ИВЛЕЕВА</td>\n",
       "      <td>Shows</td>\n",
       "      <td>NaN</td>\n",
       "      <td>18.8M</td>\n",
       "      <td>Russia</td>\n",
       "      <td>18.8</td>\n",
       "      <td>2.010</td>\n",
       "    </tr>\n",
       "    <tr>\n",
       "      <th>3</th>\n",
       "      <td>Joy</td>\n",
       "      <td>Lifestyle</td>\n",
       "      <td>NaN</td>\n",
       "      <td>13.5M</td>\n",
       "      <td>Indonesia</td>\n",
       "      <td>13.5</td>\n",
       "      <td>10.370</td>\n",
       "    </tr>\n",
       "    <tr>\n",
       "      <th>4</th>\n",
       "      <td>Jaehyun</td>\n",
       "      <td>NaN</td>\n",
       "      <td>NaN</td>\n",
       "      <td>11.1M</td>\n",
       "      <td>Indonesia</td>\n",
       "      <td>11.1</td>\n",
       "      <td>27.928</td>\n",
       "    </tr>\n",
       "  </tbody>\n",
       "</table>\n",
       "</div>"
      ],
      "text/plain": [
       "  instagram name            Category category_2 Followers Audience Country  \\\n",
       "0            433  Sports with a ball        NaN     48.5M            Spain   \n",
       "1        TAEYANG               Music        NaN     12.7M        Indonesia   \n",
       "2  НАСТЯ ИВЛЕЕВА               Shows        NaN     18.8M           Russia   \n",
       "3            Joy           Lifestyle        NaN     13.5M        Indonesia   \n",
       "4        Jaehyun                 NaN        NaN     11.1M        Indonesia   \n",
       "\n",
       "   newFollowers  Engagement Rate  \n",
       "0          48.5            1.313  \n",
       "1          12.7            4.270  \n",
       "2          18.8            2.010  \n",
       "3          13.5           10.370  \n",
       "4          11.1           27.928  "
      ]
     },
     "execution_count": 28,
     "metadata": {},
     "output_type": "execute_result"
    }
   ],
   "source": [
    "df_i.head(5)"
   ]
  },
  {
   "cell_type": "markdown",
   "id": "e9b59b81",
   "metadata": {
    "papermill": {
     "duration": 0.072955,
     "end_time": "2022-04-23T06:31:07.440132",
     "exception": false,
     "start_time": "2022-04-23T06:31:07.367177",
     "status": "completed"
    },
    "tags": []
   },
   "source": [
    "# TOP 15 most followed celebrity on  instagram"
   ]
  },
  {
   "cell_type": "code",
   "execution_count": 29,
   "id": "c90bed84",
   "metadata": {
    "execution": {
     "iopub.execute_input": "2022-04-23T06:31:07.588945Z",
     "iopub.status.busy": "2022-04-23T06:31:07.588189Z",
     "iopub.status.idle": "2022-04-23T06:31:07.600441Z",
     "shell.execute_reply": "2022-04-23T06:31:07.599870Z"
    },
    "papermill": {
     "duration": 0.088204,
     "end_time": "2022-04-23T06:31:07.602210",
     "exception": false,
     "start_time": "2022-04-23T06:31:07.514006",
     "status": "completed"
    },
    "tags": []
   },
   "outputs": [
    {
     "data": {
      "text/html": [
       "<div>\n",
       "<style scoped>\n",
       "    .dataframe tbody tr th:only-of-type {\n",
       "        vertical-align: middle;\n",
       "    }\n",
       "\n",
       "    .dataframe tbody tr th {\n",
       "        vertical-align: top;\n",
       "    }\n",
       "\n",
       "    .dataframe thead th {\n",
       "        text-align: right;\n",
       "    }\n",
       "</style>\n",
       "<table border=\"1\" class=\"dataframe\">\n",
       "  <thead>\n",
       "    <tr style=\"text-align: right;\">\n",
       "      <th></th>\n",
       "      <th>instagram name</th>\n",
       "      <th>Category</th>\n",
       "      <th>Followers</th>\n",
       "      <th>Engagement Rate</th>\n",
       "    </tr>\n",
       "  </thead>\n",
       "  <tbody>\n",
       "    <tr>\n",
       "      <th>0</th>\n",
       "      <td>Instagram</td>\n",
       "      <td>Photography</td>\n",
       "      <td>487.2M</td>\n",
       "      <td>0.096</td>\n",
       "    </tr>\n",
       "    <tr>\n",
       "      <th>1</th>\n",
       "      <td>Cristiano Ronaldo</td>\n",
       "      <td>Sports with a ball</td>\n",
       "      <td>419.6M</td>\n",
       "      <td>1.668</td>\n",
       "    </tr>\n",
       "    <tr>\n",
       "      <th>2</th>\n",
       "      <td>Kylie 🤍</td>\n",
       "      <td>Fashion</td>\n",
       "      <td>323.3M</td>\n",
       "      <td>3.805</td>\n",
       "    </tr>\n",
       "    <tr>\n",
       "      <th>3</th>\n",
       "      <td>Leo Messi</td>\n",
       "      <td>Sports with a ball</td>\n",
       "      <td>315.4M</td>\n",
       "      <td>1.680</td>\n",
       "    </tr>\n",
       "    <tr>\n",
       "      <th>4</th>\n",
       "      <td>Selena Gomez</td>\n",
       "      <td>Music</td>\n",
       "      <td>308.2M</td>\n",
       "      <td>1.428</td>\n",
       "    </tr>\n",
       "    <tr>\n",
       "      <th>5</th>\n",
       "      <td>therock</td>\n",
       "      <td>Cinema &amp; Actors/actresses</td>\n",
       "      <td>307M</td>\n",
       "      <td>0.129</td>\n",
       "    </tr>\n",
       "    <tr>\n",
       "      <th>6</th>\n",
       "      <td>Ariana Grande</td>\n",
       "      <td>Music</td>\n",
       "      <td>302.3M</td>\n",
       "      <td>1.356</td>\n",
       "    </tr>\n",
       "    <tr>\n",
       "      <th>7</th>\n",
       "      <td>Kim Kardashian</td>\n",
       "      <td>Fashion</td>\n",
       "      <td>296.4M</td>\n",
       "      <td>0.978</td>\n",
       "    </tr>\n",
       "    <tr>\n",
       "      <th>8</th>\n",
       "      <td>Beyoncé</td>\n",
       "      <td>Music</td>\n",
       "      <td>246.9M</td>\n",
       "      <td>1.499</td>\n",
       "    </tr>\n",
       "    <tr>\n",
       "      <th>9</th>\n",
       "      <td>Khloé Kardashian</td>\n",
       "      <td>Clothing &amp; Outfits</td>\n",
       "      <td>230.2M</td>\n",
       "      <td>0.521</td>\n",
       "    </tr>\n",
       "    <tr>\n",
       "      <th>10</th>\n",
       "      <td>Kendall</td>\n",
       "      <td>Modeling</td>\n",
       "      <td>227.4M</td>\n",
       "      <td>2.419</td>\n",
       "    </tr>\n",
       "    <tr>\n",
       "      <th>11</th>\n",
       "      <td>Justin Bieber</td>\n",
       "      <td>Music</td>\n",
       "      <td>227M</td>\n",
       "      <td>0.281</td>\n",
       "    </tr>\n",
       "    <tr>\n",
       "      <th>12</th>\n",
       "      <td>National Geographic</td>\n",
       "      <td>Nature &amp; landscapes</td>\n",
       "      <td>214.6M</td>\n",
       "      <td>0.068</td>\n",
       "    </tr>\n",
       "    <tr>\n",
       "      <th>13</th>\n",
       "      <td>Nike</td>\n",
       "      <td>Fitness &amp; Gym</td>\n",
       "      <td>208.9M</td>\n",
       "      <td>0.084</td>\n",
       "    </tr>\n",
       "    <tr>\n",
       "      <th>14</th>\n",
       "      <td>Taylor Swift</td>\n",
       "      <td>Music</td>\n",
       "      <td>204.7M</td>\n",
       "      <td>1.514</td>\n",
       "    </tr>\n",
       "  </tbody>\n",
       "</table>\n",
       "</div>"
      ],
      "text/plain": [
       "         instagram name                   Category Followers  Engagement Rate\n",
       "0             Instagram                Photography    487.2M            0.096\n",
       "1     Cristiano Ronaldo         Sports with a ball    419.6M            1.668\n",
       "2               Kylie 🤍                    Fashion    323.3M            3.805\n",
       "3             Leo Messi         Sports with a ball    315.4M            1.680\n",
       "4          Selena Gomez                      Music    308.2M            1.428\n",
       "5               therock  Cinema & Actors/actresses      307M            0.129\n",
       "6         Ariana Grande                      Music    302.3M            1.356\n",
       "7        Kim Kardashian                    Fashion    296.4M            0.978\n",
       "8              Beyoncé                      Music    246.9M            1.499\n",
       "9     Khloé Kardashian         Clothing & Outfits    230.2M            0.521\n",
       "10              Kendall                   Modeling    227.4M            2.419\n",
       "11        Justin Bieber                      Music      227M            0.281\n",
       "12  National Geographic        Nature & landscapes    214.6M            0.068\n",
       "13                 Nike              Fitness & Gym    208.9M            0.084\n",
       "14         Taylor Swift                      Music    204.7M            1.514"
      ]
     },
     "execution_count": 29,
     "metadata": {},
     "output_type": "execute_result"
    }
   ],
   "source": [
    "df_i.sort_values(by='newFollowers',ascending=False,ignore_index=True).iloc[0:15,[0,1,3,-1]]"
   ]
  },
  {
   "cell_type": "code",
   "execution_count": 30,
   "id": "8db17158",
   "metadata": {
    "execution": {
     "iopub.execute_input": "2022-04-23T06:31:07.751444Z",
     "iopub.status.busy": "2022-04-23T06:31:07.751186Z",
     "iopub.status.idle": "2022-04-23T06:31:08.022230Z",
     "shell.execute_reply": "2022-04-23T06:31:08.021194Z"
    },
    "papermill": {
     "duration": 0.349097,
     "end_time": "2022-04-23T06:31:08.025302",
     "exception": false,
     "start_time": "2022-04-23T06:31:07.676205",
     "status": "completed"
    },
    "tags": []
   },
   "outputs": [
    {
     "data": {
      "text/plain": [
       "<AxesSubplot:title={'center':'Top 15 most followed celebrity on instagram'}, xlabel='newFollowers', ylabel='instagram name'>"
      ]
     },
     "execution_count": 30,
     "metadata": {},
     "output_type": "execute_result"
    },
    {
     "name": "stderr",
     "output_type": "stream",
     "text": [
      "/opt/conda/lib/python3.7/site-packages/IPython/core/events.py:89: UserWarning: Glyph 129293 (\\U0001f90d) missing from current font.\n",
      "  func(*args, **kwargs)\n",
      "/opt/conda/lib/python3.7/site-packages/IPython/core/pylabtools.py:151: UserWarning: Glyph 129293 (\\U0001f90d) missing from current font.\n",
      "  fig.canvas.print_figure(bytes_io, **kw)\n"
     ]
    },
    {
     "data": {
      "image/png": "[encoded data removed]",
      "text/plain": [
       "<Figure size 432x288 with 1 Axes>"
      ]
     },
     "metadata": {
      "needs_background": "light"
     },
     "output_type": "display_data"
    }
   ],
   "source": [
    "plt.title('Top 15 most followed celebrity on instagram')\n",
    "plt.xlabel('Followers in Million')\n",
    "sns.barplot(y='instagram name',x='newFollowers',data=df_i.sort_values(by='newFollowers',ascending=False).head(15))"
   ]
  },
  {
   "cell_type": "code",
   "execution_count": 31,
   "id": "1efcdb88",
   "metadata": {
    "execution": {
     "iopub.execute_input": "2022-04-23T06:31:08.180392Z",
     "iopub.status.busy": "2022-04-23T06:31:08.180011Z",
     "iopub.status.idle": "2022-04-23T06:31:08.183912Z",
     "shell.execute_reply": "2022-04-23T06:31:08.183303Z"
    },
    "papermill": {
     "duration": 0.082254,
     "end_time": "2022-04-23T06:31:08.185571",
     "exception": false,
     "start_time": "2022-04-23T06:31:08.103317",
     "status": "completed"
    },
    "tags": []
   },
   "outputs": [],
   "source": [
    "pallete=['red','green','yellow','salmon','cyan','blue','orange']"
   ]
  },
  {
   "cell_type": "code",
   "execution_count": 32,
   "id": "6d4b28a1",
   "metadata": {
    "execution": {
     "iopub.execute_input": "2022-04-23T06:31:08.338772Z",
     "iopub.status.busy": "2022-04-23T06:31:08.338483Z",
     "iopub.status.idle": "2022-04-23T06:31:08.343213Z",
     "shell.execute_reply": "2022-04-23T06:31:08.342361Z"
    },
    "papermill": {
     "duration": 0.083439,
     "end_time": "2022-04-23T06:31:08.344930",
     "exception": false,
     "start_time": "2022-04-23T06:31:08.261491",
     "status": "completed"
    },
    "tags": []
   },
   "outputs": [],
   "source": [
    "def plot(df):\n",
    "    plt.figure(figsize=(8,6))\n",
    "    plt.xlabel('number of times category occured')\n",
    "    plt.ylabel('Category')\n",
    "    df['Category'].value_counts().sort_values(ascending=True).plot.barh(color=pallete)"
   ]
  },
  {
   "cell_type": "markdown",
   "id": "62d9ea06",
   "metadata": {
    "papermill": {
     "duration": 0.075411,
     "end_time": "2022-04-23T06:31:08.496579",
     "exception": false,
     "start_time": "2022-04-23T06:31:08.421168",
     "status": "completed"
    },
    "tags": []
   },
   "source": [
    "## TOP  categories followed on instagram(POPULAR CATEGORIES  ON INSTAGRAM)"
   ]
  },
  {
   "cell_type": "code",
   "execution_count": 33,
   "id": "4c147231",
   "metadata": {
    "execution": {
     "iopub.execute_input": "2022-04-23T06:31:08.649900Z",
     "iopub.status.busy": "2022-04-23T06:31:08.649473Z",
     "iopub.status.idle": "2022-04-23T06:31:08.977111Z",
     "shell.execute_reply": "2022-04-23T06:31:08.976091Z"
    },
    "papermill": {
     "duration": 0.406874,
     "end_time": "2022-04-23T06:31:08.979404",
     "exception": false,
     "start_time": "2022-04-23T06:31:08.572530",
     "status": "completed"
    },
    "tags": []
   },
   "outputs": [
    {
     "data": {
      "image/png": "[encoded data removed]",
      "text/plain": [
       "<Figure size 576x432 with 1 Axes>"
      ]
     },
     "metadata": {
      "needs_background": "light"
     },
     "output_type": "display_data"
    }
   ],
   "source": [
    "plot(df_i)\n",
    "    "
   ]
  },
  {
   "cell_type": "markdown",
   "id": "eb4fdf3f",
   "metadata": {
    "papermill": {
     "duration": 0.079858,
     "end_time": "2022-04-23T06:31:09.138037",
     "exception": false,
     "start_time": "2022-04-23T06:31:09.058179",
     "status": "completed"
    },
    "tags": []
   },
   "source": [
    "## TOP  categories followed on YOUTUBE(POPULAR CATEGORIES  ON YOUTUBE)"
   ]
  },
  {
   "cell_type": "code",
   "execution_count": 34,
   "id": "bc6248e5",
   "metadata": {
    "execution": {
     "iopub.execute_input": "2022-04-23T06:31:09.297910Z",
     "iopub.status.busy": "2022-04-23T06:31:09.297507Z",
     "iopub.status.idle": "2022-04-23T06:31:09.303690Z",
     "shell.execute_reply": "2022-04-23T06:31:09.303047Z"
    },
    "papermill": {
     "duration": 0.089202,
     "end_time": "2022-04-23T06:31:09.305496",
     "exception": false,
     "start_time": "2022-04-23T06:31:09.216294",
     "status": "completed"
    },
    "tags": []
   },
   "outputs": [],
   "source": [
    "df_y.drop_duplicates(subset=['channel name'],inplace=True)"
   ]
  },
  {
   "cell_type": "code",
   "execution_count": 35,
   "id": "e8fe96bc",
   "metadata": {
    "execution": {
     "iopub.execute_input": "2022-04-23T06:31:09.467998Z",
     "iopub.status.busy": "2022-04-23T06:31:09.467608Z",
     "iopub.status.idle": "2022-04-23T06:31:09.767049Z",
     "shell.execute_reply": "2022-04-23T06:31:09.766371Z"
    },
    "papermill": {
     "duration": 0.381459,
     "end_time": "2022-04-23T06:31:09.769514",
     "exception": false,
     "start_time": "2022-04-23T06:31:09.388055",
     "status": "completed"
    },
    "tags": []
   },
   "outputs": [
    {
     "data": {
      "image/png": "[encoded data removed]",
      "text/plain": [
       "<Figure size 576x432 with 1 Axes>"
      ]
     },
     "metadata": {
      "needs_background": "light"
     },
     "output_type": "display_data"
    }
   ],
   "source": [
    "plot(df_y)"
   ]
  },
  {
   "cell_type": "markdown",
   "id": "28140969",
   "metadata": {
    "papermill": {
     "duration": 0.077532,
     "end_time": "2022-04-23T06:31:09.928932",
     "exception": false,
     "start_time": "2022-04-23T06:31:09.851400",
     "status": "completed"
    },
    "tags": []
   },
   "source": [
    "# conclusion:\n",
    "### 1-some categories are not on both plateforms \n",
    "### 2-some categories are more popular on instagram than youtube and vice versa\n",
    "### 3-Example-EDUCATION and Animation is more popular on YOUTUBE the INSTAGRAM"
   ]
  },
  {
   "cell_type": "code",
   "execution_count": null,
   "id": "e5bbc0b6",
   "metadata": {
    "papermill": {
     "duration": 0.079562,
     "end_time": "2022-04-23T06:31:10.086251",
     "exception": false,
     "start_time": "2022-04-23T06:31:10.006689",
     "status": "completed"
    },
    "tags": []
   },
   "outputs": [],
   "source": []
  },
  {
   "cell_type": "markdown",
   "id": "faf364df",
   "metadata": {
    "papermill": {
     "duration": 0.080267,
     "end_time": "2022-04-23T06:31:10.244707",
     "exception": false,
     "start_time": "2022-04-23T06:31:10.164440",
     "status": "completed"
    },
    "tags": []
   },
   "source": [
    "# Decide That where you want to make ads"
   ]
  },
  {
   "cell_type": "code",
   "execution_count": 36,
   "id": "93c6e864",
   "metadata": {
    "execution": {
     "iopub.execute_input": "2022-04-23T06:31:10.408669Z",
     "iopub.status.busy": "2022-04-23T06:31:10.408385Z",
     "iopub.status.idle": "2022-04-23T06:31:10.412708Z",
     "shell.execute_reply": "2022-04-23T06:31:10.412130Z"
    },
    "papermill": {
     "duration": 0.089742,
     "end_time": "2022-04-23T06:31:10.414321",
     "exception": false,
     "start_time": "2022-04-23T06:31:10.324579",
     "status": "completed"
    },
    "tags": []
   },
   "outputs": [],
   "source": [
    "def plot_c(df):\n",
    "    plt.figure(figsize=(10,8))\n",
    "    plt.xlabel('number of times category occured')\n",
    "    df['Audience Country'].value_counts().sort_values().plot.barh(color=pallete)"
   ]
  },
  {
   "cell_type": "markdown",
   "id": "875c16cf",
   "metadata": {
    "papermill": {
     "duration": 0.079751,
     "end_time": "2022-04-23T06:31:10.572485",
     "exception": false,
     "start_time": "2022-04-23T06:31:10.492734",
     "status": "completed"
    },
    "tags": []
   },
   "source": [
    "## TOP consumer countries of the influencers content on INSTAGRAM"
   ]
  },
  {
   "cell_type": "code",
   "execution_count": 37,
   "id": "806ab9ee",
   "metadata": {
    "execution": {
     "iopub.execute_input": "2022-04-23T06:31:10.730635Z",
     "iopub.status.busy": "2022-04-23T06:31:10.730112Z",
     "iopub.status.idle": "2022-04-23T06:31:10.733466Z",
     "shell.execute_reply": "2022-04-23T06:31:10.732583Z"
    },
    "papermill": {
     "duration": 0.084812,
     "end_time": "2022-04-23T06:31:10.735419",
     "exception": false,
     "start_time": "2022-04-23T06:31:10.650607",
     "status": "completed"
    },
    "tags": []
   },
   "outputs": [],
   "source": [
    "#plot_c(df_i)"
   ]
  },
  {
   "cell_type": "markdown",
   "id": "51c779a7",
   "metadata": {
    "papermill": {
     "duration": 0.080447,
     "end_time": "2022-04-23T06:31:10.896565",
     "exception": false,
     "start_time": "2022-04-23T06:31:10.816118",
     "status": "completed"
    },
    "tags": []
   },
   "source": [
    "## TOP consumer countries of the influencers content on YOUTUBE"
   ]
  },
  {
   "cell_type": "code",
   "execution_count": 38,
   "id": "0c74ce68",
   "metadata": {
    "execution": {
     "iopub.execute_input": "2022-04-23T06:31:11.059009Z",
     "iopub.status.busy": "2022-04-23T06:31:11.057820Z",
     "iopub.status.idle": "2022-04-23T06:31:11.062043Z",
     "shell.execute_reply": "2022-04-23T06:31:11.061234Z"
    },
    "papermill": {
     "duration": 0.089695,
     "end_time": "2022-04-23T06:31:11.064586",
     "exception": false,
     "start_time": "2022-04-23T06:31:10.974891",
     "status": "completed"
    },
    "tags": []
   },
   "outputs": [],
   "source": [
    "#plot_c(df_y)"
   ]
  },
  {
   "cell_type": "markdown",
   "id": "9b827468",
   "metadata": {
    "papermill": {
     "duration": 0.078062,
     "end_time": "2022-04-23T06:31:11.226608",
     "exception": false,
     "start_time": "2022-04-23T06:31:11.148546",
     "status": "completed"
    },
    "tags": []
   },
   "source": [
    "# (TARGET COUNTRY FOR BUISNESS)Checking the demand for categories by Country wise"
   ]
  },
  {
   "cell_type": "markdown",
   "id": "444863f1",
   "metadata": {
    "papermill": {
     "duration": 0.078496,
     "end_time": "2022-04-23T06:31:11.383144",
     "exception": false,
     "start_time": "2022-04-23T06:31:11.304648",
     "status": "completed"
    },
    "tags": []
   },
   "source": [
    "### for understanding that where is the demand of product"
   ]
  },
  {
   "cell_type": "code",
   "execution_count": 39,
   "id": "824a41c4",
   "metadata": {
    "execution": {
     "iopub.execute_input": "2022-04-23T06:31:11.543639Z",
     "iopub.status.busy": "2022-04-23T06:31:11.543125Z",
     "iopub.status.idle": "2022-04-23T06:31:11.546834Z",
     "shell.execute_reply": "2022-04-23T06:31:11.546309Z"
    },
    "papermill": {
     "duration": 0.086188,
     "end_time": "2022-04-23T06:31:11.548495",
     "exception": false,
     "start_time": "2022-04-23T06:31:11.462307",
     "status": "completed"
    },
    "tags": []
   },
   "outputs": [],
   "source": [
    "def demand(data,category):\n",
    "    return data[data['Category']==category]['Audience Country'].value_counts().sort_values(ascending=True).plot.barh(color=pallete)\n",
    "    \n"
   ]
  },
  {
   "cell_type": "code",
   "execution_count": 40,
   "id": "340a2554",
   "metadata": {
    "execution": {
     "iopub.execute_input": "2022-04-23T06:31:11.709985Z",
     "iopub.status.busy": "2022-04-23T06:31:11.709710Z",
     "iopub.status.idle": "2022-04-23T06:31:11.880354Z",
     "shell.execute_reply": "2022-04-23T06:31:11.879508Z"
    },
    "papermill": {
     "duration": 0.255861,
     "end_time": "2022-04-23T06:31:11.882486",
     "exception": false,
     "start_time": "2022-04-23T06:31:11.626625",
     "status": "completed"
    },
    "tags": []
   },
   "outputs": [
    {
     "data": {
      "text/plain": [
       "<AxesSubplot:>"
      ]
     },
     "execution_count": 40,
     "metadata": {},
     "output_type": "execute_result"
    },
    {
     "data": {
      "image/png": "[encoded data removed]",
      "text/plain": [
       "<Figure size 432x288 with 1 Axes>"
      ]
     },
     "metadata": {
      "needs_background": "light"
     },
     "output_type": "display_data"
    }
   ],
   "source": [
    "demand(df_y,'Education')"
   ]
  },
  {
   "cell_type": "code",
   "execution_count": null,
   "id": "1f833b8f",
   "metadata": {
    "papermill": {
     "duration": 0.07885,
     "end_time": "2022-04-23T06:31:12.042619",
     "exception": false,
     "start_time": "2022-04-23T06:31:11.963769",
     "status": "completed"
    },
    "tags": []
   },
   "outputs": [],
   "source": []
  },
  {
   "cell_type": "code",
   "execution_count": 41,
   "id": "5617947d",
   "metadata": {
    "execution": {
     "iopub.execute_input": "2022-04-23T06:31:12.202777Z",
     "iopub.status.busy": "2022-04-23T06:31:12.202484Z",
     "iopub.status.idle": "2022-04-23T06:31:12.468469Z",
     "shell.execute_reply": "2022-04-23T06:31:12.467610Z"
    },
    "papermill": {
     "duration": 0.349166,
     "end_time": "2022-04-23T06:31:12.471285",
     "exception": false,
     "start_time": "2022-04-23T06:31:12.122119",
     "status": "completed"
    },
    "tags": []
   },
   "outputs": [
    {
     "data": {
      "text/plain": [
       "<AxesSubplot:>"
      ]
     },
     "execution_count": 41,
     "metadata": {},
     "output_type": "execute_result"
    },
    {
     "data": {
      "image/png": "[encoded data removed]",
      "text/plain": [
       "<Figure size 432x288 with 1 Axes>"
      ]
     },
     "metadata": {
      "needs_background": "light"
     },
     "output_type": "display_data"
    }
   ],
   "source": [
    "demand(df_i,'Lifestyle')"
   ]
  },
  {
   "cell_type": "markdown",
   "id": "e84bb7a5",
   "metadata": {
    "papermill": {
     "duration": 0.079378,
     "end_time": "2022-04-23T06:31:12.635281",
     "exception": false,
     "start_time": "2022-04-23T06:31:12.555903",
     "status": "completed"
    },
    "tags": []
   },
   "source": [
    "## 1-for a particular category we can choose the country where a huge audience is liking that particular category .\n",
    "### for example if you want to make an advertisement of educational app then you can choose India"
   ]
  },
  {
   "cell_type": "code",
   "execution_count": null,
   "id": "19ca515e",
   "metadata": {
    "papermill": {
     "duration": 0.08159,
     "end_time": "2022-04-23T06:31:12.796414",
     "exception": false,
     "start_time": "2022-04-23T06:31:12.714824",
     "status": "completed"
    },
    "tags": []
   },
   "outputs": [],
   "source": []
  },
  {
   "cell_type": "markdown",
   "id": "55f6fc9d",
   "metadata": {
    "papermill": {
     "duration": 0.081261,
     "end_time": "2022-04-23T06:31:12.957460",
     "exception": false,
     "start_time": "2022-04-23T06:31:12.876199",
     "status": "completed"
    },
    "tags": []
   },
   "source": [
    "# TOP 15 most followed channels on  youtube"
   ]
  },
  {
   "cell_type": "code",
   "execution_count": 42,
   "id": "2c93e90c",
   "metadata": {
    "execution": {
     "iopub.execute_input": "2022-04-23T06:31:13.121283Z",
     "iopub.status.busy": "2022-04-23T06:31:13.120811Z",
     "iopub.status.idle": "2022-04-23T06:31:13.131465Z",
     "shell.execute_reply": "2022-04-23T06:31:13.130604Z"
    },
    "papermill": {
     "duration": 0.095529,
     "end_time": "2022-04-23T06:31:13.133831",
     "exception": false,
     "start_time": "2022-04-23T06:31:13.038302",
     "status": "completed"
    },
    "tags": []
   },
   "outputs": [
    {
     "data": {
      "text/html": [
       "<div>\n",
       "<style scoped>\n",
       "    .dataframe tbody tr th:only-of-type {\n",
       "        vertical-align: middle;\n",
       "    }\n",
       "\n",
       "    .dataframe tbody tr th {\n",
       "        vertical-align: top;\n",
       "    }\n",
       "\n",
       "    .dataframe thead th {\n",
       "        text-align: right;\n",
       "    }\n",
       "</style>\n",
       "<table border=\"1\" class=\"dataframe\">\n",
       "  <thead>\n",
       "    <tr style=\"text-align: right;\">\n",
       "      <th></th>\n",
       "      <th>channel name</th>\n",
       "      <th>Category</th>\n",
       "      <th>Followers</th>\n",
       "    </tr>\n",
       "  </thead>\n",
       "  <tbody>\n",
       "    <tr>\n",
       "      <th>0</th>\n",
       "      <td>T-Series</td>\n",
       "      <td>Music &amp; Dance</td>\n",
       "      <td>212.1M</td>\n",
       "    </tr>\n",
       "    <tr>\n",
       "      <th>1</th>\n",
       "      <td>Cocomelon - Nursery Rhymes</td>\n",
       "      <td>Education</td>\n",
       "      <td>132.1M</td>\n",
       "    </tr>\n",
       "    <tr>\n",
       "      <th>2</th>\n",
       "      <td>SET India</td>\n",
       "      <td>NaN</td>\n",
       "      <td>130.4M</td>\n",
       "    </tr>\n",
       "    <tr>\n",
       "      <th>3</th>\n",
       "      <td>PewDiePie</td>\n",
       "      <td>Animation</td>\n",
       "      <td>111.4M</td>\n",
       "    </tr>\n",
       "    <tr>\n",
       "      <th>4</th>\n",
       "      <td>MrBeast</td>\n",
       "      <td>Video games</td>\n",
       "      <td>92.5M</td>\n",
       "    </tr>\n",
       "    <tr>\n",
       "      <th>5</th>\n",
       "      <td>✿ Kids Diana Show</td>\n",
       "      <td>Animation</td>\n",
       "      <td>92.4M</td>\n",
       "    </tr>\n",
       "    <tr>\n",
       "      <th>6</th>\n",
       "      <td>Like Nastya</td>\n",
       "      <td>Animation</td>\n",
       "      <td>90.1M</td>\n",
       "    </tr>\n",
       "    <tr>\n",
       "      <th>7</th>\n",
       "      <td>WWE</td>\n",
       "      <td>Video games</td>\n",
       "      <td>86.9M</td>\n",
       "    </tr>\n",
       "    <tr>\n",
       "      <th>8</th>\n",
       "      <td>Zee Music Company</td>\n",
       "      <td>Music &amp; Dance</td>\n",
       "      <td>82.7M</td>\n",
       "    </tr>\n",
       "    <tr>\n",
       "      <th>9</th>\n",
       "      <td>Vlad and Niki</td>\n",
       "      <td>Toys</td>\n",
       "      <td>80.4M</td>\n",
       "    </tr>\n",
       "  </tbody>\n",
       "</table>\n",
       "</div>"
      ],
      "text/plain": [
       "                 channel name       Category Followers\n",
       "0                    T-Series  Music & Dance    212.1M\n",
       "1  Cocomelon - Nursery Rhymes      Education    132.1M\n",
       "2                   SET India            NaN    130.4M\n",
       "3                   PewDiePie      Animation    111.4M\n",
       "4                     MrBeast    Video games     92.5M\n",
       "5           ✿ Kids Diana Show      Animation     92.4M\n",
       "6                 Like Nastya      Animation     90.1M\n",
       "7                         WWE    Video games     86.9M\n",
       "8           Zee Music Company  Music & Dance     82.7M\n",
       "9               Vlad and Niki           Toys     80.4M"
      ]
     },
     "execution_count": 42,
     "metadata": {},
     "output_type": "execute_result"
    }
   ],
   "source": [
    "df_y.iloc[0:10,[1,2,3]]\n",
    "# youtube dataset is already sorted"
   ]
  },
  {
   "cell_type": "code",
   "execution_count": 43,
   "id": "977b7891",
   "metadata": {
    "execution": {
     "iopub.execute_input": "2022-04-23T06:31:13.303795Z",
     "iopub.status.busy": "2022-04-23T06:31:13.303496Z",
     "iopub.status.idle": "2022-04-23T06:31:13.307964Z",
     "shell.execute_reply": "2022-04-23T06:31:13.307038Z"
    },
    "papermill": {
     "duration": 0.092524,
     "end_time": "2022-04-23T06:31:13.310023",
     "exception": false,
     "start_time": "2022-04-23T06:31:13.217499",
     "status": "completed"
    },
    "tags": []
   },
   "outputs": [],
   "source": [
    "ly=['Followers','avg views', 'avg likes', 'avg comments']"
   ]
  },
  {
   "cell_type": "code",
   "execution_count": null,
   "id": "a2e53ffe",
   "metadata": {
    "papermill": {
     "duration": 0.081079,
     "end_time": "2022-04-23T06:31:13.474014",
     "exception": false,
     "start_time": "2022-04-23T06:31:13.392935",
     "status": "completed"
    },
    "tags": []
   },
   "outputs": [],
   "source": []
  },
  {
   "cell_type": "markdown",
   "id": "39a2f41d",
   "metadata": {
    "papermill": {
     "duration": 0.080314,
     "end_time": "2022-04-23T06:31:13.634560",
     "exception": false,
     "start_time": "2022-04-23T06:31:13.554246",
     "status": "completed"
    },
    "tags": []
   },
   "source": [
    "### if you want to go with mini followers for advertisement on instagram"
   ]
  },
  {
   "cell_type": "code",
   "execution_count": 44,
   "id": "fe550ca4",
   "metadata": {
    "execution": {
     "iopub.execute_input": "2022-04-23T06:31:13.797530Z",
     "iopub.status.busy": "2022-04-23T06:31:13.797245Z",
     "iopub.status.idle": "2022-04-23T06:31:13.807885Z",
     "shell.execute_reply": "2022-04-23T06:31:13.807229Z"
    },
    "papermill": {
     "duration": 0.094119,
     "end_time": "2022-04-23T06:31:13.809601",
     "exception": false,
     "start_time": "2022-04-23T06:31:13.715482",
     "status": "completed"
    },
    "tags": []
   },
   "outputs": [
    {
     "data": {
      "text/plain": [
       "count    997.000000\n",
       "mean      25.539619\n",
       "std       40.586338\n",
       "min        2.600000\n",
       "25%        9.000000\n",
       "50%       14.600000\n",
       "75%       26.500000\n",
       "max      487.200000\n",
       "Name: newFollowers, dtype: float64"
      ]
     },
     "execution_count": 44,
     "metadata": {},
     "output_type": "execute_result"
    }
   ],
   "source": [
    "df_i['newFollowers'].describe()"
   ]
  },
  {
   "cell_type": "code",
   "execution_count": 45,
   "id": "adc9b4a7",
   "metadata": {
    "execution": {
     "iopub.execute_input": "2022-04-23T06:31:13.977621Z",
     "iopub.status.busy": "2022-04-23T06:31:13.976628Z",
     "iopub.status.idle": "2022-04-23T06:31:13.983840Z",
     "shell.execute_reply": "2022-04-23T06:31:13.983180Z"
    },
    "papermill": {
     "duration": 0.095483,
     "end_time": "2022-04-23T06:31:13.985847",
     "exception": false,
     "start_time": "2022-04-23T06:31:13.890364",
     "status": "completed"
    },
    "tags": []
   },
   "outputs": [
    {
     "data": {
      "text/plain": [
       "61.62399999999999"
      ]
     },
     "execution_count": 45,
     "metadata": {},
     "output_type": "execute_result"
    }
   ],
   "source": [
    "df_i['newFollowers'].quantile(0.94)"
   ]
  },
  {
   "cell_type": "markdown",
   "id": "2b747965",
   "metadata": {
    "papermill": {
     "duration": 0.081526,
     "end_time": "2022-04-23T06:31:14.151017",
     "exception": false,
     "start_time": "2022-04-23T06:31:14.069491",
     "status": "completed"
    },
    "tags": []
   },
   "source": [
    "#### I am taking 60M as a threshold means for instagram celebrity havning above 60M followers are considerd to be mega celebrity"
   ]
  },
  {
   "cell_type": "code",
   "execution_count": 46,
   "id": "1a72c526",
   "metadata": {
    "execution": {
     "iopub.execute_input": "2022-04-23T06:31:14.314027Z",
     "iopub.status.busy": "2022-04-23T06:31:14.313589Z",
     "iopub.status.idle": "2022-04-23T06:31:14.324559Z",
     "shell.execute_reply": "2022-04-23T06:31:14.324051Z"
    },
    "papermill": {
     "duration": 0.09494,
     "end_time": "2022-04-23T06:31:14.326492",
     "exception": false,
     "start_time": "2022-04-23T06:31:14.231552",
     "status": "completed"
    },
    "tags": []
   },
   "outputs": [
    {
     "data": {
      "text/html": [
       "<div>\n",
       "<style scoped>\n",
       "    .dataframe tbody tr th:only-of-type {\n",
       "        vertical-align: middle;\n",
       "    }\n",
       "\n",
       "    .dataframe tbody tr th {\n",
       "        vertical-align: top;\n",
       "    }\n",
       "\n",
       "    .dataframe thead th {\n",
       "        text-align: right;\n",
       "    }\n",
       "</style>\n",
       "<table border=\"1\" class=\"dataframe\">\n",
       "  <thead>\n",
       "    <tr style=\"text-align: right;\">\n",
       "      <th></th>\n",
       "      <th>instagram name</th>\n",
       "      <th>Category</th>\n",
       "      <th>category_2</th>\n",
       "      <th>Followers</th>\n",
       "      <th>Audience Country</th>\n",
       "      <th>newFollowers</th>\n",
       "      <th>Engagement Rate</th>\n",
       "    </tr>\n",
       "  </thead>\n",
       "  <tbody>\n",
       "    <tr>\n",
       "      <th>0</th>\n",
       "      <td>433</td>\n",
       "      <td>Sports with a ball</td>\n",
       "      <td>NaN</td>\n",
       "      <td>48.5M</td>\n",
       "      <td>Spain</td>\n",
       "      <td>48.5</td>\n",
       "      <td>1.313</td>\n",
       "    </tr>\n",
       "    <tr>\n",
       "      <th>1</th>\n",
       "      <td>TAEYANG</td>\n",
       "      <td>Music</td>\n",
       "      <td>NaN</td>\n",
       "      <td>12.7M</td>\n",
       "      <td>Indonesia</td>\n",
       "      <td>12.7</td>\n",
       "      <td>4.270</td>\n",
       "    </tr>\n",
       "  </tbody>\n",
       "</table>\n",
       "</div>"
      ],
      "text/plain": [
       "  instagram name            Category category_2 Followers Audience Country  \\\n",
       "0            433  Sports with a ball        NaN     48.5M            Spain   \n",
       "1        TAEYANG               Music        NaN     12.7M        Indonesia   \n",
       "\n",
       "   newFollowers  Engagement Rate  \n",
       "0          48.5            1.313  \n",
       "1          12.7            4.270  "
      ]
     },
     "execution_count": 46,
     "metadata": {},
     "output_type": "execute_result"
    }
   ],
   "source": [
    "df_i.head(2)"
   ]
  },
  {
   "cell_type": "markdown",
   "id": "567dfd37",
   "metadata": {
    "papermill": {
     "duration": 0.081388,
     "end_time": "2022-04-23T06:31:14.489021",
     "exception": false,
     "start_time": "2022-04-23T06:31:14.407633",
     "status": "completed"
    },
    "tags": []
   },
   "source": [
    "## if you  want to make ads by mini influencers "
   ]
  },
  {
   "cell_type": "code",
   "execution_count": 47,
   "id": "1b585f4b",
   "metadata": {
    "execution": {
     "iopub.execute_input": "2022-04-23T06:31:14.653431Z",
     "iopub.status.busy": "2022-04-23T06:31:14.652919Z",
     "iopub.status.idle": "2022-04-23T06:31:14.657581Z",
     "shell.execute_reply": "2022-04-23T06:31:14.657037Z"
    },
    "papermill": {
     "duration": 0.089294,
     "end_time": "2022-04-23T06:31:14.659230",
     "exception": false,
     "start_time": "2022-04-23T06:31:14.569936",
     "status": "completed"
    },
    "tags": []
   },
   "outputs": [],
   "source": [
    "def for_mini_followers_instagram(coun,cat):\n",
    "    df1=df_i[df_i['Audience Country']==coun]\n",
    "    df1_mini=df1[df1['newFollowers']<60]\n",
    "    return df1_mini.sort_values(by='Engagement Rate',ascending=False).groupby('Category').get_group(cat).iloc[:,[0,3,-1]]\n",
    "    \n",
    "    "
   ]
  },
  {
   "cell_type": "code",
   "execution_count": 48,
   "id": "b7cd7d96",
   "metadata": {
    "execution": {
     "iopub.execute_input": "2022-04-23T06:31:14.825744Z",
     "iopub.status.busy": "2022-04-23T06:31:14.825243Z",
     "iopub.status.idle": "2022-04-23T06:31:14.837962Z",
     "shell.execute_reply": "2022-04-23T06:31:14.836946Z"
    },
    "papermill": {
     "duration": 0.099284,
     "end_time": "2022-04-23T06:31:14.840049",
     "exception": false,
     "start_time": "2022-04-23T06:31:14.740765",
     "status": "completed"
    },
    "tags": []
   },
   "outputs": [
    {
     "data": {
      "text/html": [
       "<div>\n",
       "<style scoped>\n",
       "    .dataframe tbody tr th:only-of-type {\n",
       "        vertical-align: middle;\n",
       "    }\n",
       "\n",
       "    .dataframe tbody tr th {\n",
       "        vertical-align: top;\n",
       "    }\n",
       "\n",
       "    .dataframe thead th {\n",
       "        text-align: right;\n",
       "    }\n",
       "</style>\n",
       "<table border=\"1\" class=\"dataframe\">\n",
       "  <thead>\n",
       "    <tr style=\"text-align: right;\">\n",
       "      <th></th>\n",
       "      <th>instagram name</th>\n",
       "      <th>Followers</th>\n",
       "      <th>Engagement Rate</th>\n",
       "    </tr>\n",
       "  </thead>\n",
       "  <tbody>\n",
       "    <tr>\n",
       "      <th>705</th>\n",
       "      <td>Olivia Rodrigo</td>\n",
       "      <td>22.9M</td>\n",
       "      <td>15.284</td>\n",
       "    </tr>\n",
       "    <tr>\n",
       "      <th>992</th>\n",
       "      <td>Zayn Malik</td>\n",
       "      <td>44.9M</td>\n",
       "      <td>12.918</td>\n",
       "    </tr>\n",
       "    <tr>\n",
       "      <th>242</th>\n",
       "      <td>djsnake</td>\n",
       "      <td>9.1M</td>\n",
       "      <td>4.721</td>\n",
       "    </tr>\n",
       "    <tr>\n",
       "      <th>118</th>\n",
       "      <td>Bebe Rexha</td>\n",
       "      <td>10.8M</td>\n",
       "      <td>3.028</td>\n",
       "    </tr>\n",
       "    <tr>\n",
       "      <th>876</th>\n",
       "      <td>Tamannaah Bhatia</td>\n",
       "      <td>15.9M</td>\n",
       "      <td>2.528</td>\n",
       "    </tr>\n",
       "    <tr>\n",
       "      <th>216</th>\n",
       "      <td>Darshan Raval #Goriye</td>\n",
       "      <td>14.8M</td>\n",
       "      <td>1.683</td>\n",
       "    </tr>\n",
       "    <tr>\n",
       "      <th>604</th>\n",
       "      <td>marshmello</td>\n",
       "      <td>29.2M</td>\n",
       "      <td>1.392</td>\n",
       "    </tr>\n",
       "    <tr>\n",
       "      <th>581</th>\n",
       "      <td>Madhuri Dixit</td>\n",
       "      <td>30.6M</td>\n",
       "      <td>1.121</td>\n",
       "    </tr>\n",
       "    <tr>\n",
       "      <th>824</th>\n",
       "      <td>shreyaghoshal</td>\n",
       "      <td>23.7M</td>\n",
       "      <td>0.601</td>\n",
       "    </tr>\n",
       "    <tr>\n",
       "      <th>333</th>\n",
       "      <td>Guru Randhawa</td>\n",
       "      <td>31.5M</td>\n",
       "      <td>0.430</td>\n",
       "    </tr>\n",
       "  </tbody>\n",
       "</table>\n",
       "</div>"
      ],
      "text/plain": [
       "            instagram name Followers  Engagement Rate\n",
       "705         Olivia Rodrigo     22.9M           15.284\n",
       "992             Zayn Malik     44.9M           12.918\n",
       "242                djsnake      9.1M            4.721\n",
       "118             Bebe Rexha     10.8M            3.028\n",
       "876       Tamannaah Bhatia     15.9M            2.528\n",
       "216  Darshan Raval #Goriye     14.8M            1.683\n",
       "604             marshmello     29.2M            1.392\n",
       "581          Madhuri Dixit     30.6M            1.121\n",
       "824          shreyaghoshal     23.7M            0.601\n",
       "333          Guru Randhawa     31.5M            0.430"
      ]
     },
     "execution_count": 48,
     "metadata": {},
     "output_type": "execute_result"
    }
   ],
   "source": [
    "for_mini_followers_instagram('India','Music')"
   ]
  },
  {
   "cell_type": "markdown",
   "id": "c34f0dc0",
   "metadata": {
    "execution": {
     "iopub.execute_input": "2022-04-23T06:25:44.527034Z",
     "iopub.status.busy": "2022-04-23T06:25:44.526736Z",
     "iopub.status.idle": "2022-04-23T06:25:44.531262Z",
     "shell.execute_reply": "2022-04-23T06:25:44.530163Z",
     "shell.execute_reply.started": "2022-04-23T06:25:44.527004Z"
    },
    "papermill": {
     "duration": 0.081726,
     "end_time": "2022-04-23T06:31:15.007040",
     "exception": false,
     "start_time": "2022-04-23T06:31:14.925314",
     "status": "completed"
    },
    "tags": []
   },
   "source": [
    "## if you want to make ads by mega influencers"
   ]
  },
  {
   "cell_type": "code",
   "execution_count": 49,
   "id": "363338da",
   "metadata": {
    "execution": {
     "iopub.execute_input": "2022-04-23T06:31:15.175411Z",
     "iopub.status.busy": "2022-04-23T06:31:15.174880Z",
     "iopub.status.idle": "2022-04-23T06:31:15.179663Z",
     "shell.execute_reply": "2022-04-23T06:31:15.179035Z"
    },
    "papermill": {
     "duration": 0.09129,
     "end_time": "2022-04-23T06:31:15.181450",
     "exception": false,
     "start_time": "2022-04-23T06:31:15.090160",
     "status": "completed"
    },
    "tags": []
   },
   "outputs": [],
   "source": [
    "def for_mega_followers_instagram(coun,cat):\n",
    "    df1=df_i[df_i['Audience Country']==coun]\n",
    "    df1_mini=df1[df1['newFollowers']>60]\n",
    "    return df1_mini.sort_values(by='Engagement Rate',ascending=False).groupby('Category').get_group(cat).iloc[:,[0,3,-1]]\n",
    "    \n",
    "    "
   ]
  },
  {
   "cell_type": "code",
   "execution_count": 50,
   "id": "216b447e",
   "metadata": {
    "execution": {
     "iopub.execute_input": "2022-04-23T06:31:15.349974Z",
     "iopub.status.busy": "2022-04-23T06:31:15.349464Z",
     "iopub.status.idle": "2022-04-23T06:31:15.360548Z",
     "shell.execute_reply": "2022-04-23T06:31:15.359959Z"
    },
    "papermill": {
     "duration": 0.096948,
     "end_time": "2022-04-23T06:31:15.362327",
     "exception": false,
     "start_time": "2022-04-23T06:31:15.265379",
     "status": "completed"
    },
    "tags": []
   },
   "outputs": [
    {
     "data": {
      "text/html": [
       "<div>\n",
       "<style scoped>\n",
       "    .dataframe tbody tr th:only-of-type {\n",
       "        vertical-align: middle;\n",
       "    }\n",
       "\n",
       "    .dataframe tbody tr th {\n",
       "        vertical-align: top;\n",
       "    }\n",
       "\n",
       "    .dataframe thead th {\n",
       "        text-align: right;\n",
       "    }\n",
       "</style>\n",
       "<table border=\"1\" class=\"dataframe\">\n",
       "  <thead>\n",
       "    <tr style=\"text-align: right;\">\n",
       "      <th></th>\n",
       "      <th>instagram name</th>\n",
       "      <th>Followers</th>\n",
       "      <th>Engagement Rate</th>\n",
       "    </tr>\n",
       "  </thead>\n",
       "  <tbody>\n",
       "    <tr>\n",
       "      <th>818</th>\n",
       "      <td>Shakira</td>\n",
       "      <td>71.9M</td>\n",
       "      <td>1.317</td>\n",
       "    </tr>\n",
       "    <tr>\n",
       "      <th>670</th>\n",
       "      <td>Neha Kakkar (Mrs. Singh)</td>\n",
       "      <td>68.5M</td>\n",
       "      <td>1.131</td>\n",
       "    </tr>\n",
       "    <tr>\n",
       "      <th>458</th>\n",
       "      <td>Justin Bieber</td>\n",
       "      <td>227M</td>\n",
       "      <td>0.281</td>\n",
       "    </tr>\n",
       "  </tbody>\n",
       "</table>\n",
       "</div>"
      ],
      "text/plain": [
       "               instagram name Followers  Engagement Rate\n",
       "818                   Shakira     71.9M            1.317\n",
       "670  Neha Kakkar (Mrs. Singh)     68.5M            1.131\n",
       "458             Justin Bieber      227M            0.281"
      ]
     },
     "execution_count": 50,
     "metadata": {},
     "output_type": "execute_result"
    }
   ],
   "source": [
    "for_mega_followers_instagram('India','Music')"
   ]
  },
  {
   "cell_type": "code",
   "execution_count": 51,
   "id": "fe028b2d",
   "metadata": {
    "execution": {
     "iopub.execute_input": "2022-04-23T06:31:15.534687Z",
     "iopub.status.busy": "2022-04-23T06:31:15.534172Z",
     "iopub.status.idle": "2022-04-23T06:31:15.546131Z",
     "shell.execute_reply": "2022-04-23T06:31:15.545566Z"
    },
    "papermill": {
     "duration": 0.098553,
     "end_time": "2022-04-23T06:31:15.547952",
     "exception": false,
     "start_time": "2022-04-23T06:31:15.449399",
     "status": "completed"
    },
    "tags": []
   },
   "outputs": [
    {
     "data": {
      "text/html": [
       "<div>\n",
       "<style scoped>\n",
       "    .dataframe tbody tr th:only-of-type {\n",
       "        vertical-align: middle;\n",
       "    }\n",
       "\n",
       "    .dataframe tbody tr th {\n",
       "        vertical-align: top;\n",
       "    }\n",
       "\n",
       "    .dataframe thead th {\n",
       "        text-align: right;\n",
       "    }\n",
       "</style>\n",
       "<table border=\"1\" class=\"dataframe\">\n",
       "  <thead>\n",
       "    <tr style=\"text-align: right;\">\n",
       "      <th></th>\n",
       "      <th>instagram name</th>\n",
       "      <th>Followers</th>\n",
       "      <th>Engagement Rate</th>\n",
       "    </tr>\n",
       "  </thead>\n",
       "  <tbody>\n",
       "    <tr>\n",
       "      <th>883</th>\n",
       "      <td>Tejasswi Prakash</td>\n",
       "      <td>5.5M</td>\n",
       "      <td>9.335</td>\n",
       "    </tr>\n",
       "    <tr>\n",
       "      <th>757</th>\n",
       "      <td>Rashmika Mandanna</td>\n",
       "      <td>30M</td>\n",
       "      <td>6.667</td>\n",
       "    </tr>\n",
       "    <tr>\n",
       "      <th>803</th>\n",
       "      <td>Samantha</td>\n",
       "      <td>22.9M</td>\n",
       "      <td>3.063</td>\n",
       "    </tr>\n",
       "    <tr>\n",
       "      <th>865</th>\n",
       "      <td>Sunny Leone</td>\n",
       "      <td>51.5M</td>\n",
       "      <td>0.819</td>\n",
       "    </tr>\n",
       "  </tbody>\n",
       "</table>\n",
       "</div>"
      ],
      "text/plain": [
       "        instagram name Followers  Engagement Rate\n",
       "883   Tejasswi Prakash      5.5M            9.335\n",
       "757  Rashmika Mandanna       30M            6.667\n",
       "803           Samantha     22.9M            3.063\n",
       "865        Sunny Leone     51.5M            0.819"
      ]
     },
     "execution_count": 51,
     "metadata": {},
     "output_type": "execute_result"
    }
   ],
   "source": [
    "for_mini_followers_instagram('India','Beauty')"
   ]
  },
  {
   "cell_type": "code",
   "execution_count": 52,
   "id": "7e8a36b0",
   "metadata": {
    "execution": {
     "iopub.execute_input": "2022-04-23T06:31:15.716383Z",
     "iopub.status.busy": "2022-04-23T06:31:15.716130Z",
     "iopub.status.idle": "2022-04-23T06:31:15.728547Z",
     "shell.execute_reply": "2022-04-23T06:31:15.727949Z"
    },
    "papermill": {
     "duration": 0.099253,
     "end_time": "2022-04-23T06:31:15.730295",
     "exception": false,
     "start_time": "2022-04-23T06:31:15.631042",
     "status": "completed"
    },
    "tags": []
   },
   "outputs": [
    {
     "data": {
      "text/html": [
       "<div>\n",
       "<style scoped>\n",
       "    .dataframe tbody tr th:only-of-type {\n",
       "        vertical-align: middle;\n",
       "    }\n",
       "\n",
       "    .dataframe tbody tr th {\n",
       "        vertical-align: top;\n",
       "    }\n",
       "\n",
       "    .dataframe thead th {\n",
       "        text-align: right;\n",
       "    }\n",
       "</style>\n",
       "<table border=\"1\" class=\"dataframe\">\n",
       "  <thead>\n",
       "    <tr style=\"text-align: right;\">\n",
       "      <th></th>\n",
       "      <th>instagram name</th>\n",
       "      <th>Followers</th>\n",
       "      <th>Engagement Rate</th>\n",
       "    </tr>\n",
       "  </thead>\n",
       "  <tbody>\n",
       "    <tr>\n",
       "      <th>786</th>\n",
       "      <td>𝐑𝐨𝐡𝐢𝐭 𝐙𝐢𝐧𝐣𝐮𝐫𝐤𝐞 ~ 𝐫𝐞𝐚𝐜𝐭𝐢𝐨𝐧𝐛𝐨𝐢 💫</td>\n",
       "      <td>21.2M</td>\n",
       "      <td>5.189</td>\n",
       "    </tr>\n",
       "    <tr>\n",
       "      <th>73</th>\n",
       "      <td>ANNE-MARIE</td>\n",
       "      <td>9.2M</td>\n",
       "      <td>3.691</td>\n",
       "    </tr>\n",
       "    <tr>\n",
       "      <th>108</th>\n",
       "      <td>Awez Darbar</td>\n",
       "      <td>17.8M</td>\n",
       "      <td>3.137</td>\n",
       "    </tr>\n",
       "    <tr>\n",
       "      <th>239</th>\n",
       "      <td>Divyanka Tripathi Dahiya</td>\n",
       "      <td>18.9M</td>\n",
       "      <td>0.890</td>\n",
       "    </tr>\n",
       "  </tbody>\n",
       "</table>\n",
       "</div>"
      ],
      "text/plain": [
       "                     instagram name Followers  Engagement Rate\n",
       "786  𝐑𝐨𝐡𝐢𝐭 𝐙𝐢𝐧𝐣𝐮𝐫𝐤𝐞 ~ 𝐫𝐞𝐚𝐜𝐭𝐢𝐨𝐧𝐛𝐨𝐢 💫     21.2M            5.189\n",
       "73                       ANNE-MARIE      9.2M            3.691\n",
       "108                     Awez Darbar     17.8M            3.137\n",
       "239        Divyanka Tripathi Dahiya     18.9M            0.890"
      ]
     },
     "execution_count": 52,
     "metadata": {},
     "output_type": "execute_result"
    }
   ],
   "source": [
    "for_mini_followers_instagram('India','Shows')"
   ]
  },
  {
   "cell_type": "code",
   "execution_count": 53,
   "id": "a2288b73",
   "metadata": {
    "execution": {
     "iopub.execute_input": "2022-04-23T06:31:15.908053Z",
     "iopub.status.busy": "2022-04-23T06:31:15.907548Z",
     "iopub.status.idle": "2022-04-23T06:31:15.910604Z",
     "shell.execute_reply": "2022-04-23T06:31:15.910041Z"
    },
    "papermill": {
     "duration": 0.093886,
     "end_time": "2022-04-23T06:31:15.912373",
     "exception": false,
     "start_time": "2022-04-23T06:31:15.818487",
     "status": "completed"
    },
    "tags": []
   },
   "outputs": [],
   "source": [
    "# category(df_i,'Sports with a ball')"
   ]
  },
  {
   "cell_type": "code",
   "execution_count": 54,
   "id": "7abb0145",
   "metadata": {
    "execution": {
     "iopub.execute_input": "2022-04-23T06:31:16.082389Z",
     "iopub.status.busy": "2022-04-23T06:31:16.082100Z",
     "iopub.status.idle": "2022-04-23T06:31:16.096214Z",
     "shell.execute_reply": "2022-04-23T06:31:16.095622Z"
    },
    "papermill": {
     "duration": 0.101982,
     "end_time": "2022-04-23T06:31:16.097968",
     "exception": false,
     "start_time": "2022-04-23T06:31:15.995986",
     "status": "completed"
    },
    "tags": []
   },
   "outputs": [
    {
     "data": {
      "text/html": [
       "<div>\n",
       "<style scoped>\n",
       "    .dataframe tbody tr th:only-of-type {\n",
       "        vertical-align: middle;\n",
       "    }\n",
       "\n",
       "    .dataframe tbody tr th {\n",
       "        vertical-align: top;\n",
       "    }\n",
       "\n",
       "    .dataframe thead th {\n",
       "        text-align: right;\n",
       "    }\n",
       "</style>\n",
       "<table border=\"1\" class=\"dataframe\">\n",
       "  <thead>\n",
       "    <tr style=\"text-align: right;\">\n",
       "      <th></th>\n",
       "      <th>instagram name</th>\n",
       "      <th>Followers</th>\n",
       "      <th>Engagement Rate</th>\n",
       "    </tr>\n",
       "  </thead>\n",
       "  <tbody>\n",
       "    <tr>\n",
       "      <th>653</th>\n",
       "      <td>Nani</td>\n",
       "      <td>4.8M</td>\n",
       "      <td>11.646</td>\n",
       "    </tr>\n",
       "    <tr>\n",
       "      <th>836</th>\n",
       "      <td>Smriti Mandhana</td>\n",
       "      <td>5.9M</td>\n",
       "      <td>10.808</td>\n",
       "    </tr>\n",
       "    <tr>\n",
       "      <th>825</th>\n",
       "      <td>Shreyas Iyer</td>\n",
       "      <td>5.9M</td>\n",
       "      <td>9.758</td>\n",
       "    </tr>\n",
       "    <tr>\n",
       "      <th>774</th>\n",
       "      <td>Rishabh Pant</td>\n",
       "      <td>6.1M</td>\n",
       "      <td>9.666</td>\n",
       "    </tr>\n",
       "    <tr>\n",
       "      <th>752</th>\n",
       "      <td>KL Rahul👑</td>\n",
       "      <td>11.9M</td>\n",
       "      <td>6.626</td>\n",
       "    </tr>\n",
       "    <tr>\n",
       "      <th>343</th>\n",
       "      <td>Hardik Himanshu Pandya</td>\n",
       "      <td>20.6M</td>\n",
       "      <td>5.340</td>\n",
       "    </tr>\n",
       "    <tr>\n",
       "      <th>785</th>\n",
       "      <td>Rohit Sharma</td>\n",
       "      <td>23.3M</td>\n",
       "      <td>5.150</td>\n",
       "    </tr>\n",
       "    <tr>\n",
       "      <th>15</th>\n",
       "      <td>AB de Villiers</td>\n",
       "      <td>17.2M</td>\n",
       "      <td>3.581</td>\n",
       "    </tr>\n",
       "    <tr>\n",
       "      <th>222</th>\n",
       "      <td>David Warner</td>\n",
       "      <td>9.1M</td>\n",
       "      <td>3.074</td>\n",
       "    </tr>\n",
       "    <tr>\n",
       "      <th>822</th>\n",
       "      <td>Shikhar Dhawan</td>\n",
       "      <td>10.8M</td>\n",
       "      <td>2.763</td>\n",
       "    </tr>\n",
       "    <tr>\n",
       "      <th>797</th>\n",
       "      <td>Sachin Tendulkar</td>\n",
       "      <td>33.5M</td>\n",
       "      <td>1.194</td>\n",
       "    </tr>\n",
       "    <tr>\n",
       "      <th>385</th>\n",
       "      <td>Team India</td>\n",
       "      <td>23.9M</td>\n",
       "      <td>1.089</td>\n",
       "    </tr>\n",
       "    <tr>\n",
       "      <th>300</th>\n",
       "      <td>FIFA World Cup</td>\n",
       "      <td>25.5M</td>\n",
       "      <td>0.428</td>\n",
       "    </tr>\n",
       "    <tr>\n",
       "      <th>461</th>\n",
       "      <td>Juventus</td>\n",
       "      <td>52.9M</td>\n",
       "      <td>0.169</td>\n",
       "    </tr>\n",
       "  </tbody>\n",
       "</table>\n",
       "</div>"
      ],
      "text/plain": [
       "             instagram name Followers  Engagement Rate\n",
       "653                    Nani      4.8M           11.646\n",
       "836         Smriti Mandhana      5.9M           10.808\n",
       "825            Shreyas Iyer      5.9M            9.758\n",
       "774            Rishabh Pant      6.1M            9.666\n",
       "752               KL Rahul👑     11.9M            6.626\n",
       "343  Hardik Himanshu Pandya     20.6M            5.340\n",
       "785            Rohit Sharma     23.3M            5.150\n",
       "15           AB de Villiers     17.2M            3.581\n",
       "222            David Warner      9.1M            3.074\n",
       "822          Shikhar Dhawan     10.8M            2.763\n",
       "797        Sachin Tendulkar     33.5M            1.194\n",
       "385              Team India     23.9M            1.089\n",
       "300          FIFA World Cup     25.5M            0.428\n",
       "461                Juventus     52.9M            0.169"
      ]
     },
     "execution_count": 54,
     "metadata": {},
     "output_type": "execute_result"
    }
   ],
   "source": [
    " for_mini_followers_instagram('India','Sports with a ball')"
   ]
  },
  {
   "cell_type": "code",
   "execution_count": 55,
   "id": "82a4f496",
   "metadata": {
    "execution": {
     "iopub.execute_input": "2022-04-23T06:31:16.269385Z",
     "iopub.status.busy": "2022-04-23T06:31:16.268916Z",
     "iopub.status.idle": "2022-04-23T06:31:16.283560Z",
     "shell.execute_reply": "2022-04-23T06:31:16.282617Z"
    },
    "papermill": {
     "duration": 0.102494,
     "end_time": "2022-04-23T06:31:16.285821",
     "exception": false,
     "start_time": "2022-04-23T06:31:16.183327",
     "status": "completed"
    },
    "tags": []
   },
   "outputs": [
    {
     "data": {
      "text/html": [
       "<div>\n",
       "<style scoped>\n",
       "    .dataframe tbody tr th:only-of-type {\n",
       "        vertical-align: middle;\n",
       "    }\n",
       "\n",
       "    .dataframe tbody tr th {\n",
       "        vertical-align: top;\n",
       "    }\n",
       "\n",
       "    .dataframe thead th {\n",
       "        text-align: right;\n",
       "    }\n",
       "</style>\n",
       "<table border=\"1\" class=\"dataframe\">\n",
       "  <thead>\n",
       "    <tr style=\"text-align: right;\">\n",
       "      <th></th>\n",
       "      <th>instagram name</th>\n",
       "      <th>Followers</th>\n",
       "      <th>Engagement Rate</th>\n",
       "    </tr>\n",
       "  </thead>\n",
       "  <tbody>\n",
       "    <tr>\n",
       "      <th>943</th>\n",
       "      <td>Virat Kohli</td>\n",
       "      <td>188.1M</td>\n",
       "      <td>1.808</td>\n",
       "    </tr>\n",
       "    <tr>\n",
       "      <th>203</th>\n",
       "      <td>Cristiano Ronaldo</td>\n",
       "      <td>419.6M</td>\n",
       "      <td>1.668</td>\n",
       "    </tr>\n",
       "  </tbody>\n",
       "</table>\n",
       "</div>"
      ],
      "text/plain": [
       "        instagram name Followers  Engagement Rate\n",
       "943        Virat Kohli    188.1M            1.808\n",
       "203  Cristiano Ronaldo    419.6M            1.668"
      ]
     },
     "execution_count": 55,
     "metadata": {},
     "output_type": "execute_result"
    }
   ],
   "source": [
    "for_mega_followers_instagram('India','Sports with a ball')"
   ]
  },
  {
   "cell_type": "code",
   "execution_count": 56,
   "id": "c73a5cc6",
   "metadata": {
    "execution": {
     "iopub.execute_input": "2022-04-23T06:31:16.458412Z",
     "iopub.status.busy": "2022-04-23T06:31:16.457999Z",
     "iopub.status.idle": "2022-04-23T06:31:16.469687Z",
     "shell.execute_reply": "2022-04-23T06:31:16.468913Z"
    },
    "papermill": {
     "duration": 0.099128,
     "end_time": "2022-04-23T06:31:16.471506",
     "exception": false,
     "start_time": "2022-04-23T06:31:16.372378",
     "status": "completed"
    },
    "tags": []
   },
   "outputs": [
    {
     "data": {
      "text/html": [
       "<div>\n",
       "<style scoped>\n",
       "    .dataframe tbody tr th:only-of-type {\n",
       "        vertical-align: middle;\n",
       "    }\n",
       "\n",
       "    .dataframe tbody tr th {\n",
       "        vertical-align: top;\n",
       "    }\n",
       "\n",
       "    .dataframe thead th {\n",
       "        text-align: right;\n",
       "    }\n",
       "</style>\n",
       "<table border=\"1\" class=\"dataframe\">\n",
       "  <thead>\n",
       "    <tr style=\"text-align: right;\">\n",
       "      <th></th>\n",
       "      <th>youtuber name</th>\n",
       "      <th>channel name</th>\n",
       "      <th>Category</th>\n",
       "      <th>Followers</th>\n",
       "      <th>Audience Country</th>\n",
       "      <th>avg views</th>\n",
       "      <th>avg likes</th>\n",
       "      <th>avg comments</th>\n",
       "    </tr>\n",
       "  </thead>\n",
       "  <tbody>\n",
       "    <tr>\n",
       "      <th>0</th>\n",
       "      <td>tseries</td>\n",
       "      <td>T-Series</td>\n",
       "      <td>Music &amp; Dance</td>\n",
       "      <td>212.1M</td>\n",
       "      <td>India</td>\n",
       "      <td>323.7K</td>\n",
       "      <td>9.8K</td>\n",
       "      <td>290</td>\n",
       "    </tr>\n",
       "    <tr>\n",
       "      <th>1</th>\n",
       "      <td>checkgate</td>\n",
       "      <td>Cocomelon - Nursery Rhymes</td>\n",
       "      <td>Education</td>\n",
       "      <td>132.1M</td>\n",
       "      <td>NaN</td>\n",
       "      <td>13.8M</td>\n",
       "      <td>80.9K</td>\n",
       "      <td>NaN</td>\n",
       "    </tr>\n",
       "    <tr>\n",
       "      <th>2</th>\n",
       "      <td>setindia</td>\n",
       "      <td>SET India</td>\n",
       "      <td>NaN</td>\n",
       "      <td>130.4M</td>\n",
       "      <td>India</td>\n",
       "      <td>23.6K</td>\n",
       "      <td>314</td>\n",
       "      <td>21</td>\n",
       "    </tr>\n",
       "  </tbody>\n",
       "</table>\n",
       "</div>"
      ],
      "text/plain": [
       "  youtuber name                channel name       Category Followers  \\\n",
       "0       tseries                    T-Series  Music & Dance    212.1M   \n",
       "1     checkgate  Cocomelon - Nursery Rhymes      Education    132.1M   \n",
       "2      setindia                   SET India            NaN    130.4M   \n",
       "\n",
       "  Audience Country avg views avg likes avg comments  \n",
       "0            India    323.7K      9.8K          290  \n",
       "1              NaN     13.8M     80.9K          NaN  \n",
       "2            India     23.6K       314           21  "
      ]
     },
     "execution_count": 56,
     "metadata": {},
     "output_type": "execute_result"
    }
   ],
   "source": [
    "df_y.head(3)"
   ]
  },
  {
   "cell_type": "code",
   "execution_count": 57,
   "id": "bcb3e595",
   "metadata": {
    "execution": {
     "iopub.execute_input": "2022-04-23T06:31:16.642194Z",
     "iopub.status.busy": "2022-04-23T06:31:16.641793Z",
     "iopub.status.idle": "2022-04-23T06:31:16.649319Z",
     "shell.execute_reply": "2022-04-23T06:31:16.648507Z"
    },
    "papermill": {
     "duration": 0.095065,
     "end_time": "2022-04-23T06:31:16.650989",
     "exception": false,
     "start_time": "2022-04-23T06:31:16.555924",
     "status": "completed"
    },
    "tags": []
   },
   "outputs": [
    {
     "data": {
      "text/plain": [
       "youtuber name         0\n",
       "channel name          0\n",
       "Category            276\n",
       "Followers             0\n",
       "Audience Country    161\n",
       "avg views             0\n",
       "avg likes            38\n",
       "avg comments        209\n",
       "dtype: int64"
      ]
     },
     "execution_count": 57,
     "metadata": {},
     "output_type": "execute_result"
    }
   ],
   "source": [
    "df_y.isnull().sum()"
   ]
  },
  {
   "cell_type": "markdown",
   "id": "22f50afc",
   "metadata": {
    "papermill": {
     "duration": 0.086108,
     "end_time": "2022-04-23T06:31:16.822846",
     "exception": false,
     "start_time": "2022-04-23T06:31:16.736738",
     "status": "completed"
    },
    "tags": []
   },
   "source": [
    "#### Due to nan values we have to remove some data .but in reality you can collect this data easily"
   ]
  },
  {
   "cell_type": "code",
   "execution_count": 58,
   "id": "e84be971",
   "metadata": {
    "execution": {
     "iopub.execute_input": "2022-04-23T06:31:16.993931Z",
     "iopub.status.busy": "2022-04-23T06:31:16.993688Z",
     "iopub.status.idle": "2022-04-23T06:31:17.002847Z",
     "shell.execute_reply": "2022-04-23T06:31:17.002334Z"
    },
    "papermill": {
     "duration": 0.0967,
     "end_time": "2022-04-23T06:31:17.004424",
     "exception": false,
     "start_time": "2022-04-23T06:31:16.907724",
     "status": "completed"
    },
    "tags": []
   },
   "outputs": [
    {
     "data": {
      "text/plain": [
       "youtuber name         0\n",
       "channel name          0\n",
       "Category            215\n",
       "Followers             0\n",
       "Audience Country      0\n",
       "avg views             0\n",
       "avg likes             0\n",
       "avg comments          0\n",
       "dtype: int64"
      ]
     },
     "execution_count": 58,
     "metadata": {},
     "output_type": "execute_result"
    }
   ],
   "source": [
    "df_y.dropna(axis=0,how='any',subset=['avg likes','avg comments']).isnull().sum()"
   ]
  },
  {
   "cell_type": "code",
   "execution_count": null,
   "id": "2af86248",
   "metadata": {
    "papermill": {
     "duration": 0.087651,
     "end_time": "2022-04-23T06:31:17.179469",
     "exception": false,
     "start_time": "2022-04-23T06:31:17.091818",
     "status": "completed"
    },
    "tags": []
   },
   "outputs": [],
   "source": []
  },
  {
   "cell_type": "code",
   "execution_count": 59,
   "id": "4322450a",
   "metadata": {
    "execution": {
     "iopub.execute_input": "2022-04-23T06:31:17.353449Z",
     "iopub.status.busy": "2022-04-23T06:31:17.352949Z",
     "iopub.status.idle": "2022-04-23T06:31:17.358626Z",
     "shell.execute_reply": "2022-04-23T06:31:17.358052Z"
    },
    "papermill": {
     "duration": 0.094193,
     "end_time": "2022-04-23T06:31:17.360446",
     "exception": false,
     "start_time": "2022-04-23T06:31:17.266253",
     "status": "completed"
    },
    "tags": []
   },
   "outputs": [],
   "source": [
    "df_y.dropna(axis=0,how='any',subset=['avg likes','avg comments'],inplace=True)"
   ]
  },
  {
   "cell_type": "code",
   "execution_count": 60,
   "id": "6107e5fe",
   "metadata": {
    "execution": {
     "iopub.execute_input": "2022-04-23T06:31:17.533124Z",
     "iopub.status.busy": "2022-04-23T06:31:17.532655Z",
     "iopub.status.idle": "2022-04-23T06:31:17.565955Z",
     "shell.execute_reply": "2022-04-23T06:31:17.565412Z"
    },
    "papermill": {
     "duration": 0.121844,
     "end_time": "2022-04-23T06:31:17.567853",
     "exception": false,
     "start_time": "2022-04-23T06:31:17.446009",
     "status": "completed"
    },
    "tags": []
   },
   "outputs": [
    {
     "data": {
      "text/html": [
       "<div>\n",
       "<style scoped>\n",
       "    .dataframe tbody tr th:only-of-type {\n",
       "        vertical-align: middle;\n",
       "    }\n",
       "\n",
       "    .dataframe tbody tr th {\n",
       "        vertical-align: top;\n",
       "    }\n",
       "\n",
       "    .dataframe thead th {\n",
       "        text-align: right;\n",
       "    }\n",
       "</style>\n",
       "<table border=\"1\" class=\"dataframe\">\n",
       "  <thead>\n",
       "    <tr style=\"text-align: right;\">\n",
       "      <th></th>\n",
       "      <th>youtuber name</th>\n",
       "      <th>channel name</th>\n",
       "      <th>Category</th>\n",
       "      <th>Followers</th>\n",
       "      <th>Audience Country</th>\n",
       "      <th>avg views</th>\n",
       "      <th>avg likes</th>\n",
       "      <th>avg comments</th>\n",
       "      <th>newFollowers</th>\n",
       "      <th>newavg views</th>\n",
       "      <th>newavg likes</th>\n",
       "      <th>newavg comments</th>\n",
       "    </tr>\n",
       "  </thead>\n",
       "  <tbody>\n",
       "    <tr>\n",
       "      <th>0</th>\n",
       "      <td>tseries</td>\n",
       "      <td>T-Series</td>\n",
       "      <td>Music &amp; Dance</td>\n",
       "      <td>212.1M</td>\n",
       "      <td>India</td>\n",
       "      <td>323.7K</td>\n",
       "      <td>9.8K</td>\n",
       "      <td>290</td>\n",
       "      <td>212100000.0</td>\n",
       "      <td>323700.0</td>\n",
       "      <td>9800.0</td>\n",
       "      <td>290.0</td>\n",
       "    </tr>\n",
       "    <tr>\n",
       "      <th>2</th>\n",
       "      <td>setindia</td>\n",
       "      <td>SET India</td>\n",
       "      <td>NaN</td>\n",
       "      <td>130.4M</td>\n",
       "      <td>India</td>\n",
       "      <td>23.6K</td>\n",
       "      <td>314</td>\n",
       "      <td>21</td>\n",
       "      <td>130400000.0</td>\n",
       "      <td>23600.0</td>\n",
       "      <td>314.0</td>\n",
       "      <td>21.0</td>\n",
       "    </tr>\n",
       "    <tr>\n",
       "      <th>3</th>\n",
       "      <td>PewDiePie</td>\n",
       "      <td>PewDiePie</td>\n",
       "      <td>Animation</td>\n",
       "      <td>111.4M</td>\n",
       "      <td>United States</td>\n",
       "      <td>1.4M</td>\n",
       "      <td>80.8K</td>\n",
       "      <td>4.6K</td>\n",
       "      <td>111400000.0</td>\n",
       "      <td>1400000.0</td>\n",
       "      <td>80800.0</td>\n",
       "      <td>4600.0</td>\n",
       "    </tr>\n",
       "    <tr>\n",
       "      <th>4</th>\n",
       "      <td>MrBeast6000</td>\n",
       "      <td>MrBeast</td>\n",
       "      <td>Video games</td>\n",
       "      <td>92.5M</td>\n",
       "      <td>United States</td>\n",
       "      <td>30.6M</td>\n",
       "      <td>1.7M</td>\n",
       "      <td>67.7K</td>\n",
       "      <td>92500000.0</td>\n",
       "      <td>30600000.0</td>\n",
       "      <td>1700000.0</td>\n",
       "      <td>67700.0</td>\n",
       "    </tr>\n",
       "    <tr>\n",
       "      <th>7</th>\n",
       "      <td>WWEFanNation</td>\n",
       "      <td>WWE</td>\n",
       "      <td>Video games</td>\n",
       "      <td>86.9M</td>\n",
       "      <td>United States</td>\n",
       "      <td>76.6K</td>\n",
       "      <td>2.8K</td>\n",
       "      <td>163</td>\n",
       "      <td>86900000.0</td>\n",
       "      <td>76600.0</td>\n",
       "      <td>2800.0</td>\n",
       "      <td>163.0</td>\n",
       "    </tr>\n",
       "    <tr>\n",
       "      <th>...</th>\n",
       "      <td>...</td>\n",
       "      <td>...</td>\n",
       "      <td>...</td>\n",
       "      <td>...</td>\n",
       "      <td>...</td>\n",
       "      <td>...</td>\n",
       "      <td>...</td>\n",
       "      <td>...</td>\n",
       "      <td>...</td>\n",
       "      <td>...</td>\n",
       "      <td>...</td>\n",
       "      <td>...</td>\n",
       "    </tr>\n",
       "    <tr>\n",
       "      <th>995</th>\n",
       "      <td>FutParódias</td>\n",
       "      <td>FutParódias</td>\n",
       "      <td>Music &amp; Dance</td>\n",
       "      <td>9.2M</td>\n",
       "      <td>Brazil</td>\n",
       "      <td>1.4M</td>\n",
       "      <td>110.1K</td>\n",
       "      <td>2.5K</td>\n",
       "      <td>9200000.0</td>\n",
       "      <td>1400000.0</td>\n",
       "      <td>110100.0</td>\n",
       "      <td>2500.0</td>\n",
       "    </tr>\n",
       "    <tr>\n",
       "      <th>996</th>\n",
       "      <td>EL GATO</td>\n",
       "      <td>EL GATO</td>\n",
       "      <td>Toys</td>\n",
       "      <td>9.2M</td>\n",
       "      <td>Brazil</td>\n",
       "      <td>243.8K</td>\n",
       "      <td>30.7K</td>\n",
       "      <td>636</td>\n",
       "      <td>9200000.0</td>\n",
       "      <td>243800.0</td>\n",
       "      <td>30700.0</td>\n",
       "      <td>636.0</td>\n",
       "    </tr>\n",
       "    <tr>\n",
       "      <th>997</th>\n",
       "      <td>CinemaSins</td>\n",
       "      <td>CinemaSins</td>\n",
       "      <td>Movies</td>\n",
       "      <td>9.2M</td>\n",
       "      <td>United States</td>\n",
       "      <td>296K</td>\n",
       "      <td>10.2K</td>\n",
       "      <td>874</td>\n",
       "      <td>9200000.0</td>\n",
       "      <td>296000.0</td>\n",
       "      <td>10200.0</td>\n",
       "      <td>874.0</td>\n",
       "    </tr>\n",
       "    <tr>\n",
       "      <th>998</th>\n",
       "      <td>CricketICC</td>\n",
       "      <td>ICC</td>\n",
       "      <td>Sports</td>\n",
       "      <td>9.2M</td>\n",
       "      <td>India</td>\n",
       "      <td>15.2K</td>\n",
       "      <td>854</td>\n",
       "      <td>58</td>\n",
       "      <td>9200000.0</td>\n",
       "      <td>15200.0</td>\n",
       "      <td>854.0</td>\n",
       "      <td>58.0</td>\n",
       "    </tr>\n",
       "    <tr>\n",
       "      <th>999</th>\n",
       "      <td>BRKsEDU</td>\n",
       "      <td>BRKsEDU</td>\n",
       "      <td>Animation</td>\n",
       "      <td>9.2M</td>\n",
       "      <td>Brazil</td>\n",
       "      <td>112.3K</td>\n",
       "      <td>9.8K</td>\n",
       "      <td>246</td>\n",
       "      <td>9200000.0</td>\n",
       "      <td>112300.0</td>\n",
       "      <td>9800.0</td>\n",
       "      <td>246.0</td>\n",
       "    </tr>\n",
       "  </tbody>\n",
       "</table>\n",
       "<p>786 rows × 12 columns</p>\n",
       "</div>"
      ],
      "text/plain": [
       "    youtuber name channel name       Category Followers Audience Country  \\\n",
       "0         tseries     T-Series  Music & Dance    212.1M            India   \n",
       "2        setindia    SET India            NaN    130.4M            India   \n",
       "3       PewDiePie    PewDiePie      Animation    111.4M    United States   \n",
       "4     MrBeast6000      MrBeast    Video games     92.5M    United States   \n",
       "7    WWEFanNation          WWE    Video games     86.9M    United States   \n",
       "..            ...          ...            ...       ...              ...   \n",
       "995   FutParódias  FutParódias  Music & Dance      9.2M           Brazil   \n",
       "996       EL GATO      EL GATO           Toys      9.2M           Brazil   \n",
       "997    CinemaSins   CinemaSins         Movies      9.2M    United States   \n",
       "998    CricketICC          ICC         Sports      9.2M            India   \n",
       "999       BRKsEDU      BRKsEDU      Animation      9.2M           Brazil   \n",
       "\n",
       "    avg views avg likes avg comments  newFollowers  newavg views  \\\n",
       "0      323.7K      9.8K          290   212100000.0      323700.0   \n",
       "2       23.6K       314           21   130400000.0       23600.0   \n",
       "3        1.4M     80.8K         4.6K   111400000.0     1400000.0   \n",
       "4       30.6M      1.7M        67.7K    92500000.0    30600000.0   \n",
       "7       76.6K      2.8K          163    86900000.0       76600.0   \n",
       "..        ...       ...          ...           ...           ...   \n",
       "995      1.4M    110.1K         2.5K     9200000.0     1400000.0   \n",
       "996    243.8K     30.7K          636     9200000.0      243800.0   \n",
       "997      296K     10.2K          874     9200000.0      296000.0   \n",
       "998     15.2K       854           58     9200000.0       15200.0   \n",
       "999    112.3K      9.8K          246     9200000.0      112300.0   \n",
       "\n",
       "     newavg likes  newavg comments  \n",
       "0          9800.0            290.0  \n",
       "2           314.0             21.0  \n",
       "3         80800.0           4600.0  \n",
       "4       1700000.0          67700.0  \n",
       "7          2800.0            163.0  \n",
       "..            ...              ...  \n",
       "995      110100.0           2500.0  \n",
       "996       30700.0            636.0  \n",
       "997       10200.0            874.0  \n",
       "998         854.0             58.0  \n",
       "999        9800.0            246.0  \n",
       "\n",
       "[786 rows x 12 columns]"
      ]
     },
     "execution_count": 60,
     "metadata": {},
     "output_type": "execute_result"
    }
   ],
   "source": [
    "change(df_y,ly)"
   ]
  },
  {
   "cell_type": "code",
   "execution_count": 61,
   "id": "44510272",
   "metadata": {
    "execution": {
     "iopub.execute_input": "2022-04-23T06:31:17.742745Z",
     "iopub.status.busy": "2022-04-23T06:31:17.741887Z",
     "iopub.status.idle": "2022-04-23T06:31:17.745828Z",
     "shell.execute_reply": "2022-04-23T06:31:17.745267Z"
    },
    "papermill": {
     "duration": 0.092681,
     "end_time": "2022-04-23T06:31:17.747588",
     "exception": false,
     "start_time": "2022-04-23T06:31:17.654907",
     "status": "completed"
    },
    "tags": []
   },
   "outputs": [],
   "source": [
    "#df_y[df_y['Audience Country']=='Spain']['Category'].value_counts()"
   ]
  },
  {
   "cell_type": "code",
   "execution_count": 62,
   "id": "15842a8c",
   "metadata": {
    "execution": {
     "iopub.execute_input": "2022-04-23T06:31:17.922315Z",
     "iopub.status.busy": "2022-04-23T06:31:17.921567Z",
     "iopub.status.idle": "2022-04-23T06:31:17.925804Z",
     "shell.execute_reply": "2022-04-23T06:31:17.925137Z"
    },
    "papermill": {
     "duration": 0.093659,
     "end_time": "2022-04-23T06:31:17.927821",
     "exception": false,
     "start_time": "2022-04-23T06:31:17.834162",
     "status": "completed"
    },
    "tags": []
   },
   "outputs": [],
   "source": [
    "#df_y[df_y['Audience Country']=='Brazil'].groupby('Category').get_group('Animation')"
   ]
  },
  {
   "cell_type": "code",
   "execution_count": 63,
   "id": "3af725cc",
   "metadata": {
    "execution": {
     "iopub.execute_input": "2022-04-23T06:31:18.103918Z",
     "iopub.status.busy": "2022-04-23T06:31:18.102936Z",
     "iopub.status.idle": "2022-04-23T06:31:18.109209Z",
     "shell.execute_reply": "2022-04-23T06:31:18.108541Z"
    },
    "papermill": {
     "duration": 0.095889,
     "end_time": "2022-04-23T06:31:18.111209",
     "exception": false,
     "start_time": "2022-04-23T06:31:18.015320",
     "status": "completed"
    },
    "tags": []
   },
   "outputs": [],
   "source": [
    "df_y['Engagement rate']=round(((df_y['newavg comments']+df_y['newavg likes']+df_y['newavg views'])/df_y['newFollowers'])*100,3)"
   ]
  },
  {
   "cell_type": "code",
   "execution_count": 64,
   "id": "fae6d465",
   "metadata": {
    "execution": {
     "iopub.execute_input": "2022-04-23T06:31:18.285006Z",
     "iopub.status.busy": "2022-04-23T06:31:18.284502Z",
     "iopub.status.idle": "2022-04-23T06:31:18.299642Z",
     "shell.execute_reply": "2022-04-23T06:31:18.298848Z"
    },
    "papermill": {
     "duration": 0.104935,
     "end_time": "2022-04-23T06:31:18.302095",
     "exception": false,
     "start_time": "2022-04-23T06:31:18.197160",
     "status": "completed"
    },
    "tags": []
   },
   "outputs": [
    {
     "data": {
      "text/html": [
       "<div>\n",
       "<style scoped>\n",
       "    .dataframe tbody tr th:only-of-type {\n",
       "        vertical-align: middle;\n",
       "    }\n",
       "\n",
       "    .dataframe tbody tr th {\n",
       "        vertical-align: top;\n",
       "    }\n",
       "\n",
       "    .dataframe thead th {\n",
       "        text-align: right;\n",
       "    }\n",
       "</style>\n",
       "<table border=\"1\" class=\"dataframe\">\n",
       "  <thead>\n",
       "    <tr style=\"text-align: right;\">\n",
       "      <th></th>\n",
       "      <th>youtuber name</th>\n",
       "      <th>channel name</th>\n",
       "      <th>Category</th>\n",
       "      <th>Followers</th>\n",
       "      <th>Audience Country</th>\n",
       "      <th>avg views</th>\n",
       "      <th>avg likes</th>\n",
       "      <th>avg comments</th>\n",
       "      <th>newFollowers</th>\n",
       "      <th>newavg views</th>\n",
       "      <th>newavg likes</th>\n",
       "      <th>newavg comments</th>\n",
       "      <th>Engagement rate</th>\n",
       "    </tr>\n",
       "  </thead>\n",
       "  <tbody>\n",
       "    <tr>\n",
       "      <th>0</th>\n",
       "      <td>tseries</td>\n",
       "      <td>T-Series</td>\n",
       "      <td>Music &amp; Dance</td>\n",
       "      <td>212.1M</td>\n",
       "      <td>India</td>\n",
       "      <td>323.7K</td>\n",
       "      <td>9.8K</td>\n",
       "      <td>290</td>\n",
       "      <td>212100000.0</td>\n",
       "      <td>323700.0</td>\n",
       "      <td>9800.0</td>\n",
       "      <td>290.0</td>\n",
       "      <td>0.157</td>\n",
       "    </tr>\n",
       "    <tr>\n",
       "      <th>2</th>\n",
       "      <td>setindia</td>\n",
       "      <td>SET India</td>\n",
       "      <td>NaN</td>\n",
       "      <td>130.4M</td>\n",
       "      <td>India</td>\n",
       "      <td>23.6K</td>\n",
       "      <td>314</td>\n",
       "      <td>21</td>\n",
       "      <td>130400000.0</td>\n",
       "      <td>23600.0</td>\n",
       "      <td>314.0</td>\n",
       "      <td>21.0</td>\n",
       "      <td>0.018</td>\n",
       "    </tr>\n",
       "  </tbody>\n",
       "</table>\n",
       "</div>"
      ],
      "text/plain": [
       "  youtuber name channel name       Category Followers Audience Country  \\\n",
       "0       tseries     T-Series  Music & Dance    212.1M            India   \n",
       "2      setindia    SET India            NaN    130.4M            India   \n",
       "\n",
       "  avg views avg likes avg comments  newFollowers  newavg views  newavg likes  \\\n",
       "0    323.7K      9.8K          290   212100000.0      323700.0        9800.0   \n",
       "2     23.6K       314           21   130400000.0       23600.0         314.0   \n",
       "\n",
       "   newavg comments  Engagement rate  \n",
       "0            290.0            0.157  \n",
       "2             21.0            0.018  "
      ]
     },
     "execution_count": 64,
     "metadata": {},
     "output_type": "execute_result"
    }
   ],
   "source": [
    "df_y.head(2)"
   ]
  },
  {
   "cell_type": "code",
   "execution_count": 65,
   "id": "942e9687",
   "metadata": {
    "execution": {
     "iopub.execute_input": "2022-04-23T06:31:18.481277Z",
     "iopub.status.busy": "2022-04-23T06:31:18.480769Z",
     "iopub.status.idle": "2022-04-23T06:31:18.486630Z",
     "shell.execute_reply": "2022-04-23T06:31:18.485966Z"
    },
    "papermill": {
     "duration": 0.097876,
     "end_time": "2022-04-23T06:31:18.488437",
     "exception": false,
     "start_time": "2022-04-23T06:31:18.390561",
     "status": "completed"
    },
    "tags": []
   },
   "outputs": [
    {
     "data": {
      "text/plain": [
       "Index(['youtuber name', 'channel name', 'Category', 'Followers',\n",
       "       'Audience Country', 'avg views', 'avg likes', 'avg comments',\n",
       "       'newFollowers', 'newavg views', 'newavg likes', 'newavg comments',\n",
       "       'Engagement rate'],\n",
       "      dtype='object')"
      ]
     },
     "execution_count": 65,
     "metadata": {},
     "output_type": "execute_result"
    }
   ],
   "source": [
    "df_y.columns"
   ]
  },
  {
   "cell_type": "code",
   "execution_count": 66,
   "id": "0ba39222",
   "metadata": {
    "execution": {
     "iopub.execute_input": "2022-04-23T06:31:18.662920Z",
     "iopub.status.busy": "2022-04-23T06:31:18.662383Z",
     "iopub.status.idle": "2022-04-23T06:31:18.667016Z",
     "shell.execute_reply": "2022-04-23T06:31:18.666385Z"
    },
    "papermill": {
     "duration": 0.094566,
     "end_time": "2022-04-23T06:31:18.669035",
     "exception": false,
     "start_time": "2022-04-23T06:31:18.574469",
     "status": "completed"
    },
    "tags": []
   },
   "outputs": [],
   "source": [
    "# for convenince\n",
    "df_y['newFollowers']=df_y['newFollowers']/1000000"
   ]
  },
  {
   "cell_type": "code",
   "execution_count": 67,
   "id": "742260c0",
   "metadata": {
    "execution": {
     "iopub.execute_input": "2022-04-23T06:31:18.850536Z",
     "iopub.status.busy": "2022-04-23T06:31:18.850024Z",
     "iopub.status.idle": "2022-04-23T06:31:18.854703Z",
     "shell.execute_reply": "2022-04-23T06:31:18.854142Z"
    },
    "papermill": {
     "duration": 0.101091,
     "end_time": "2022-04-23T06:31:18.856489",
     "exception": false,
     "start_time": "2022-04-23T06:31:18.755398",
     "status": "completed"
    },
    "tags": []
   },
   "outputs": [],
   "source": [
    "df_y.drop(labels=['avg views', 'avg likes', 'avg comments','newavg views', 'newavg likes', 'newavg comments',\n",
    "       ],axis=1,inplace=True)"
   ]
  },
  {
   "cell_type": "code",
   "execution_count": 68,
   "id": "66029d68",
   "metadata": {
    "execution": {
     "iopub.execute_input": "2022-04-23T06:31:19.030264Z",
     "iopub.status.busy": "2022-04-23T06:31:19.029767Z",
     "iopub.status.idle": "2022-04-23T06:31:19.037944Z",
     "shell.execute_reply": "2022-04-23T06:31:19.037168Z"
    },
    "papermill": {
     "duration": 0.097327,
     "end_time": "2022-04-23T06:31:19.039867",
     "exception": false,
     "start_time": "2022-04-23T06:31:18.942540",
     "status": "completed"
    },
    "tags": []
   },
   "outputs": [
    {
     "data": {
      "text/plain": [
       "count    786.000000\n",
       "mean      17.016921\n",
       "std       13.593720\n",
       "min        9.200000\n",
       "25%       10.700000\n",
       "50%       13.000000\n",
       "75%       17.600000\n",
       "max      212.100000\n",
       "Name: newFollowers, dtype: float64"
      ]
     },
     "execution_count": 68,
     "metadata": {},
     "output_type": "execute_result"
    }
   ],
   "source": [
    "df_y['newFollowers'].describe()"
   ]
  },
  {
   "cell_type": "code",
   "execution_count": 69,
   "id": "8642ccc8",
   "metadata": {
    "execution": {
     "iopub.execute_input": "2022-04-23T06:31:19.215012Z",
     "iopub.status.busy": "2022-04-23T06:31:19.214507Z",
     "iopub.status.idle": "2022-04-23T06:31:19.220506Z",
     "shell.execute_reply": "2022-04-23T06:31:19.219891Z"
    },
    "papermill": {
     "duration": 0.095481,
     "end_time": "2022-04-23T06:31:19.222309",
     "exception": false,
     "start_time": "2022-04-23T06:31:19.126828",
     "status": "completed"
    },
    "tags": []
   },
   "outputs": [
    {
     "data": {
      "text/plain": [
       "28.25"
      ]
     },
     "execution_count": 69,
     "metadata": {},
     "output_type": "execute_result"
    }
   ],
   "source": [
    "df_y['newFollowers'].quantile(0.90)"
   ]
  },
  {
   "cell_type": "markdown",
   "id": "a664bb66",
   "metadata": {
    "papermill": {
     "duration": 0.092639,
     "end_time": "2022-04-23T06:31:19.402203",
     "exception": false,
     "start_time": "2022-04-23T06:31:19.309564",
     "status": "completed"
    },
    "tags": []
   },
   "source": [
    "### Threshold can be decided by your choice \n",
    "#### here i am cosidering that who have >30M subscribers that is coming the category of mega celebrity"
   ]
  },
  {
   "cell_type": "code",
   "execution_count": 70,
   "id": "1e51ec91",
   "metadata": {
    "execution": {
     "iopub.execute_input": "2022-04-23T06:31:19.576038Z",
     "iopub.status.busy": "2022-04-23T06:31:19.575561Z",
     "iopub.status.idle": "2022-04-23T06:31:19.585731Z",
     "shell.execute_reply": "2022-04-23T06:31:19.585158Z"
    },
    "papermill": {
     "duration": 0.098998,
     "end_time": "2022-04-23T06:31:19.587484",
     "exception": false,
     "start_time": "2022-04-23T06:31:19.488486",
     "status": "completed"
    },
    "tags": []
   },
   "outputs": [
    {
     "data": {
      "text/html": [
       "<div>\n",
       "<style scoped>\n",
       "    .dataframe tbody tr th:only-of-type {\n",
       "        vertical-align: middle;\n",
       "    }\n",
       "\n",
       "    .dataframe tbody tr th {\n",
       "        vertical-align: top;\n",
       "    }\n",
       "\n",
       "    .dataframe thead th {\n",
       "        text-align: right;\n",
       "    }\n",
       "</style>\n",
       "<table border=\"1\" class=\"dataframe\">\n",
       "  <thead>\n",
       "    <tr style=\"text-align: right;\">\n",
       "      <th></th>\n",
       "      <th>youtuber name</th>\n",
       "      <th>channel name</th>\n",
       "      <th>Category</th>\n",
       "      <th>Followers</th>\n",
       "      <th>Audience Country</th>\n",
       "      <th>newFollowers</th>\n",
       "      <th>Engagement rate</th>\n",
       "    </tr>\n",
       "  </thead>\n",
       "  <tbody>\n",
       "    <tr>\n",
       "      <th>0</th>\n",
       "      <td>tseries</td>\n",
       "      <td>T-Series</td>\n",
       "      <td>Music &amp; Dance</td>\n",
       "      <td>212.1M</td>\n",
       "      <td>India</td>\n",
       "      <td>212.1</td>\n",
       "      <td>0.157</td>\n",
       "    </tr>\n",
       "  </tbody>\n",
       "</table>\n",
       "</div>"
      ],
      "text/plain": [
       "  youtuber name channel name       Category Followers Audience Country  \\\n",
       "0       tseries     T-Series  Music & Dance    212.1M            India   \n",
       "\n",
       "   newFollowers  Engagement rate  \n",
       "0         212.1            0.157  "
      ]
     },
     "execution_count": 70,
     "metadata": {},
     "output_type": "execute_result"
    }
   ],
   "source": [
    "df_y.head(1)"
   ]
  },
  {
   "cell_type": "code",
   "execution_count": 71,
   "id": "effed653",
   "metadata": {
    "execution": {
     "iopub.execute_input": "2022-04-23T06:31:19.763811Z",
     "iopub.status.busy": "2022-04-23T06:31:19.763343Z",
     "iopub.status.idle": "2022-04-23T06:31:19.767503Z",
     "shell.execute_reply": "2022-04-23T06:31:19.766997Z"
    },
    "papermill": {
     "duration": 0.093844,
     "end_time": "2022-04-23T06:31:19.769188",
     "exception": false,
     "start_time": "2022-04-23T06:31:19.675344",
     "status": "completed"
    },
    "tags": []
   },
   "outputs": [],
   "source": [
    "def for_mini_followers_youtube(coun,cat):\n",
    "    df1=df_y[df_y['Audience Country']==coun]\n",
    "    df1_mini=df1[df1['newFollowers']<=30]\n",
    "    return df1_mini.sort_values(by='Engagement rate',ascending=False).groupby('Category').get_group(cat).iloc[:,[0,3,-1]]\n",
    "    \n",
    "    "
   ]
  },
  {
   "cell_type": "code",
   "execution_count": 72,
   "id": "37192d77",
   "metadata": {
    "execution": {
     "iopub.execute_input": "2022-04-23T06:31:19.951089Z",
     "iopub.status.busy": "2022-04-23T06:31:19.950582Z",
     "iopub.status.idle": "2022-04-23T06:31:19.953517Z",
     "shell.execute_reply": "2022-04-23T06:31:19.952990Z"
    },
    "papermill": {
     "duration": 0.096017,
     "end_time": "2022-04-23T06:31:19.955222",
     "exception": false,
     "start_time": "2022-04-23T06:31:19.859205",
     "status": "completed"
    },
    "tags": []
   },
   "outputs": [],
   "source": [
    "# df_y.groupby('Category')['Audience Country'].first()"
   ]
  },
  {
   "cell_type": "code",
   "execution_count": 73,
   "id": "d93b7193",
   "metadata": {
    "execution": {
     "iopub.execute_input": "2022-04-23T06:31:20.133810Z",
     "iopub.status.busy": "2022-04-23T06:31:20.133316Z",
     "iopub.status.idle": "2022-04-23T06:31:20.149648Z",
     "shell.execute_reply": "2022-04-23T06:31:20.149067Z"
    },
    "papermill": {
     "duration": 0.108001,
     "end_time": "2022-04-23T06:31:20.151316",
     "exception": false,
     "start_time": "2022-04-23T06:31:20.043315",
     "status": "completed"
    },
    "tags": []
   },
   "outputs": [
    {
     "data": {
      "text/html": [
       "<div>\n",
       "<style scoped>\n",
       "    .dataframe tbody tr th:only-of-type {\n",
       "        vertical-align: middle;\n",
       "    }\n",
       "\n",
       "    .dataframe tbody tr th {\n",
       "        vertical-align: top;\n",
       "    }\n",
       "\n",
       "    .dataframe thead th {\n",
       "        text-align: right;\n",
       "    }\n",
       "</style>\n",
       "<table border=\"1\" class=\"dataframe\">\n",
       "  <thead>\n",
       "    <tr style=\"text-align: right;\">\n",
       "      <th></th>\n",
       "      <th>youtuber name</th>\n",
       "      <th>Followers</th>\n",
       "      <th>Engagement rate</th>\n",
       "    </tr>\n",
       "  </thead>\n",
       "  <tbody>\n",
       "    <tr>\n",
       "      <th>860</th>\n",
       "      <td>Juice WRLD</td>\n",
       "      <td>10M</td>\n",
       "      <td>79.277</td>\n",
       "    </tr>\n",
       "    <tr>\n",
       "      <th>914</th>\n",
       "      <td>Prince Royce</td>\n",
       "      <td>9.6M</td>\n",
       "      <td>74.629</td>\n",
       "    </tr>\n",
       "    <tr>\n",
       "      <th>717</th>\n",
       "      <td>YoungBoy Never Broke Again</td>\n",
       "      <td>10.9M</td>\n",
       "      <td>72.458</td>\n",
       "    </tr>\n",
       "    <tr>\n",
       "      <th>861</th>\n",
       "      <td>jordanmatter</td>\n",
       "      <td>10M</td>\n",
       "      <td>50.495</td>\n",
       "    </tr>\n",
       "    <tr>\n",
       "      <th>607</th>\n",
       "      <td>Migosatl</td>\n",
       "      <td>11.9M</td>\n",
       "      <td>28.876</td>\n",
       "    </tr>\n",
       "    <tr>\n",
       "      <th>625</th>\n",
       "      <td>AvrilLavigne</td>\n",
       "      <td>11.7M</td>\n",
       "      <td>25.102</td>\n",
       "    </tr>\n",
       "    <tr>\n",
       "      <th>656</th>\n",
       "      <td>Davie504</td>\n",
       "      <td>11.5M</td>\n",
       "      <td>19.094</td>\n",
       "    </tr>\n",
       "    <tr>\n",
       "      <th>711</th>\n",
       "      <td>YMWayneCarter</td>\n",
       "      <td>11.1M</td>\n",
       "      <td>18.963</td>\n",
       "    </tr>\n",
       "    <tr>\n",
       "      <th>535</th>\n",
       "      <td>twentyonepilots</td>\n",
       "      <td>12.7M</td>\n",
       "      <td>14.654</td>\n",
       "    </tr>\n",
       "    <tr>\n",
       "      <th>146</th>\n",
       "      <td>jypentertainment</td>\n",
       "      <td>24.2M</td>\n",
       "      <td>11.461</td>\n",
       "    </tr>\n",
       "    <tr>\n",
       "      <th>942</th>\n",
       "      <td>DaBaby</td>\n",
       "      <td>9.5M</td>\n",
       "      <td>10.675</td>\n",
       "    </tr>\n",
       "    <tr>\n",
       "      <th>104</th>\n",
       "      <td>DisneyMusicVEVO</td>\n",
       "      <td>28.5M</td>\n",
       "      <td>9.001</td>\n",
       "    </tr>\n",
       "    <tr>\n",
       "      <th>110</th>\n",
       "      <td>ImagineDragons</td>\n",
       "      <td>27.5M</td>\n",
       "      <td>6.180</td>\n",
       "    </tr>\n",
       "    <tr>\n",
       "      <th>802</th>\n",
       "      <td>Cris Devil Gamer</td>\n",
       "      <td>10.3M</td>\n",
       "      <td>4.671</td>\n",
       "    </tr>\n",
       "    <tr>\n",
       "      <th>414</th>\n",
       "      <td>MattyBRaps</td>\n",
       "      <td>14.5M</td>\n",
       "      <td>3.593</td>\n",
       "    </tr>\n",
       "    <tr>\n",
       "      <th>959</th>\n",
       "      <td>The Voice Global</td>\n",
       "      <td>9.4M</td>\n",
       "      <td>3.457</td>\n",
       "    </tr>\n",
       "    <tr>\n",
       "      <th>291</th>\n",
       "      <td>farrukotv</td>\n",
       "      <td>17.3M</td>\n",
       "      <td>2.984</td>\n",
       "    </tr>\n",
       "    <tr>\n",
       "      <th>225</th>\n",
       "      <td>CharliesVlogs</td>\n",
       "      <td>19.2M</td>\n",
       "      <td>2.602</td>\n",
       "    </tr>\n",
       "    <tr>\n",
       "      <th>534</th>\n",
       "      <td>skillzaisherebooya</td>\n",
       "      <td>12.7M</td>\n",
       "      <td>2.581</td>\n",
       "    </tr>\n",
       "    <tr>\n",
       "      <th>678</th>\n",
       "      <td>MTV2</td>\n",
       "      <td>11.3M</td>\n",
       "      <td>1.999</td>\n",
       "    </tr>\n",
       "    <tr>\n",
       "      <th>108</th>\n",
       "      <td>xoxxxoooxo</td>\n",
       "      <td>27.7M</td>\n",
       "      <td>1.379</td>\n",
       "    </tr>\n",
       "    <tr>\n",
       "      <th>986</th>\n",
       "      <td>Soothing Relaxation</td>\n",
       "      <td>9.2M</td>\n",
       "      <td>1.263</td>\n",
       "    </tr>\n",
       "    <tr>\n",
       "      <th>364</th>\n",
       "      <td>monstafluffmusicTV</td>\n",
       "      <td>15.3M</td>\n",
       "      <td>1.232</td>\n",
       "    </tr>\n",
       "    <tr>\n",
       "      <th>522</th>\n",
       "      <td>MattSDance</td>\n",
       "      <td>12.9M</td>\n",
       "      <td>1.026</td>\n",
       "    </tr>\n",
       "    <tr>\n",
       "      <th>813</th>\n",
       "      <td>Lofi Girl</td>\n",
       "      <td>10.3M</td>\n",
       "      <td>0.979</td>\n",
       "    </tr>\n",
       "    <tr>\n",
       "      <th>520</th>\n",
       "      <td>50CentMusic</td>\n",
       "      <td>12.9M</td>\n",
       "      <td>0.829</td>\n",
       "    </tr>\n",
       "    <tr>\n",
       "      <th>347</th>\n",
       "      <td>queenofficial</td>\n",
       "      <td>15.7M</td>\n",
       "      <td>0.815</td>\n",
       "    </tr>\n",
       "    <tr>\n",
       "      <th>366</th>\n",
       "      <td>Camila Cabello</td>\n",
       "      <td>15.3M</td>\n",
       "      <td>0.809</td>\n",
       "    </tr>\n",
       "    <tr>\n",
       "      <th>338</th>\n",
       "      <td>littlemixmusic</td>\n",
       "      <td>15.9M</td>\n",
       "      <td>0.719</td>\n",
       "    </tr>\n",
       "    <tr>\n",
       "      <th>892</th>\n",
       "      <td>Sơn Tùng M-TP Official</td>\n",
       "      <td>9.8M</td>\n",
       "      <td>0.674</td>\n",
       "    </tr>\n",
       "    <tr>\n",
       "      <th>825</th>\n",
       "      <td>cleanbandit</td>\n",
       "      <td>10.1M</td>\n",
       "      <td>0.663</td>\n",
       "    </tr>\n",
       "    <tr>\n",
       "      <th>781</th>\n",
       "      <td>ChillStepNation</td>\n",
       "      <td>10.5M</td>\n",
       "      <td>0.522</td>\n",
       "    </tr>\n",
       "    <tr>\n",
       "      <th>733</th>\n",
       "      <td>RapGeniusVideo</td>\n",
       "      <td>10.9M</td>\n",
       "      <td>0.499</td>\n",
       "    </tr>\n",
       "    <tr>\n",
       "      <th>315</th>\n",
       "      <td>JasonDerulo</td>\n",
       "      <td>16.5M</td>\n",
       "      <td>0.480</td>\n",
       "    </tr>\n",
       "    <tr>\n",
       "      <th>730</th>\n",
       "      <td>TygaTygaTV</td>\n",
       "      <td>10.9M</td>\n",
       "      <td>0.448</td>\n",
       "    </tr>\n",
       "    <tr>\n",
       "      <th>207</th>\n",
       "      <td>VEVO</td>\n",
       "      <td>20M</td>\n",
       "      <td>0.432</td>\n",
       "    </tr>\n",
       "    <tr>\n",
       "      <th>428</th>\n",
       "      <td>MartinGarrix</td>\n",
       "      <td>14.3M</td>\n",
       "      <td>0.431</td>\n",
       "    </tr>\n",
       "    <tr>\n",
       "      <th>934</th>\n",
       "      <td>Talent Recap</td>\n",
       "      <td>9.5M</td>\n",
       "      <td>0.356</td>\n",
       "    </tr>\n",
       "    <tr>\n",
       "      <th>436</th>\n",
       "      <td>OfficialTrapCity</td>\n",
       "      <td>14.1M</td>\n",
       "      <td>0.328</td>\n",
       "    </tr>\n",
       "    <tr>\n",
       "      <th>163</th>\n",
       "      <td>ColdplayVEVO</td>\n",
       "      <td>22.8M</td>\n",
       "      <td>0.321</td>\n",
       "    </tr>\n",
       "    <tr>\n",
       "      <th>218</th>\n",
       "      <td>BeckyGOfficial</td>\n",
       "      <td>19.8M</td>\n",
       "      <td>0.316</td>\n",
       "    </tr>\n",
       "    <tr>\n",
       "      <th>100</th>\n",
       "      <td>latenight</td>\n",
       "      <td>29.3M</td>\n",
       "      <td>0.311</td>\n",
       "    </tr>\n",
       "    <tr>\n",
       "      <th>126</th>\n",
       "      <td>WorldStarHipHopTV</td>\n",
       "      <td>25.8M</td>\n",
       "      <td>0.292</td>\n",
       "    </tr>\n",
       "    <tr>\n",
       "      <th>99</th>\n",
       "      <td>SpinninRec</td>\n",
       "      <td>29.5M</td>\n",
       "      <td>0.247</td>\n",
       "    </tr>\n",
       "    <tr>\n",
       "      <th>345</th>\n",
       "      <td>DopeLyrics</td>\n",
       "      <td>15.7M</td>\n",
       "      <td>0.206</td>\n",
       "    </tr>\n",
       "    <tr>\n",
       "      <th>224</th>\n",
       "      <td>Mnet</td>\n",
       "      <td>19.4M</td>\n",
       "      <td>0.174</td>\n",
       "    </tr>\n",
       "    <tr>\n",
       "      <th>907</th>\n",
       "      <td>singkingkaraoke</td>\n",
       "      <td>9.7M</td>\n",
       "      <td>0.113</td>\n",
       "    </tr>\n",
       "    <tr>\n",
       "      <th>105</th>\n",
       "      <td>UltraRecords</td>\n",
       "      <td>28.3M</td>\n",
       "      <td>0.113</td>\n",
       "    </tr>\n",
       "    <tr>\n",
       "      <th>895</th>\n",
       "      <td>OneRepublic</td>\n",
       "      <td>9.7M</td>\n",
       "      <td>0.110</td>\n",
       "    </tr>\n",
       "    <tr>\n",
       "      <th>569</th>\n",
       "      <td>Meghan Trainor</td>\n",
       "      <td>12.3M</td>\n",
       "      <td>0.098</td>\n",
       "    </tr>\n",
       "    <tr>\n",
       "      <th>886</th>\n",
       "      <td>htv2channel</td>\n",
       "      <td>9.8M</td>\n",
       "      <td>0.088</td>\n",
       "    </tr>\n",
       "    <tr>\n",
       "      <th>790</th>\n",
       "      <td>CJENMMUSIC</td>\n",
       "      <td>10.5M</td>\n",
       "      <td>0.087</td>\n",
       "    </tr>\n",
       "    <tr>\n",
       "      <th>960</th>\n",
       "      <td>POPSVIETNAM</td>\n",
       "      <td>9.4M</td>\n",
       "      <td>0.084</td>\n",
       "    </tr>\n",
       "    <tr>\n",
       "      <th>505</th>\n",
       "      <td>AtlanticVideos</td>\n",
       "      <td>13.1M</td>\n",
       "      <td>0.076</td>\n",
       "    </tr>\n",
       "    <tr>\n",
       "      <th>848</th>\n",
       "      <td>MTV</td>\n",
       "      <td>10.1M</td>\n",
       "      <td>0.070</td>\n",
       "    </tr>\n",
       "  </tbody>\n",
       "</table>\n",
       "</div>"
      ],
      "text/plain": [
       "                  youtuber name Followers  Engagement rate\n",
       "860                  Juice WRLD       10M           79.277\n",
       "914                Prince Royce      9.6M           74.629\n",
       "717  YoungBoy Never Broke Again     10.9M           72.458\n",
       "861                jordanmatter       10M           50.495\n",
       "607                    Migosatl     11.9M           28.876\n",
       "625                AvrilLavigne     11.7M           25.102\n",
       "656                    Davie504     11.5M           19.094\n",
       "711               YMWayneCarter     11.1M           18.963\n",
       "535             twentyonepilots     12.7M           14.654\n",
       "146            jypentertainment     24.2M           11.461\n",
       "942                      DaBaby      9.5M           10.675\n",
       "104             DisneyMusicVEVO     28.5M            9.001\n",
       "110              ImagineDragons     27.5M            6.180\n",
       "802            Cris Devil Gamer     10.3M            4.671\n",
       "414                  MattyBRaps     14.5M            3.593\n",
       "959            The Voice Global      9.4M            3.457\n",
       "291                   farrukotv     17.3M            2.984\n",
       "225               CharliesVlogs     19.2M            2.602\n",
       "534          skillzaisherebooya     12.7M            2.581\n",
       "678                        MTV2     11.3M            1.999\n",
       "108                  xoxxxoooxo     27.7M            1.379\n",
       "986         Soothing Relaxation      9.2M            1.263\n",
       "364          monstafluffmusicTV     15.3M            1.232\n",
       "522                  MattSDance     12.9M            1.026\n",
       "813                   Lofi Girl     10.3M            0.979\n",
       "520                 50CentMusic     12.9M            0.829\n",
       "347               queenofficial     15.7M            0.815\n",
       "366              Camila Cabello     15.3M            0.809\n",
       "338              littlemixmusic     15.9M            0.719\n",
       "892      Sơn Tùng M-TP Official      9.8M            0.674\n",
       "825                 cleanbandit     10.1M            0.663\n",
       "781             ChillStepNation     10.5M            0.522\n",
       "733              RapGeniusVideo     10.9M            0.499\n",
       "315                 JasonDerulo     16.5M            0.480\n",
       "730                  TygaTygaTV     10.9M            0.448\n",
       "207                        VEVO       20M            0.432\n",
       "428                MartinGarrix     14.3M            0.431\n",
       "934                Talent Recap      9.5M            0.356\n",
       "436            OfficialTrapCity     14.1M            0.328\n",
       "163                ColdplayVEVO     22.8M            0.321\n",
       "218              BeckyGOfficial     19.8M            0.316\n",
       "100                   latenight     29.3M            0.311\n",
       "126           WorldStarHipHopTV     25.8M            0.292\n",
       "99                   SpinninRec     29.5M            0.247\n",
       "345                  DopeLyrics     15.7M            0.206\n",
       "224                        Mnet     19.4M            0.174\n",
       "907             singkingkaraoke      9.7M            0.113\n",
       "105                UltraRecords     28.3M            0.113\n",
       "895                 OneRepublic      9.7M            0.110\n",
       "569              Meghan Trainor     12.3M            0.098\n",
       "886                 htv2channel      9.8M            0.088\n",
       "790                  CJENMMUSIC     10.5M            0.087\n",
       "960                 POPSVIETNAM      9.4M            0.084\n",
       "505              AtlanticVideos     13.1M            0.076\n",
       "848                         MTV     10.1M            0.070"
      ]
     },
     "execution_count": 73,
     "metadata": {},
     "output_type": "execute_result"
    }
   ],
   "source": [
    "for_mini_followers_youtube('United States','Music & Dance')"
   ]
  },
  {
   "cell_type": "code",
   "execution_count": 74,
   "id": "39f59c4b",
   "metadata": {
    "execution": {
     "iopub.execute_input": "2022-04-23T06:31:20.329066Z",
     "iopub.status.busy": "2022-04-23T06:31:20.328541Z",
     "iopub.status.idle": "2022-04-23T06:31:20.333151Z",
     "shell.execute_reply": "2022-04-23T06:31:20.332541Z"
    },
    "papermill": {
     "duration": 0.095374,
     "end_time": "2022-04-23T06:31:20.334976",
     "exception": false,
     "start_time": "2022-04-23T06:31:20.239602",
     "status": "completed"
    },
    "tags": []
   },
   "outputs": [],
   "source": [
    "def for_mega_followers_youtube(coun,cat):\n",
    "    df1=df_y[df_y['Audience Country']==coun]\n",
    "    df1_mini=df1[df1['newFollowers']>30]\n",
    "    return df1_mini.sort_values(by='Engagement rate',ascending=False).groupby('Category').get_group(cat).iloc[:,[0,3,-1]]\n",
    "    \n",
    "    "
   ]
  },
  {
   "cell_type": "code",
   "execution_count": 75,
   "id": "a9a7b471",
   "metadata": {
    "execution": {
     "iopub.execute_input": "2022-04-23T06:31:20.516883Z",
     "iopub.status.busy": "2022-04-23T06:31:20.516374Z",
     "iopub.status.idle": "2022-04-23T06:31:20.528772Z",
     "shell.execute_reply": "2022-04-23T06:31:20.527866Z"
    },
    "papermill": {
     "duration": 0.107721,
     "end_time": "2022-04-23T06:31:20.530788",
     "exception": false,
     "start_time": "2022-04-23T06:31:20.423067",
     "status": "completed"
    },
    "tags": []
   },
   "outputs": [
    {
     "data": {
      "text/html": [
       "<div>\n",
       "<style scoped>\n",
       "    .dataframe tbody tr th:only-of-type {\n",
       "        vertical-align: middle;\n",
       "    }\n",
       "\n",
       "    .dataframe tbody tr th {\n",
       "        vertical-align: top;\n",
       "    }\n",
       "\n",
       "    .dataframe thead th {\n",
       "        text-align: right;\n",
       "    }\n",
       "</style>\n",
       "<table border=\"1\" class=\"dataframe\">\n",
       "  <thead>\n",
       "    <tr style=\"text-align: right;\">\n",
       "      <th></th>\n",
       "      <th>instagram name</th>\n",
       "      <th>Followers</th>\n",
       "      <th>Engagement Rate</th>\n",
       "    </tr>\n",
       "  </thead>\n",
       "  <tbody>\n",
       "    <tr>\n",
       "      <th>676</th>\n",
       "      <td>NJ 🇧🇷</td>\n",
       "      <td>172M</td>\n",
       "      <td>1.337</td>\n",
       "    </tr>\n",
       "    <tr>\n",
       "      <th>789</th>\n",
       "      <td>Ronaldo de Assis Moreira</td>\n",
       "      <td>65.1M</td>\n",
       "      <td>0.487</td>\n",
       "    </tr>\n",
       "    <tr>\n",
       "      <th>177</th>\n",
       "      <td>UEFA Champions League</td>\n",
       "      <td>91.4M</td>\n",
       "      <td>0.377</td>\n",
       "    </tr>\n",
       "  </tbody>\n",
       "</table>\n",
       "</div>"
      ],
      "text/plain": [
       "               instagram name Followers  Engagement Rate\n",
       "676                     NJ 🇧🇷      172M            1.337\n",
       "789  Ronaldo de Assis Moreira     65.1M            0.487\n",
       "177     UEFA Champions League     91.4M            0.377"
      ]
     },
     "execution_count": 75,
     "metadata": {},
     "output_type": "execute_result"
    }
   ],
   "source": [
    "for_mega_followers_instagram('Brazil','Sports with a ball')"
   ]
  },
  {
   "cell_type": "code",
   "execution_count": 76,
   "id": "67ead204",
   "metadata": {
    "execution": {
     "iopub.execute_input": "2022-04-23T06:31:20.715023Z",
     "iopub.status.busy": "2022-04-23T06:31:20.714535Z",
     "iopub.status.idle": "2022-04-23T06:31:20.718098Z",
     "shell.execute_reply": "2022-04-23T06:31:20.717306Z"
    },
    "papermill": {
     "duration": 0.098637,
     "end_time": "2022-04-23T06:31:20.720016",
     "exception": false,
     "start_time": "2022-04-23T06:31:20.621379",
     "status": "completed"
    },
    "tags": []
   },
   "outputs": [],
   "source": [
    "# df_y['Category'].value_counts()"
   ]
  },
  {
   "cell_type": "code",
   "execution_count": 77,
   "id": "426e20fc",
   "metadata": {
    "execution": {
     "iopub.execute_input": "2022-04-23T06:31:20.907963Z",
     "iopub.status.busy": "2022-04-23T06:31:20.907410Z",
     "iopub.status.idle": "2022-04-23T06:31:20.922897Z",
     "shell.execute_reply": "2022-04-23T06:31:20.921950Z"
    },
    "papermill": {
     "duration": 0.114376,
     "end_time": "2022-04-23T06:31:20.925262",
     "exception": false,
     "start_time": "2022-04-23T06:31:20.810886",
     "status": "completed"
    },
    "tags": []
   },
   "outputs": [
    {
     "data": {
      "text/html": [
       "<div>\n",
       "<style scoped>\n",
       "    .dataframe tbody tr th:only-of-type {\n",
       "        vertical-align: middle;\n",
       "    }\n",
       "\n",
       "    .dataframe tbody tr th {\n",
       "        vertical-align: top;\n",
       "    }\n",
       "\n",
       "    .dataframe thead th {\n",
       "        text-align: right;\n",
       "    }\n",
       "</style>\n",
       "<table border=\"1\" class=\"dataframe\">\n",
       "  <thead>\n",
       "    <tr style=\"text-align: right;\">\n",
       "      <th></th>\n",
       "      <th>youtuber name</th>\n",
       "      <th>Followers</th>\n",
       "      <th>Engagement rate</th>\n",
       "    </tr>\n",
       "  </thead>\n",
       "  <tbody>\n",
       "    <tr>\n",
       "      <th>15</th>\n",
       "      <td>sabtv</td>\n",
       "      <td>64.9M</td>\n",
       "      <td>0.073</td>\n",
       "    </tr>\n",
       "  </tbody>\n",
       "</table>\n",
       "</div>"
      ],
      "text/plain": [
       "   youtuber name Followers  Engagement rate\n",
       "15         sabtv     64.9M            0.073"
      ]
     },
     "execution_count": 77,
     "metadata": {},
     "output_type": "execute_result"
    }
   ],
   "source": [
    "for_mega_followers_youtube('India','Movies')"
   ]
  }
 ],
 "metadata": {
  "kernelspec": {
   "display_name": "Python 3",
   "language": "python",
   "name": "python3"
  },
  "language_info": {
   "codemirror_mode": {
    "name": "ipython",
    "version": 3
   },
   "file_extension": ".py",
   "mimetype": "text/x-python",
   "name": "python",
   "nbconvert_exporter": "python",
   "pygments_lexer": "ipython3",
   "version": "3.7.12"
  },
  "papermill": {
   "default_parameters": {},
   "duration": 29.504625,
   "end_time": "2022-04-23T06:31:21.736795",
   "environment_variables": {},
   "exception": null,
   "input_path": "__notebook__.ipynb",
   "output_path": "__notebook__.ipynb",
   "parameters": {},
   "start_time": "2022-04-23T06:30:52.232170",
   "version": "2.3.4"
  }
 },
 "nbformat": 4,
 "nbformat_minor": 5
}
